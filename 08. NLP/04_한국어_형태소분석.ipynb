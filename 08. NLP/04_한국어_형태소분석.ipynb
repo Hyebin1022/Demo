{
  "nbformat": 4,
  "nbformat_minor": 0,
  "metadata": {
    "colab": {
      "provenance": [],
      "gpuType": "T4"
    },
    "kernelspec": {
      "name": "python3",
      "display_name": "Python 3"
    },
    "language_info": {
      "name": "python"
    },
    "widgets": {
      "application/vnd.jupyter.widget-state+json": {
        "54b51225745c49bdb5a44e42adc4b579": {
          "model_module": "@jupyter-widgets/controls",
          "model_name": "HBoxModel",
          "model_module_version": "1.5.0",
          "state": {
            "_dom_classes": [],
            "_model_module": "@jupyter-widgets/controls",
            "_model_module_version": "1.5.0",
            "_model_name": "HBoxModel",
            "_view_count": null,
            "_view_module": "@jupyter-widgets/controls",
            "_view_module_version": "1.5.0",
            "_view_name": "HBoxView",
            "box_style": "",
            "children": [
              "IPY_MODEL_85c2ec2dfa1a48e492af955389e86112",
              "IPY_MODEL_aa68b61a57604f9683092f12148e1721",
              "IPY_MODEL_74bb9847645d4c9094708b87ab177a31"
            ],
            "layout": "IPY_MODEL_915e308e3b4844c9b3ad5278f2a708e6"
          }
        },
        "85c2ec2dfa1a48e492af955389e86112": {
          "model_module": "@jupyter-widgets/controls",
          "model_name": "HTMLModel",
          "model_module_version": "1.5.0",
          "state": {
            "_dom_classes": [],
            "_model_module": "@jupyter-widgets/controls",
            "_model_module_version": "1.5.0",
            "_model_name": "HTMLModel",
            "_view_count": null,
            "_view_module": "@jupyter-widgets/controls",
            "_view_module_version": "1.5.0",
            "_view_name": "HTMLView",
            "description": "",
            "description_tooltip": null,
            "layout": "IPY_MODEL_9c01c0d051e84a40b2ef337896d4f183",
            "placeholder": "​",
            "style": "IPY_MODEL_c907c685cd73448ba3db01f15b0632d6",
            "value": "100%"
          }
        },
        "aa68b61a57604f9683092f12148e1721": {
          "model_module": "@jupyter-widgets/controls",
          "model_name": "FloatProgressModel",
          "model_module_version": "1.5.0",
          "state": {
            "_dom_classes": [],
            "_model_module": "@jupyter-widgets/controls",
            "_model_module_version": "1.5.0",
            "_model_name": "FloatProgressModel",
            "_view_count": null,
            "_view_module": "@jupyter-widgets/controls",
            "_view_module_version": "1.5.0",
            "_view_name": "ProgressView",
            "bar_style": "success",
            "description": "",
            "description_tooltip": null,
            "layout": "IPY_MODEL_b5506774ae034dc0a5229d2b8e15edce",
            "max": 2000,
            "min": 0,
            "orientation": "horizontal",
            "style": "IPY_MODEL_948c7edcd2a34bfbb2f6d9af3c237542",
            "value": 2000
          }
        },
        "74bb9847645d4c9094708b87ab177a31": {
          "model_module": "@jupyter-widgets/controls",
          "model_name": "HTMLModel",
          "model_module_version": "1.5.0",
          "state": {
            "_dom_classes": [],
            "_model_module": "@jupyter-widgets/controls",
            "_model_module_version": "1.5.0",
            "_model_name": "HTMLModel",
            "_view_count": null,
            "_view_module": "@jupyter-widgets/controls",
            "_view_module_version": "1.5.0",
            "_view_name": "HTMLView",
            "description": "",
            "description_tooltip": null,
            "layout": "IPY_MODEL_43e3e328b32d4c20941f90cee9e11066",
            "placeholder": "​",
            "style": "IPY_MODEL_9584d1ddad95474ca147c3983eabb48a",
            "value": " 2000/2000 [00:06&lt;00:00, 417.82it/s]"
          }
        },
        "915e308e3b4844c9b3ad5278f2a708e6": {
          "model_module": "@jupyter-widgets/base",
          "model_name": "LayoutModel",
          "model_module_version": "1.2.0",
          "state": {
            "_model_module": "@jupyter-widgets/base",
            "_model_module_version": "1.2.0",
            "_model_name": "LayoutModel",
            "_view_count": null,
            "_view_module": "@jupyter-widgets/base",
            "_view_module_version": "1.2.0",
            "_view_name": "LayoutView",
            "align_content": null,
            "align_items": null,
            "align_self": null,
            "border": null,
            "bottom": null,
            "display": null,
            "flex": null,
            "flex_flow": null,
            "grid_area": null,
            "grid_auto_columns": null,
            "grid_auto_flow": null,
            "grid_auto_rows": null,
            "grid_column": null,
            "grid_gap": null,
            "grid_row": null,
            "grid_template_areas": null,
            "grid_template_columns": null,
            "grid_template_rows": null,
            "height": null,
            "justify_content": null,
            "justify_items": null,
            "left": null,
            "margin": null,
            "max_height": null,
            "max_width": null,
            "min_height": null,
            "min_width": null,
            "object_fit": null,
            "object_position": null,
            "order": null,
            "overflow": null,
            "overflow_x": null,
            "overflow_y": null,
            "padding": null,
            "right": null,
            "top": null,
            "visibility": null,
            "width": null
          }
        },
        "9c01c0d051e84a40b2ef337896d4f183": {
          "model_module": "@jupyter-widgets/base",
          "model_name": "LayoutModel",
          "model_module_version": "1.2.0",
          "state": {
            "_model_module": "@jupyter-widgets/base",
            "_model_module_version": "1.2.0",
            "_model_name": "LayoutModel",
            "_view_count": null,
            "_view_module": "@jupyter-widgets/base",
            "_view_module_version": "1.2.0",
            "_view_name": "LayoutView",
            "align_content": null,
            "align_items": null,
            "align_self": null,
            "border": null,
            "bottom": null,
            "display": null,
            "flex": null,
            "flex_flow": null,
            "grid_area": null,
            "grid_auto_columns": null,
            "grid_auto_flow": null,
            "grid_auto_rows": null,
            "grid_column": null,
            "grid_gap": null,
            "grid_row": null,
            "grid_template_areas": null,
            "grid_template_columns": null,
            "grid_template_rows": null,
            "height": null,
            "justify_content": null,
            "justify_items": null,
            "left": null,
            "margin": null,
            "max_height": null,
            "max_width": null,
            "min_height": null,
            "min_width": null,
            "object_fit": null,
            "object_position": null,
            "order": null,
            "overflow": null,
            "overflow_x": null,
            "overflow_y": null,
            "padding": null,
            "right": null,
            "top": null,
            "visibility": null,
            "width": null
          }
        },
        "c907c685cd73448ba3db01f15b0632d6": {
          "model_module": "@jupyter-widgets/controls",
          "model_name": "DescriptionStyleModel",
          "model_module_version": "1.5.0",
          "state": {
            "_model_module": "@jupyter-widgets/controls",
            "_model_module_version": "1.5.0",
            "_model_name": "DescriptionStyleModel",
            "_view_count": null,
            "_view_module": "@jupyter-widgets/base",
            "_view_module_version": "1.2.0",
            "_view_name": "StyleView",
            "description_width": ""
          }
        },
        "b5506774ae034dc0a5229d2b8e15edce": {
          "model_module": "@jupyter-widgets/base",
          "model_name": "LayoutModel",
          "model_module_version": "1.2.0",
          "state": {
            "_model_module": "@jupyter-widgets/base",
            "_model_module_version": "1.2.0",
            "_model_name": "LayoutModel",
            "_view_count": null,
            "_view_module": "@jupyter-widgets/base",
            "_view_module_version": "1.2.0",
            "_view_name": "LayoutView",
            "align_content": null,
            "align_items": null,
            "align_self": null,
            "border": null,
            "bottom": null,
            "display": null,
            "flex": null,
            "flex_flow": null,
            "grid_area": null,
            "grid_auto_columns": null,
            "grid_auto_flow": null,
            "grid_auto_rows": null,
            "grid_column": null,
            "grid_gap": null,
            "grid_row": null,
            "grid_template_areas": null,
            "grid_template_columns": null,
            "grid_template_rows": null,
            "height": null,
            "justify_content": null,
            "justify_items": null,
            "left": null,
            "margin": null,
            "max_height": null,
            "max_width": null,
            "min_height": null,
            "min_width": null,
            "object_fit": null,
            "object_position": null,
            "order": null,
            "overflow": null,
            "overflow_x": null,
            "overflow_y": null,
            "padding": null,
            "right": null,
            "top": null,
            "visibility": null,
            "width": null
          }
        },
        "948c7edcd2a34bfbb2f6d9af3c237542": {
          "model_module": "@jupyter-widgets/controls",
          "model_name": "ProgressStyleModel",
          "model_module_version": "1.5.0",
          "state": {
            "_model_module": "@jupyter-widgets/controls",
            "_model_module_version": "1.5.0",
            "_model_name": "ProgressStyleModel",
            "_view_count": null,
            "_view_module": "@jupyter-widgets/base",
            "_view_module_version": "1.2.0",
            "_view_name": "StyleView",
            "bar_color": null,
            "description_width": ""
          }
        },
        "43e3e328b32d4c20941f90cee9e11066": {
          "model_module": "@jupyter-widgets/base",
          "model_name": "LayoutModel",
          "model_module_version": "1.2.0",
          "state": {
            "_model_module": "@jupyter-widgets/base",
            "_model_module_version": "1.2.0",
            "_model_name": "LayoutModel",
            "_view_count": null,
            "_view_module": "@jupyter-widgets/base",
            "_view_module_version": "1.2.0",
            "_view_name": "LayoutView",
            "align_content": null,
            "align_items": null,
            "align_self": null,
            "border": null,
            "bottom": null,
            "display": null,
            "flex": null,
            "flex_flow": null,
            "grid_area": null,
            "grid_auto_columns": null,
            "grid_auto_flow": null,
            "grid_auto_rows": null,
            "grid_column": null,
            "grid_gap": null,
            "grid_row": null,
            "grid_template_areas": null,
            "grid_template_columns": null,
            "grid_template_rows": null,
            "height": null,
            "justify_content": null,
            "justify_items": null,
            "left": null,
            "margin": null,
            "max_height": null,
            "max_width": null,
            "min_height": null,
            "min_width": null,
            "object_fit": null,
            "object_position": null,
            "order": null,
            "overflow": null,
            "overflow_x": null,
            "overflow_y": null,
            "padding": null,
            "right": null,
            "top": null,
            "visibility": null,
            "width": null
          }
        },
        "9584d1ddad95474ca147c3983eabb48a": {
          "model_module": "@jupyter-widgets/controls",
          "model_name": "DescriptionStyleModel",
          "model_module_version": "1.5.0",
          "state": {
            "_model_module": "@jupyter-widgets/controls",
            "_model_module_version": "1.5.0",
            "_model_name": "DescriptionStyleModel",
            "_view_count": null,
            "_view_module": "@jupyter-widgets/base",
            "_view_module_version": "1.2.0",
            "_view_name": "StyleView",
            "description_width": ""
          }
        },
        "34c7da828a5d4dbea1f25e64ba04c58d": {
          "model_module": "@jupyter-widgets/controls",
          "model_name": "HBoxModel",
          "model_module_version": "1.5.0",
          "state": {
            "_dom_classes": [],
            "_model_module": "@jupyter-widgets/controls",
            "_model_module_version": "1.5.0",
            "_model_name": "HBoxModel",
            "_view_count": null,
            "_view_module": "@jupyter-widgets/controls",
            "_view_module_version": "1.5.0",
            "_view_name": "HBoxView",
            "box_style": "",
            "children": [
              "IPY_MODEL_85e4d1098cc64e0fbe6033cfdef11627",
              "IPY_MODEL_14eace2a75fb41daacc79e39f27c5ff7",
              "IPY_MODEL_cfe766470340432b93d0b77b57aff090"
            ],
            "layout": "IPY_MODEL_8b4a99ba26fc4ae09802c3652a67eb4c"
          }
        },
        "85e4d1098cc64e0fbe6033cfdef11627": {
          "model_module": "@jupyter-widgets/controls",
          "model_name": "HTMLModel",
          "model_module_version": "1.5.0",
          "state": {
            "_dom_classes": [],
            "_model_module": "@jupyter-widgets/controls",
            "_model_module_version": "1.5.0",
            "_model_name": "HTMLModel",
            "_view_count": null,
            "_view_module": "@jupyter-widgets/controls",
            "_view_module_version": "1.5.0",
            "_view_name": "HTMLView",
            "description": "",
            "description_tooltip": null,
            "layout": "IPY_MODEL_44ee11328884435883e5c9ba9d9a386e",
            "placeholder": "​",
            "style": "IPY_MODEL_33ef1ec204f347848b3e11ed772579a0",
            "value": "100%"
          }
        },
        "14eace2a75fb41daacc79e39f27c5ff7": {
          "model_module": "@jupyter-widgets/controls",
          "model_name": "FloatProgressModel",
          "model_module_version": "1.5.0",
          "state": {
            "_dom_classes": [],
            "_model_module": "@jupyter-widgets/controls",
            "_model_module_version": "1.5.0",
            "_model_name": "FloatProgressModel",
            "_view_count": null,
            "_view_module": "@jupyter-widgets/controls",
            "_view_module_version": "1.5.0",
            "_view_name": "ProgressView",
            "bar_style": "success",
            "description": "",
            "description_tooltip": null,
            "layout": "IPY_MODEL_96b07d3879b74ec28f42ed23c008df04",
            "max": 2000,
            "min": 0,
            "orientation": "horizontal",
            "style": "IPY_MODEL_a56290cb9cc849fcae795f64b4c6a59f",
            "value": 2000
          }
        },
        "cfe766470340432b93d0b77b57aff090": {
          "model_module": "@jupyter-widgets/controls",
          "model_name": "HTMLModel",
          "model_module_version": "1.5.0",
          "state": {
            "_dom_classes": [],
            "_model_module": "@jupyter-widgets/controls",
            "_model_module_version": "1.5.0",
            "_model_name": "HTMLModel",
            "_view_count": null,
            "_view_module": "@jupyter-widgets/controls",
            "_view_module_version": "1.5.0",
            "_view_name": "HTMLView",
            "description": "",
            "description_tooltip": null,
            "layout": "IPY_MODEL_8fc8d97943bf46e597e92fe8aad0d57f",
            "placeholder": "​",
            "style": "IPY_MODEL_b50044ecc58345b1b8faa38b2c95e52a",
            "value": " 2000/2000 [00:00&lt;00:00, 2432.19it/s]"
          }
        },
        "8b4a99ba26fc4ae09802c3652a67eb4c": {
          "model_module": "@jupyter-widgets/base",
          "model_name": "LayoutModel",
          "model_module_version": "1.2.0",
          "state": {
            "_model_module": "@jupyter-widgets/base",
            "_model_module_version": "1.2.0",
            "_model_name": "LayoutModel",
            "_view_count": null,
            "_view_module": "@jupyter-widgets/base",
            "_view_module_version": "1.2.0",
            "_view_name": "LayoutView",
            "align_content": null,
            "align_items": null,
            "align_self": null,
            "border": null,
            "bottom": null,
            "display": null,
            "flex": null,
            "flex_flow": null,
            "grid_area": null,
            "grid_auto_columns": null,
            "grid_auto_flow": null,
            "grid_auto_rows": null,
            "grid_column": null,
            "grid_gap": null,
            "grid_row": null,
            "grid_template_areas": null,
            "grid_template_columns": null,
            "grid_template_rows": null,
            "height": null,
            "justify_content": null,
            "justify_items": null,
            "left": null,
            "margin": null,
            "max_height": null,
            "max_width": null,
            "min_height": null,
            "min_width": null,
            "object_fit": null,
            "object_position": null,
            "order": null,
            "overflow": null,
            "overflow_x": null,
            "overflow_y": null,
            "padding": null,
            "right": null,
            "top": null,
            "visibility": null,
            "width": null
          }
        },
        "44ee11328884435883e5c9ba9d9a386e": {
          "model_module": "@jupyter-widgets/base",
          "model_name": "LayoutModel",
          "model_module_version": "1.2.0",
          "state": {
            "_model_module": "@jupyter-widgets/base",
            "_model_module_version": "1.2.0",
            "_model_name": "LayoutModel",
            "_view_count": null,
            "_view_module": "@jupyter-widgets/base",
            "_view_module_version": "1.2.0",
            "_view_name": "LayoutView",
            "align_content": null,
            "align_items": null,
            "align_self": null,
            "border": null,
            "bottom": null,
            "display": null,
            "flex": null,
            "flex_flow": null,
            "grid_area": null,
            "grid_auto_columns": null,
            "grid_auto_flow": null,
            "grid_auto_rows": null,
            "grid_column": null,
            "grid_gap": null,
            "grid_row": null,
            "grid_template_areas": null,
            "grid_template_columns": null,
            "grid_template_rows": null,
            "height": null,
            "justify_content": null,
            "justify_items": null,
            "left": null,
            "margin": null,
            "max_height": null,
            "max_width": null,
            "min_height": null,
            "min_width": null,
            "object_fit": null,
            "object_position": null,
            "order": null,
            "overflow": null,
            "overflow_x": null,
            "overflow_y": null,
            "padding": null,
            "right": null,
            "top": null,
            "visibility": null,
            "width": null
          }
        },
        "33ef1ec204f347848b3e11ed772579a0": {
          "model_module": "@jupyter-widgets/controls",
          "model_name": "DescriptionStyleModel",
          "model_module_version": "1.5.0",
          "state": {
            "_model_module": "@jupyter-widgets/controls",
            "_model_module_version": "1.5.0",
            "_model_name": "DescriptionStyleModel",
            "_view_count": null,
            "_view_module": "@jupyter-widgets/base",
            "_view_module_version": "1.2.0",
            "_view_name": "StyleView",
            "description_width": ""
          }
        },
        "96b07d3879b74ec28f42ed23c008df04": {
          "model_module": "@jupyter-widgets/base",
          "model_name": "LayoutModel",
          "model_module_version": "1.2.0",
          "state": {
            "_model_module": "@jupyter-widgets/base",
            "_model_module_version": "1.2.0",
            "_model_name": "LayoutModel",
            "_view_count": null,
            "_view_module": "@jupyter-widgets/base",
            "_view_module_version": "1.2.0",
            "_view_name": "LayoutView",
            "align_content": null,
            "align_items": null,
            "align_self": null,
            "border": null,
            "bottom": null,
            "display": null,
            "flex": null,
            "flex_flow": null,
            "grid_area": null,
            "grid_auto_columns": null,
            "grid_auto_flow": null,
            "grid_auto_rows": null,
            "grid_column": null,
            "grid_gap": null,
            "grid_row": null,
            "grid_template_areas": null,
            "grid_template_columns": null,
            "grid_template_rows": null,
            "height": null,
            "justify_content": null,
            "justify_items": null,
            "left": null,
            "margin": null,
            "max_height": null,
            "max_width": null,
            "min_height": null,
            "min_width": null,
            "object_fit": null,
            "object_position": null,
            "order": null,
            "overflow": null,
            "overflow_x": null,
            "overflow_y": null,
            "padding": null,
            "right": null,
            "top": null,
            "visibility": null,
            "width": null
          }
        },
        "a56290cb9cc849fcae795f64b4c6a59f": {
          "model_module": "@jupyter-widgets/controls",
          "model_name": "ProgressStyleModel",
          "model_module_version": "1.5.0",
          "state": {
            "_model_module": "@jupyter-widgets/controls",
            "_model_module_version": "1.5.0",
            "_model_name": "ProgressStyleModel",
            "_view_count": null,
            "_view_module": "@jupyter-widgets/base",
            "_view_module_version": "1.2.0",
            "_view_name": "StyleView",
            "bar_color": null,
            "description_width": ""
          }
        },
        "8fc8d97943bf46e597e92fe8aad0d57f": {
          "model_module": "@jupyter-widgets/base",
          "model_name": "LayoutModel",
          "model_module_version": "1.2.0",
          "state": {
            "_model_module": "@jupyter-widgets/base",
            "_model_module_version": "1.2.0",
            "_model_name": "LayoutModel",
            "_view_count": null,
            "_view_module": "@jupyter-widgets/base",
            "_view_module_version": "1.2.0",
            "_view_name": "LayoutView",
            "align_content": null,
            "align_items": null,
            "align_self": null,
            "border": null,
            "bottom": null,
            "display": null,
            "flex": null,
            "flex_flow": null,
            "grid_area": null,
            "grid_auto_columns": null,
            "grid_auto_flow": null,
            "grid_auto_rows": null,
            "grid_column": null,
            "grid_gap": null,
            "grid_row": null,
            "grid_template_areas": null,
            "grid_template_columns": null,
            "grid_template_rows": null,
            "height": null,
            "justify_content": null,
            "justify_items": null,
            "left": null,
            "margin": null,
            "max_height": null,
            "max_width": null,
            "min_height": null,
            "min_width": null,
            "object_fit": null,
            "object_position": null,
            "order": null,
            "overflow": null,
            "overflow_x": null,
            "overflow_y": null,
            "padding": null,
            "right": null,
            "top": null,
            "visibility": null,
            "width": null
          }
        },
        "b50044ecc58345b1b8faa38b2c95e52a": {
          "model_module": "@jupyter-widgets/controls",
          "model_name": "DescriptionStyleModel",
          "model_module_version": "1.5.0",
          "state": {
            "_model_module": "@jupyter-widgets/controls",
            "_model_module_version": "1.5.0",
            "_model_name": "DescriptionStyleModel",
            "_view_count": null,
            "_view_module": "@jupyter-widgets/base",
            "_view_module_version": "1.2.0",
            "_view_name": "StyleView",
            "description_width": ""
          }
        },
        "798d99663f45465bb9f1586fb1fd5ef7": {
          "model_module": "@jupyter-widgets/controls",
          "model_name": "HBoxModel",
          "model_module_version": "1.5.0",
          "state": {
            "_dom_classes": [],
            "_model_module": "@jupyter-widgets/controls",
            "_model_module_version": "1.5.0",
            "_model_name": "HBoxModel",
            "_view_count": null,
            "_view_module": "@jupyter-widgets/controls",
            "_view_module_version": "1.5.0",
            "_view_name": "HBoxView",
            "box_style": "",
            "children": [
              "IPY_MODEL_11b4e8ac2b1641328353636c53c21701",
              "IPY_MODEL_07db0cdcac4e489480e4ee7dd2e3f266",
              "IPY_MODEL_13717bd9f9704a9db4d9d1f284ec637c"
            ],
            "layout": "IPY_MODEL_7d8ab984201643b48e4b93e933603c9b"
          }
        },
        "11b4e8ac2b1641328353636c53c21701": {
          "model_module": "@jupyter-widgets/controls",
          "model_name": "HTMLModel",
          "model_module_version": "1.5.0",
          "state": {
            "_dom_classes": [],
            "_model_module": "@jupyter-widgets/controls",
            "_model_module_version": "1.5.0",
            "_model_name": "HTMLModel",
            "_view_count": null,
            "_view_module": "@jupyter-widgets/controls",
            "_view_module_version": "1.5.0",
            "_view_name": "HTMLView",
            "description": "",
            "description_tooltip": null,
            "layout": "IPY_MODEL_f236a8112f5c4ffd8a9bf795407c1998",
            "placeholder": "​",
            "style": "IPY_MODEL_1899fbcb91cf4e0da58aef94ee399caf",
            "value": "  7%"
          }
        },
        "07db0cdcac4e489480e4ee7dd2e3f266": {
          "model_module": "@jupyter-widgets/controls",
          "model_name": "FloatProgressModel",
          "model_module_version": "1.5.0",
          "state": {
            "_dom_classes": [],
            "_model_module": "@jupyter-widgets/controls",
            "_model_module_version": "1.5.0",
            "_model_name": "FloatProgressModel",
            "_view_count": null,
            "_view_module": "@jupyter-widgets/controls",
            "_view_module_version": "1.5.0",
            "_view_name": "ProgressView",
            "bar_style": "danger",
            "description": "",
            "description_tooltip": null,
            "layout": "IPY_MODEL_d15a139ec56e42dda3b997fdc4ef425c",
            "max": 100,
            "min": 0,
            "orientation": "horizontal",
            "style": "IPY_MODEL_3d2c8fea017b4897b98efef711b52065",
            "value": 7
          }
        },
        "13717bd9f9704a9db4d9d1f284ec637c": {
          "model_module": "@jupyter-widgets/controls",
          "model_name": "HTMLModel",
          "model_module_version": "1.5.0",
          "state": {
            "_dom_classes": [],
            "_model_module": "@jupyter-widgets/controls",
            "_model_module_version": "1.5.0",
            "_model_name": "HTMLModel",
            "_view_count": null,
            "_view_module": "@jupyter-widgets/controls",
            "_view_module_version": "1.5.0",
            "_view_name": "HTMLView",
            "description": "",
            "description_tooltip": null,
            "layout": "IPY_MODEL_929a7868aa1f4757b0a99d16d3b82efa",
            "placeholder": "​",
            "style": "IPY_MODEL_f671a8ce899648f48a0182e003caff1f",
            "value": " 7/100 [00:04&lt;00:51,  1.81it/s]"
          }
        },
        "7d8ab984201643b48e4b93e933603c9b": {
          "model_module": "@jupyter-widgets/base",
          "model_name": "LayoutModel",
          "model_module_version": "1.2.0",
          "state": {
            "_model_module": "@jupyter-widgets/base",
            "_model_module_version": "1.2.0",
            "_model_name": "LayoutModel",
            "_view_count": null,
            "_view_module": "@jupyter-widgets/base",
            "_view_module_version": "1.2.0",
            "_view_name": "LayoutView",
            "align_content": null,
            "align_items": null,
            "align_self": null,
            "border": null,
            "bottom": null,
            "display": null,
            "flex": null,
            "flex_flow": null,
            "grid_area": null,
            "grid_auto_columns": null,
            "grid_auto_flow": null,
            "grid_auto_rows": null,
            "grid_column": null,
            "grid_gap": null,
            "grid_row": null,
            "grid_template_areas": null,
            "grid_template_columns": null,
            "grid_template_rows": null,
            "height": null,
            "justify_content": null,
            "justify_items": null,
            "left": null,
            "margin": null,
            "max_height": null,
            "max_width": null,
            "min_height": null,
            "min_width": null,
            "object_fit": null,
            "object_position": null,
            "order": null,
            "overflow": null,
            "overflow_x": null,
            "overflow_y": null,
            "padding": null,
            "right": null,
            "top": null,
            "visibility": null,
            "width": null
          }
        },
        "f236a8112f5c4ffd8a9bf795407c1998": {
          "model_module": "@jupyter-widgets/base",
          "model_name": "LayoutModel",
          "model_module_version": "1.2.0",
          "state": {
            "_model_module": "@jupyter-widgets/base",
            "_model_module_version": "1.2.0",
            "_model_name": "LayoutModel",
            "_view_count": null,
            "_view_module": "@jupyter-widgets/base",
            "_view_module_version": "1.2.0",
            "_view_name": "LayoutView",
            "align_content": null,
            "align_items": null,
            "align_self": null,
            "border": null,
            "bottom": null,
            "display": null,
            "flex": null,
            "flex_flow": null,
            "grid_area": null,
            "grid_auto_columns": null,
            "grid_auto_flow": null,
            "grid_auto_rows": null,
            "grid_column": null,
            "grid_gap": null,
            "grid_row": null,
            "grid_template_areas": null,
            "grid_template_columns": null,
            "grid_template_rows": null,
            "height": null,
            "justify_content": null,
            "justify_items": null,
            "left": null,
            "margin": null,
            "max_height": null,
            "max_width": null,
            "min_height": null,
            "min_width": null,
            "object_fit": null,
            "object_position": null,
            "order": null,
            "overflow": null,
            "overflow_x": null,
            "overflow_y": null,
            "padding": null,
            "right": null,
            "top": null,
            "visibility": null,
            "width": null
          }
        },
        "1899fbcb91cf4e0da58aef94ee399caf": {
          "model_module": "@jupyter-widgets/controls",
          "model_name": "DescriptionStyleModel",
          "model_module_version": "1.5.0",
          "state": {
            "_model_module": "@jupyter-widgets/controls",
            "_model_module_version": "1.5.0",
            "_model_name": "DescriptionStyleModel",
            "_view_count": null,
            "_view_module": "@jupyter-widgets/base",
            "_view_module_version": "1.2.0",
            "_view_name": "StyleView",
            "description_width": ""
          }
        },
        "d15a139ec56e42dda3b997fdc4ef425c": {
          "model_module": "@jupyter-widgets/base",
          "model_name": "LayoutModel",
          "model_module_version": "1.2.0",
          "state": {
            "_model_module": "@jupyter-widgets/base",
            "_model_module_version": "1.2.0",
            "_model_name": "LayoutModel",
            "_view_count": null,
            "_view_module": "@jupyter-widgets/base",
            "_view_module_version": "1.2.0",
            "_view_name": "LayoutView",
            "align_content": null,
            "align_items": null,
            "align_self": null,
            "border": null,
            "bottom": null,
            "display": null,
            "flex": null,
            "flex_flow": null,
            "grid_area": null,
            "grid_auto_columns": null,
            "grid_auto_flow": null,
            "grid_auto_rows": null,
            "grid_column": null,
            "grid_gap": null,
            "grid_row": null,
            "grid_template_areas": null,
            "grid_template_columns": null,
            "grid_template_rows": null,
            "height": null,
            "justify_content": null,
            "justify_items": null,
            "left": null,
            "margin": null,
            "max_height": null,
            "max_width": null,
            "min_height": null,
            "min_width": null,
            "object_fit": null,
            "object_position": null,
            "order": null,
            "overflow": null,
            "overflow_x": null,
            "overflow_y": null,
            "padding": null,
            "right": null,
            "top": null,
            "visibility": null,
            "width": null
          }
        },
        "3d2c8fea017b4897b98efef711b52065": {
          "model_module": "@jupyter-widgets/controls",
          "model_name": "ProgressStyleModel",
          "model_module_version": "1.5.0",
          "state": {
            "_model_module": "@jupyter-widgets/controls",
            "_model_module_version": "1.5.0",
            "_model_name": "ProgressStyleModel",
            "_view_count": null,
            "_view_module": "@jupyter-widgets/base",
            "_view_module_version": "1.2.0",
            "_view_name": "StyleView",
            "bar_color": null,
            "description_width": ""
          }
        },
        "929a7868aa1f4757b0a99d16d3b82efa": {
          "model_module": "@jupyter-widgets/base",
          "model_name": "LayoutModel",
          "model_module_version": "1.2.0",
          "state": {
            "_model_module": "@jupyter-widgets/base",
            "_model_module_version": "1.2.0",
            "_model_name": "LayoutModel",
            "_view_count": null,
            "_view_module": "@jupyter-widgets/base",
            "_view_module_version": "1.2.0",
            "_view_name": "LayoutView",
            "align_content": null,
            "align_items": null,
            "align_self": null,
            "border": null,
            "bottom": null,
            "display": null,
            "flex": null,
            "flex_flow": null,
            "grid_area": null,
            "grid_auto_columns": null,
            "grid_auto_flow": null,
            "grid_auto_rows": null,
            "grid_column": null,
            "grid_gap": null,
            "grid_row": null,
            "grid_template_areas": null,
            "grid_template_columns": null,
            "grid_template_rows": null,
            "height": null,
            "justify_content": null,
            "justify_items": null,
            "left": null,
            "margin": null,
            "max_height": null,
            "max_width": null,
            "min_height": null,
            "min_width": null,
            "object_fit": null,
            "object_position": null,
            "order": null,
            "overflow": null,
            "overflow_x": null,
            "overflow_y": null,
            "padding": null,
            "right": null,
            "top": null,
            "visibility": null,
            "width": null
          }
        },
        "f671a8ce899648f48a0182e003caff1f": {
          "model_module": "@jupyter-widgets/controls",
          "model_name": "DescriptionStyleModel",
          "model_module_version": "1.5.0",
          "state": {
            "_model_module": "@jupyter-widgets/controls",
            "_model_module_version": "1.5.0",
            "_model_name": "DescriptionStyleModel",
            "_view_count": null,
            "_view_module": "@jupyter-widgets/base",
            "_view_module_version": "1.2.0",
            "_view_name": "StyleView",
            "description_width": ""
          }
        }
      }
    },
    "accelerator": "GPU"
  },
  "cells": [
    {
      "cell_type": "markdown",
      "source": [
        "# 모델 만드는 순서\n",
        "1. 문제 정의 (어떤 문제 해결할건지)\n",
        "2. 데이터 준비\n",
        "  - 데이터 분할\n",
        "3. 텍스트 전처리\n",
        "  - 토큰화\n",
        "  - 불용어 제거\n",
        "  - 정규화\n",
        "4. 숫자 벡터화\n",
        "  - TF-IDF\n",
        "5. 데이터셋 생성\n",
        "6. 모델 설계\n",
        "7. 모델 학습 : 데이터를 이용해 학습\n",
        "8. 모델 평가 : 검증 데이터로 성능 평가\n",
        "9. 모델 예측 및 활용"
      ],
      "metadata": {
        "id": "0cevqRgQ0kKC"
      }
    },
    {
      "cell_type": "code",
      "source": [
        "from google.colab import drive\n",
        "drive.mount('/content/drive')"
      ],
      "metadata": {
        "id": "DKIp6TcN0t5L",
        "colab": {
          "base_uri": "https://localhost:8080/"
        },
        "outputId": "a7e98357-64b3-4fd1-dffe-2a0d542dd24e"
      },
      "execution_count": 4,
      "outputs": [
        {
          "output_type": "stream",
          "name": "stdout",
          "text": [
            "Mounted at /content/drive\n"
          ]
        }
      ]
    },
    {
      "cell_type": "code",
      "source": [
        "import pandas as pd\n",
        "import numpy as np\n",
        "import torch\n",
        "from tqdm.auto import tqdm\n",
        "import random\n",
        "import os\n",
        "\n",
        "def reset_seeds(seed):\n",
        "    random.seed(seed)\n",
        "    os.environ['PYTHONHASHSEED'] = str(seed)\n",
        "    np.random.seed(seed)\n",
        "    torch.manual_seed(seed)\n",
        "    torch.cuda.manual_seed(seed)\n",
        "    torch.backends.cudnn.deterministic = True\n",
        "\n",
        "DATA_PATH = \"/content/drive/MyDrive/멋쟁이사자차럼/data/\"\n",
        "SEED = 42\n",
        "\n",
        "device = 'cuda' if torch.cuda.is_available() else 'cpu'\n",
        "device"
      ],
      "metadata": {
        "id": "tqsz0zu70wyR",
        "colab": {
          "base_uri": "https://localhost:8080/",
          "height": 35
        },
        "outputId": "7c2722d9-112c-4b6c-a2f3-db10783b9e27"
      },
      "execution_count": 5,
      "outputs": [
        {
          "output_type": "execute_result",
          "data": {
            "text/plain": [
              "'cuda'"
            ],
            "application/vnd.google.colaboratory.intrinsic+json": {
              "type": "string"
            }
          },
          "metadata": {},
          "execution_count": 5
        }
      ]
    },
    {
      "cell_type": "markdown",
      "source": [
        "# 네이버 영화 리뷰 데이터\n",
        "- 학습데이터\n",
        "    - https://drive.google.com/file/d/1B1TjJQPR2POtZmUxUC7yjo6SqcL200D3/view?usp=sharing\n",
        "- 테스트데이터\n",
        "    - https://drive.google.com/file/d/1EsqnKZ-UWELNq46UPJ8psoOEc4nZNKDK/view?usp=sharing\n",
        "- 긍정1, 부정0"
      ],
      "metadata": {
        "id": "yRM0Gf8shPVe"
      }
    },
    {
      "cell_type": "code",
      "source": [
        "train = pd.read_csv(f'{DATA_PATH}review_train.csv')\n",
        "test = pd.read_csv(f'{DATA_PATH}review_test.csv')"
      ],
      "metadata": {
        "id": "A5SgPW-icuVQ"
      },
      "execution_count": 6,
      "outputs": []
    },
    {
      "cell_type": "code",
      "source": [
        "train"
      ],
      "metadata": {
        "colab": {
          "base_uri": "https://localhost:8080/",
          "height": 423
        },
        "id": "GWP0lQX8c3R8",
        "outputId": "a164a82d-ce4d-4217-b6aa-7ab590c0d396"
      },
      "execution_count": 7,
      "outputs": [
        {
          "output_type": "execute_result",
          "data": {
            "text/plain": [
              "              id                               review  target\n",
              "0        train_0                  이런 최고의 영화를 이제서야 보다니       1\n",
              "1        train_1                      안봤지만 유승준나와서 비추.       0\n",
              "2        train_2              시대를 못 따라간 연출과 촌스러운 영상미.       0\n",
              "3        train_3                                원소전 굿       1\n",
              "4        train_4               ㅋㅋㅋㅋ 개봉영화평점단사람이1명 ㅋㅋㅋㅋ       1\n",
              "...          ...                                  ...     ...\n",
              "1995  train_1995  사랑하고싶은 영화♥ 바위같은 편견 사이로 스며드는 빗물같은 영화       1\n",
              "1996  train_1996                         0점은 줄수없구나...       0\n",
              "1997  train_1997                  진짜재미있어요 강추 차태현 꺄 봉필       1\n",
              "1998  train_1998                         잠입자 보다 재밌는데?       1\n",
              "1999  train_1999                         보다가감동...진짜울뻔       1\n",
              "\n",
              "[2000 rows x 3 columns]"
            ],
            "text/html": [
              "\n",
              "  <div id=\"df-d7ca0fb8-592c-4083-8b03-35c549be3412\" class=\"colab-df-container\">\n",
              "    <div>\n",
              "<style scoped>\n",
              "    .dataframe tbody tr th:only-of-type {\n",
              "        vertical-align: middle;\n",
              "    }\n",
              "\n",
              "    .dataframe tbody tr th {\n",
              "        vertical-align: top;\n",
              "    }\n",
              "\n",
              "    .dataframe thead th {\n",
              "        text-align: right;\n",
              "    }\n",
              "</style>\n",
              "<table border=\"1\" class=\"dataframe\">\n",
              "  <thead>\n",
              "    <tr style=\"text-align: right;\">\n",
              "      <th></th>\n",
              "      <th>id</th>\n",
              "      <th>review</th>\n",
              "      <th>target</th>\n",
              "    </tr>\n",
              "  </thead>\n",
              "  <tbody>\n",
              "    <tr>\n",
              "      <th>0</th>\n",
              "      <td>train_0</td>\n",
              "      <td>이런 최고의 영화를 이제서야 보다니</td>\n",
              "      <td>1</td>\n",
              "    </tr>\n",
              "    <tr>\n",
              "      <th>1</th>\n",
              "      <td>train_1</td>\n",
              "      <td>안봤지만 유승준나와서 비추.</td>\n",
              "      <td>0</td>\n",
              "    </tr>\n",
              "    <tr>\n",
              "      <th>2</th>\n",
              "      <td>train_2</td>\n",
              "      <td>시대를 못 따라간 연출과 촌스러운 영상미.</td>\n",
              "      <td>0</td>\n",
              "    </tr>\n",
              "    <tr>\n",
              "      <th>3</th>\n",
              "      <td>train_3</td>\n",
              "      <td>원소전 굿</td>\n",
              "      <td>1</td>\n",
              "    </tr>\n",
              "    <tr>\n",
              "      <th>4</th>\n",
              "      <td>train_4</td>\n",
              "      <td>ㅋㅋㅋㅋ 개봉영화평점단사람이1명 ㅋㅋㅋㅋ</td>\n",
              "      <td>1</td>\n",
              "    </tr>\n",
              "    <tr>\n",
              "      <th>...</th>\n",
              "      <td>...</td>\n",
              "      <td>...</td>\n",
              "      <td>...</td>\n",
              "    </tr>\n",
              "    <tr>\n",
              "      <th>1995</th>\n",
              "      <td>train_1995</td>\n",
              "      <td>사랑하고싶은 영화♥ 바위같은 편견 사이로 스며드는 빗물같은 영화</td>\n",
              "      <td>1</td>\n",
              "    </tr>\n",
              "    <tr>\n",
              "      <th>1996</th>\n",
              "      <td>train_1996</td>\n",
              "      <td>0점은 줄수없구나...</td>\n",
              "      <td>0</td>\n",
              "    </tr>\n",
              "    <tr>\n",
              "      <th>1997</th>\n",
              "      <td>train_1997</td>\n",
              "      <td>진짜재미있어요 강추 차태현 꺄 봉필</td>\n",
              "      <td>1</td>\n",
              "    </tr>\n",
              "    <tr>\n",
              "      <th>1998</th>\n",
              "      <td>train_1998</td>\n",
              "      <td>잠입자 보다 재밌는데?</td>\n",
              "      <td>1</td>\n",
              "    </tr>\n",
              "    <tr>\n",
              "      <th>1999</th>\n",
              "      <td>train_1999</td>\n",
              "      <td>보다가감동...진짜울뻔</td>\n",
              "      <td>1</td>\n",
              "    </tr>\n",
              "  </tbody>\n",
              "</table>\n",
              "<p>2000 rows × 3 columns</p>\n",
              "</div>\n",
              "    <div class=\"colab-df-buttons\">\n",
              "\n",
              "  <div class=\"colab-df-container\">\n",
              "    <button class=\"colab-df-convert\" onclick=\"convertToInteractive('df-d7ca0fb8-592c-4083-8b03-35c549be3412')\"\n",
              "            title=\"Convert this dataframe to an interactive table.\"\n",
              "            style=\"display:none;\">\n",
              "\n",
              "  <svg xmlns=\"http://www.w3.org/2000/svg\" height=\"24px\" viewBox=\"0 -960 960 960\">\n",
              "    <path d=\"M120-120v-720h720v720H120Zm60-500h600v-160H180v160Zm220 220h160v-160H400v160Zm0 220h160v-160H400v160ZM180-400h160v-160H180v160Zm440 0h160v-160H620v160ZM180-180h160v-160H180v160Zm440 0h160v-160H620v160Z\"/>\n",
              "  </svg>\n",
              "    </button>\n",
              "\n",
              "  <style>\n",
              "    .colab-df-container {\n",
              "      display:flex;\n",
              "      gap: 12px;\n",
              "    }\n",
              "\n",
              "    .colab-df-convert {\n",
              "      background-color: #E8F0FE;\n",
              "      border: none;\n",
              "      border-radius: 50%;\n",
              "      cursor: pointer;\n",
              "      display: none;\n",
              "      fill: #1967D2;\n",
              "      height: 32px;\n",
              "      padding: 0 0 0 0;\n",
              "      width: 32px;\n",
              "    }\n",
              "\n",
              "    .colab-df-convert:hover {\n",
              "      background-color: #E2EBFA;\n",
              "      box-shadow: 0px 1px 2px rgba(60, 64, 67, 0.3), 0px 1px 3px 1px rgba(60, 64, 67, 0.15);\n",
              "      fill: #174EA6;\n",
              "    }\n",
              "\n",
              "    .colab-df-buttons div {\n",
              "      margin-bottom: 4px;\n",
              "    }\n",
              "\n",
              "    [theme=dark] .colab-df-convert {\n",
              "      background-color: #3B4455;\n",
              "      fill: #D2E3FC;\n",
              "    }\n",
              "\n",
              "    [theme=dark] .colab-df-convert:hover {\n",
              "      background-color: #434B5C;\n",
              "      box-shadow: 0px 1px 3px 1px rgba(0, 0, 0, 0.15);\n",
              "      filter: drop-shadow(0px 1px 2px rgba(0, 0, 0, 0.3));\n",
              "      fill: #FFFFFF;\n",
              "    }\n",
              "  </style>\n",
              "\n",
              "    <script>\n",
              "      const buttonEl =\n",
              "        document.querySelector('#df-d7ca0fb8-592c-4083-8b03-35c549be3412 button.colab-df-convert');\n",
              "      buttonEl.style.display =\n",
              "        google.colab.kernel.accessAllowed ? 'block' : 'none';\n",
              "\n",
              "      async function convertToInteractive(key) {\n",
              "        const element = document.querySelector('#df-d7ca0fb8-592c-4083-8b03-35c549be3412');\n",
              "        const dataTable =\n",
              "          await google.colab.kernel.invokeFunction('convertToInteractive',\n",
              "                                                    [key], {});\n",
              "        if (!dataTable) return;\n",
              "\n",
              "        const docLinkHtml = 'Like what you see? Visit the ' +\n",
              "          '<a target=\"_blank\" href=https://colab.research.google.com/notebooks/data_table.ipynb>data table notebook</a>'\n",
              "          + ' to learn more about interactive tables.';\n",
              "        element.innerHTML = '';\n",
              "        dataTable['output_type'] = 'display_data';\n",
              "        await google.colab.output.renderOutput(dataTable, element);\n",
              "        const docLink = document.createElement('div');\n",
              "        docLink.innerHTML = docLinkHtml;\n",
              "        element.appendChild(docLink);\n",
              "      }\n",
              "    </script>\n",
              "  </div>\n",
              "\n",
              "\n",
              "<div id=\"df-cafb4029-69d8-4538-8380-2e681f6791fd\">\n",
              "  <button class=\"colab-df-quickchart\" onclick=\"quickchart('df-cafb4029-69d8-4538-8380-2e681f6791fd')\"\n",
              "            title=\"Suggest charts\"\n",
              "            style=\"display:none;\">\n",
              "\n",
              "<svg xmlns=\"http://www.w3.org/2000/svg\" height=\"24px\"viewBox=\"0 0 24 24\"\n",
              "     width=\"24px\">\n",
              "    <g>\n",
              "        <path d=\"M19 3H5c-1.1 0-2 .9-2 2v14c0 1.1.9 2 2 2h14c1.1 0 2-.9 2-2V5c0-1.1-.9-2-2-2zM9 17H7v-7h2v7zm4 0h-2V7h2v10zm4 0h-2v-4h2v4z\"/>\n",
              "    </g>\n",
              "</svg>\n",
              "  </button>\n",
              "\n",
              "<style>\n",
              "  .colab-df-quickchart {\n",
              "      --bg-color: #E8F0FE;\n",
              "      --fill-color: #1967D2;\n",
              "      --hover-bg-color: #E2EBFA;\n",
              "      --hover-fill-color: #174EA6;\n",
              "      --disabled-fill-color: #AAA;\n",
              "      --disabled-bg-color: #DDD;\n",
              "  }\n",
              "\n",
              "  [theme=dark] .colab-df-quickchart {\n",
              "      --bg-color: #3B4455;\n",
              "      --fill-color: #D2E3FC;\n",
              "      --hover-bg-color: #434B5C;\n",
              "      --hover-fill-color: #FFFFFF;\n",
              "      --disabled-bg-color: #3B4455;\n",
              "      --disabled-fill-color: #666;\n",
              "  }\n",
              "\n",
              "  .colab-df-quickchart {\n",
              "    background-color: var(--bg-color);\n",
              "    border: none;\n",
              "    border-radius: 50%;\n",
              "    cursor: pointer;\n",
              "    display: none;\n",
              "    fill: var(--fill-color);\n",
              "    height: 32px;\n",
              "    padding: 0;\n",
              "    width: 32px;\n",
              "  }\n",
              "\n",
              "  .colab-df-quickchart:hover {\n",
              "    background-color: var(--hover-bg-color);\n",
              "    box-shadow: 0 1px 2px rgba(60, 64, 67, 0.3), 0 1px 3px 1px rgba(60, 64, 67, 0.15);\n",
              "    fill: var(--button-hover-fill-color);\n",
              "  }\n",
              "\n",
              "  .colab-df-quickchart-complete:disabled,\n",
              "  .colab-df-quickchart-complete:disabled:hover {\n",
              "    background-color: var(--disabled-bg-color);\n",
              "    fill: var(--disabled-fill-color);\n",
              "    box-shadow: none;\n",
              "  }\n",
              "\n",
              "  .colab-df-spinner {\n",
              "    border: 2px solid var(--fill-color);\n",
              "    border-color: transparent;\n",
              "    border-bottom-color: var(--fill-color);\n",
              "    animation:\n",
              "      spin 1s steps(1) infinite;\n",
              "  }\n",
              "\n",
              "  @keyframes spin {\n",
              "    0% {\n",
              "      border-color: transparent;\n",
              "      border-bottom-color: var(--fill-color);\n",
              "      border-left-color: var(--fill-color);\n",
              "    }\n",
              "    20% {\n",
              "      border-color: transparent;\n",
              "      border-left-color: var(--fill-color);\n",
              "      border-top-color: var(--fill-color);\n",
              "    }\n",
              "    30% {\n",
              "      border-color: transparent;\n",
              "      border-left-color: var(--fill-color);\n",
              "      border-top-color: var(--fill-color);\n",
              "      border-right-color: var(--fill-color);\n",
              "    }\n",
              "    40% {\n",
              "      border-color: transparent;\n",
              "      border-right-color: var(--fill-color);\n",
              "      border-top-color: var(--fill-color);\n",
              "    }\n",
              "    60% {\n",
              "      border-color: transparent;\n",
              "      border-right-color: var(--fill-color);\n",
              "    }\n",
              "    80% {\n",
              "      border-color: transparent;\n",
              "      border-right-color: var(--fill-color);\n",
              "      border-bottom-color: var(--fill-color);\n",
              "    }\n",
              "    90% {\n",
              "      border-color: transparent;\n",
              "      border-bottom-color: var(--fill-color);\n",
              "    }\n",
              "  }\n",
              "</style>\n",
              "\n",
              "  <script>\n",
              "    async function quickchart(key) {\n",
              "      const quickchartButtonEl =\n",
              "        document.querySelector('#' + key + ' button');\n",
              "      quickchartButtonEl.disabled = true;  // To prevent multiple clicks.\n",
              "      quickchartButtonEl.classList.add('colab-df-spinner');\n",
              "      try {\n",
              "        const charts = await google.colab.kernel.invokeFunction(\n",
              "            'suggestCharts', [key], {});\n",
              "      } catch (error) {\n",
              "        console.error('Error during call to suggestCharts:', error);\n",
              "      }\n",
              "      quickchartButtonEl.classList.remove('colab-df-spinner');\n",
              "      quickchartButtonEl.classList.add('colab-df-quickchart-complete');\n",
              "    }\n",
              "    (() => {\n",
              "      let quickchartButtonEl =\n",
              "        document.querySelector('#df-cafb4029-69d8-4538-8380-2e681f6791fd button');\n",
              "      quickchartButtonEl.style.display =\n",
              "        google.colab.kernel.accessAllowed ? 'block' : 'none';\n",
              "    })();\n",
              "  </script>\n",
              "</div>\n",
              "\n",
              "  <div id=\"id_99b098fd-27b9-4d71-9a62-f7cc6bcb189e\">\n",
              "    <style>\n",
              "      .colab-df-generate {\n",
              "        background-color: #E8F0FE;\n",
              "        border: none;\n",
              "        border-radius: 50%;\n",
              "        cursor: pointer;\n",
              "        display: none;\n",
              "        fill: #1967D2;\n",
              "        height: 32px;\n",
              "        padding: 0 0 0 0;\n",
              "        width: 32px;\n",
              "      }\n",
              "\n",
              "      .colab-df-generate:hover {\n",
              "        background-color: #E2EBFA;\n",
              "        box-shadow: 0px 1px 2px rgba(60, 64, 67, 0.3), 0px 1px 3px 1px rgba(60, 64, 67, 0.15);\n",
              "        fill: #174EA6;\n",
              "      }\n",
              "\n",
              "      [theme=dark] .colab-df-generate {\n",
              "        background-color: #3B4455;\n",
              "        fill: #D2E3FC;\n",
              "      }\n",
              "\n",
              "      [theme=dark] .colab-df-generate:hover {\n",
              "        background-color: #434B5C;\n",
              "        box-shadow: 0px 1px 3px 1px rgba(0, 0, 0, 0.15);\n",
              "        filter: drop-shadow(0px 1px 2px rgba(0, 0, 0, 0.3));\n",
              "        fill: #FFFFFF;\n",
              "      }\n",
              "    </style>\n",
              "    <button class=\"colab-df-generate\" onclick=\"generateWithVariable('train')\"\n",
              "            title=\"Generate code using this dataframe.\"\n",
              "            style=\"display:none;\">\n",
              "\n",
              "  <svg xmlns=\"http://www.w3.org/2000/svg\" height=\"24px\"viewBox=\"0 0 24 24\"\n",
              "       width=\"24px\">\n",
              "    <path d=\"M7,19H8.4L18.45,9,17,7.55,7,17.6ZM5,21V16.75L18.45,3.32a2,2,0,0,1,2.83,0l1.4,1.43a1.91,1.91,0,0,1,.58,1.4,1.91,1.91,0,0,1-.58,1.4L9.25,21ZM18.45,9,17,7.55Zm-12,3A5.31,5.31,0,0,0,4.9,8.1,5.31,5.31,0,0,0,1,6.5,5.31,5.31,0,0,0,4.9,4.9,5.31,5.31,0,0,0,6.5,1,5.31,5.31,0,0,0,8.1,4.9,5.31,5.31,0,0,0,12,6.5,5.46,5.46,0,0,0,6.5,12Z\"/>\n",
              "  </svg>\n",
              "    </button>\n",
              "    <script>\n",
              "      (() => {\n",
              "      const buttonEl =\n",
              "        document.querySelector('#id_99b098fd-27b9-4d71-9a62-f7cc6bcb189e button.colab-df-generate');\n",
              "      buttonEl.style.display =\n",
              "        google.colab.kernel.accessAllowed ? 'block' : 'none';\n",
              "\n",
              "      buttonEl.onclick = () => {\n",
              "        google.colab.notebook.generateWithVariable('train');\n",
              "      }\n",
              "      })();\n",
              "    </script>\n",
              "  </div>\n",
              "\n",
              "    </div>\n",
              "  </div>\n"
            ],
            "application/vnd.google.colaboratory.intrinsic+json": {
              "type": "dataframe",
              "variable_name": "train",
              "summary": "{\n  \"name\": \"train\",\n  \"rows\": 2000,\n  \"fields\": [\n    {\n      \"column\": \"id\",\n      \"properties\": {\n        \"dtype\": \"string\",\n        \"num_unique_values\": 2000,\n        \"samples\": [\n          \"train_1860\",\n          \"train_353\",\n          \"train_1333\"\n        ],\n        \"semantic_type\": \"\",\n        \"description\": \"\"\n      }\n    },\n    {\n      \"column\": \"review\",\n      \"properties\": {\n        \"dtype\": \"string\",\n        \"num_unique_values\": 1995,\n        \"samples\": [\n          \"\\uae30\\ub300\\ud558\\uc9c0\",\n          \"\\ubca8\\ub85c\",\n          \"\\ub108\\ubb34 \\ubbf8\\ud654\\ud55c\\uac70 \\uc544\\ub2cc\\uac00.. \\uc5ed\\uc2dc \\uc5ed\\uc0ac\\ub294 \\uc2b9\\ub9ac\\uc790\\uc758 \\uae30\\ub85d..\"\n        ],\n        \"semantic_type\": \"\",\n        \"description\": \"\"\n      }\n    },\n    {\n      \"column\": \"target\",\n      \"properties\": {\n        \"dtype\": \"number\",\n        \"std\": 0,\n        \"min\": 0,\n        \"max\": 1,\n        \"num_unique_values\": 2,\n        \"samples\": [\n          0,\n          1\n        ],\n        \"semantic_type\": \"\",\n        \"description\": \"\"\n      }\n    }\n  ]\n}"
            }
          },
          "metadata": {},
          "execution_count": 7
        }
      ]
    },
    {
      "cell_type": "markdown",
      "source": [
        "# kiwi를 이용한 형태소 분석\n",
        "- Kiwipiepy는 한국어 형태소 분석기인 Kiwi(Korean Intelligent Word Identifier)의 Python 라이브러리\n",
        "- 품사 정보\n",
        "    - https://github.com/bab2min/Kiwi#%ED%92%88%EC%82%AC-%ED%83%9C%EA%B7%B8"
      ],
      "metadata": {
        "id": "eugoVW87aZ99"
      }
    },
    {
      "cell_type": "code",
      "source": [
        "%pip install kiwipiepy"
      ],
      "metadata": {
        "colab": {
          "base_uri": "https://localhost:8080/"
        },
        "id": "zm46-iXrcR-g",
        "outputId": "64178d0d-cfe2-47d3-efe9-c4e265adffea"
      },
      "execution_count": 8,
      "outputs": [
        {
          "output_type": "stream",
          "name": "stdout",
          "text": [
            "Collecting kiwipiepy\n",
            "  Downloading kiwipiepy-0.20.2-cp310-cp310-manylinux_2_17_x86_64.manylinux2014_x86_64.whl.metadata (1.1 kB)\n",
            "Collecting kiwipiepy-model<0.21,>=0.20 (from kiwipiepy)\n",
            "  Downloading kiwipiepy_model-0.20.0.tar.gz (34.7 MB)\n",
            "\u001b[2K     \u001b[90m━━━━━━━━━━━━━━━━━━━━━━━━━━━━━━━━━━━━━━━━\u001b[0m \u001b[32m34.7/34.7 MB\u001b[0m \u001b[31m32.8 MB/s\u001b[0m eta \u001b[36m0:00:00\u001b[0m\n",
            "\u001b[?25h  Preparing metadata (setup.py) ... \u001b[?25l\u001b[?25hdone\n",
            "Requirement already satisfied: tqdm in /usr/local/lib/python3.10/dist-packages (from kiwipiepy) (4.66.6)\n",
            "Requirement already satisfied: numpy in /usr/local/lib/python3.10/dist-packages (from kiwipiepy) (1.26.4)\n",
            "Downloading kiwipiepy-0.20.2-cp310-cp310-manylinux_2_17_x86_64.manylinux2014_x86_64.whl (3.5 MB)\n",
            "\u001b[2K   \u001b[90m━━━━━━━━━━━━━━━━━━━━━━━━━━━━━━━━━━━━━━━━\u001b[0m \u001b[32m3.5/3.5 MB\u001b[0m \u001b[31m66.2 MB/s\u001b[0m eta \u001b[36m0:00:00\u001b[0m\n",
            "\u001b[?25hBuilding wheels for collected packages: kiwipiepy-model\n",
            "  Building wheel for kiwipiepy-model (setup.py) ... \u001b[?25l\u001b[?25hdone\n",
            "  Created wheel for kiwipiepy-model: filename=kiwipiepy_model-0.20.0-py3-none-any.whl size=34818026 sha256=9fbceaf7689f53bd53177b6ff8c4cc03c956300da67cd8e8215789e3b4a13121\n",
            "  Stored in directory: /root/.cache/pip/wheels/b6/b1/66/2be9840f8ef3627d63d93503d81a5e3b41e9498dcb63b00b13\n",
            "Successfully built kiwipiepy-model\n",
            "Installing collected packages: kiwipiepy-model, kiwipiepy\n",
            "Successfully installed kiwipiepy-0.20.2 kiwipiepy-model-0.20.0\n"
          ]
        }
      ]
    },
    {
      "cell_type": "code",
      "source": [
        "from kiwipiepy import Kiwi # 클래스다!\n",
        "kiwi = Kiwi() # 클래스니깐 객체 수행"
      ],
      "metadata": {
        "id": "7-LEM62ncR7y"
      },
      "execution_count": 9,
      "outputs": []
    },
    {
      "cell_type": "code",
      "source": [
        "text = train['review'][0]\n",
        "text"
      ],
      "metadata": {
        "colab": {
          "base_uri": "https://localhost:8080/",
          "height": 35
        },
        "id": "erYOLwKEcR5G",
        "outputId": "138c403b-dbfa-427a-fe14-0c37b2c26016"
      },
      "execution_count": 10,
      "outputs": [
        {
          "output_type": "execute_result",
          "data": {
            "text/plain": [
              "'이런 최고의 영화를 이제서야 보다니'"
            ],
            "application/vnd.google.colaboratory.intrinsic+json": {
              "type": "string"
            }
          },
          "metadata": {},
          "execution_count": 10
        }
      ]
    },
    {
      "cell_type": "markdown",
      "source": [
        "## analyze 메서드\n",
        "- 입력 문장을 형태소 단위로 분해하고, 각 형태소의 품사 및 세부 정보를 반환"
      ],
      "metadata": {
        "id": "FdM7JkYmjGu_"
      }
    },
    {
      "cell_type": "markdown",
      "source": [
        "- form: 형태소의 원본 형태 (예: \"이런\", \"최고\")\n",
        "- tag: 품사 태그 (예: MM → 관형사, NNG → 일반명사)\n",
        "- start: 형태소의 시작 인덱스\n",
        "- len: 형태소의 길이\n",
        "- score: 분석 결과의 신뢰도를 나타내는 점수"
      ],
      "metadata": {
        "id": "7rvJkI27g2Ap"
      }
    },
    {
      "cell_type": "code",
      "source": [
        "kiwi.analyze(text) # 토큰화!! # top_n=1 이 기본값"
      ],
      "metadata": {
        "colab": {
          "base_uri": "https://localhost:8080/"
        },
        "id": "p39hppGicR21",
        "outputId": "d558ce76-085a-45d4-8c2f-4dbd39503977"
      },
      "execution_count": 11,
      "outputs": [
        {
          "output_type": "execute_result",
          "data": {
            "text/plain": [
              "[([Token(form='이런', tag='MM', start=0, len=2),\n",
              "   Token(form='최고', tag='NNG', start=3, len=2),\n",
              "   Token(form='의', tag='JKG', start=5, len=1),\n",
              "   Token(form='영화', tag='NNG', start=7, len=2),\n",
              "   Token(form='를', tag='JKO', start=9, len=1),\n",
              "   Token(form='이제서야', tag='MAG', start=11, len=4),\n",
              "   Token(form='보', tag='VV', start=16, len=1),\n",
              "   Token(form='다니', tag='EF', start=17, len=2)],\n",
              "  -63.7940559387207)]"
            ]
          },
          "metadata": {},
          "execution_count": 11
        }
      ]
    },
    {
      "cell_type": "code",
      "source": [
        "kiwi.analyze(text, top_n=2) # top_n 조정하여 여러개 결과 출력"
      ],
      "metadata": {
        "colab": {
          "base_uri": "https://localhost:8080/"
        },
        "id": "zKoSCUXGgfAz",
        "outputId": "d23549b0-8a7b-4bf9-8c02-d3bdb617f54f"
      },
      "execution_count": 12,
      "outputs": [
        {
          "output_type": "execute_result",
          "data": {
            "text/plain": [
              "[([Token(form='이런', tag='MM', start=0, len=2),\n",
              "   Token(form='최고', tag='NNG', start=3, len=2),\n",
              "   Token(form='의', tag='JKG', start=5, len=1),\n",
              "   Token(form='영화', tag='NNG', start=7, len=2),\n",
              "   Token(form='를', tag='JKO', start=9, len=1),\n",
              "   Token(form='이제서야', tag='MAG', start=11, len=4),\n",
              "   Token(form='보', tag='VV', start=16, len=1),\n",
              "   Token(form='다니', tag='EF', start=17, len=2)],\n",
              "  -63.7940559387207),\n",
              " ([Token(form='이런', tag='MM', start=0, len=2),\n",
              "   Token(form='최고', tag='NNG', start=3, len=2),\n",
              "   Token(form='의', tag='JKG', start=5, len=1),\n",
              "   Token(form='영화', tag='NNG', start=7, len=2),\n",
              "   Token(form='를', tag='JKO', start=9, len=1),\n",
              "   Token(form='이제', tag='NNG', start=11, len=2),\n",
              "   Token(form='서', tag='JKB', start=13, len=1),\n",
              "   Token(form='야', tag='JX', start=14, len=1),\n",
              "   Token(form='보', tag='VV', start=16, len=1),\n",
              "   Token(form='다니', tag='EC', start=17, len=2)],\n",
              "  -64.6888656616211)]"
            ]
          },
          "metadata": {},
          "execution_count": 12
        }
      ]
    },
    {
      "cell_type": "code",
      "source": [
        "result = kiwi.analyze(text)\n",
        "result[0][0] # = kiwi.tokenize(text)"
      ],
      "metadata": {
        "colab": {
          "base_uri": "https://localhost:8080/"
        },
        "id": "111IPMMTcR0P",
        "outputId": "43130b20-3595-4600-939a-c754fc0489f0"
      },
      "execution_count": 13,
      "outputs": [
        {
          "output_type": "execute_result",
          "data": {
            "text/plain": [
              "[Token(form='이런', tag='MM', start=0, len=2),\n",
              " Token(form='최고', tag='NNG', start=3, len=2),\n",
              " Token(form='의', tag='JKG', start=5, len=1),\n",
              " Token(form='영화', tag='NNG', start=7, len=2),\n",
              " Token(form='를', tag='JKO', start=9, len=1),\n",
              " Token(form='이제서야', tag='MAG', start=11, len=4),\n",
              " Token(form='보', tag='VV', start=16, len=1),\n",
              " Token(form='다니', tag='EF', start=17, len=2)]"
            ]
          },
          "metadata": {},
          "execution_count": 13
        }
      ]
    },
    {
      "cell_type": "code",
      "source": [
        "result[0]"
      ],
      "metadata": {
        "colab": {
          "base_uri": "https://localhost:8080/"
        },
        "id": "mFbDbKJTh5oB",
        "outputId": "ae8e774a-575c-4f8f-d51b-267203c1f10b"
      },
      "execution_count": 14,
      "outputs": [
        {
          "output_type": "execute_result",
          "data": {
            "text/plain": [
              "([Token(form='이런', tag='MM', start=0, len=2),\n",
              "  Token(form='최고', tag='NNG', start=3, len=2),\n",
              "  Token(form='의', tag='JKG', start=5, len=1),\n",
              "  Token(form='영화', tag='NNG', start=7, len=2),\n",
              "  Token(form='를', tag='JKO', start=9, len=1),\n",
              "  Token(form='이제서야', tag='MAG', start=11, len=4),\n",
              "  Token(form='보', tag='VV', start=16, len=1),\n",
              "  Token(form='다니', tag='EF', start=17, len=2)],\n",
              " -63.7940559387207)"
            ]
          },
          "metadata": {},
          "execution_count": 14
        }
      ]
    },
    {
      "cell_type": "markdown",
      "source": [
        "- result 형태\n",
        "```\n",
        "result = [\n",
        "  ([Token, Token, Token, ...], score),  # 첫 번째 분석 결과\n",
        "  ([Token, Token, Token, ...], score),  # 두 번째 분석 결과 (top_n > 1일 경우)\n",
        "  ...\n",
        "]\n",
        "```\n",
        "```\n",
        "result[0] = ([Token, Token, ...], score)\n",
        "```\n",
        "```\n",
        "result[0][0] = [Token(form='이런', tag='MM', start=0, len=2),\n",
        "                Token(form='최고', tag='NNG', start=3, len=2),\n",
        "                Token(form='의', tag='JKG', start=5, len=1),\n",
        "                Token(form='영화', tag='NNG', start=7, len=2),\n",
        "                ...]\n",
        "```"
      ],
      "metadata": {
        "id": "UGYlbgZ3ho1t"
      }
    },
    {
      "cell_type": "markdown",
      "source": [
        "## tokenize 메서드\n",
        "- 하나의 결과만 반환 (최고 확률의 분석 결과).\n",
        "- analyze와 다르게 신뢰도 점수는 반환하지 않음\n",
        "- 불필요한 세부 정보를 제외하고 간단한 형태소 분석만을 제공"
      ],
      "metadata": {
        "id": "TuINu8B0jQ-i"
      }
    },
    {
      "cell_type": "code",
      "source": [
        "result = kiwi.tokenize(text)\n",
        "result"
      ],
      "metadata": {
        "colab": {
          "base_uri": "https://localhost:8080/"
        },
        "id": "pOuWNyU6cRyB",
        "outputId": "e7664f69-a757-413a-cb49-46a4e7fa35fa"
      },
      "execution_count": 15,
      "outputs": [
        {
          "output_type": "execute_result",
          "data": {
            "text/plain": [
              "[Token(form='이런', tag='MM', start=0, len=2),\n",
              " Token(form='최고', tag='NNG', start=3, len=2),\n",
              " Token(form='의', tag='JKG', start=5, len=1),\n",
              " Token(form='영화', tag='NNG', start=7, len=2),\n",
              " Token(form='를', tag='JKO', start=9, len=1),\n",
              " Token(form='이제서야', tag='MAG', start=11, len=4),\n",
              " Token(form='보', tag='VV', start=16, len=1),\n",
              " Token(form='다니', tag='EF', start=17, len=2)]"
            ]
          },
          "metadata": {},
          "execution_count": 15
        }
      ]
    },
    {
      "cell_type": "code",
      "source": [
        "len(result)"
      ],
      "metadata": {
        "colab": {
          "base_uri": "https://localhost:8080/"
        },
        "id": "zDQeuew0iFAN",
        "outputId": "f9142267-4ae8-4beb-a119-c81354cae78e"
      },
      "execution_count": 16,
      "outputs": [
        {
          "output_type": "execute_result",
          "data": {
            "text/plain": [
              "8"
            ]
          },
          "metadata": {},
          "execution_count": 16
        }
      ]
    },
    {
      "cell_type": "code",
      "source": [
        "result[0].form # 토큰 문자열"
      ],
      "metadata": {
        "colab": {
          "base_uri": "https://localhost:8080/",
          "height": 35
        },
        "id": "oG1Wg9UJcRwY",
        "outputId": "b14164a3-6063-4e00-d68e-651237016627"
      },
      "execution_count": 17,
      "outputs": [
        {
          "output_type": "execute_result",
          "data": {
            "text/plain": [
              "'이런'"
            ],
            "application/vnd.google.colaboratory.intrinsic+json": {
              "type": "string"
            }
          },
          "metadata": {},
          "execution_count": 17
        }
      ]
    },
    {
      "cell_type": "code",
      "source": [
        "result[0].tag # 품사 문자열"
      ],
      "metadata": {
        "colab": {
          "base_uri": "https://localhost:8080/",
          "height": 35
        },
        "id": "JdctKu5tcRsz",
        "outputId": "f16703de-e0ec-4ce5-fffc-c59e9ef182a4"
      },
      "execution_count": 18,
      "outputs": [
        {
          "output_type": "execute_result",
          "data": {
            "text/plain": [
              "'MM'"
            ],
            "application/vnd.google.colaboratory.intrinsic+json": {
              "type": "string"
            }
          },
          "metadata": {},
          "execution_count": 18
        }
      ]
    },
    {
      "cell_type": "markdown",
      "source": [
        "- iterable 한 객체를 전달할 경우 map 객체가 반환\n",
        "  - iterable한 객체는 반복할 수 있는 객체를 의미\n",
        "  - map 객체\n",
        "    - 결과를 순차적으로 반환하는 객체\n",
        "    - kiwi.tokenize()가 iterable을 입력받으면, 내부적으로 map 함수처럼 동작\n",
        "    - 이때 반환되는 map 객체는 for 문이나 list()로 감싸서 접근해야 실제 결과를 볼 수 있습니다."
      ],
      "metadata": {
        "id": "g8e1_sfgkAS4"
      }
    },
    {
      "cell_type": "code",
      "source": [
        "# 문장 2개\n",
        "result = kiwi.tokenize(train['review'].iloc[:2]) # 맵 객체가 뭐지..?\n",
        "\n",
        "for tokens in result:\n",
        "  print(tokens)"
      ],
      "metadata": {
        "colab": {
          "base_uri": "https://localhost:8080/"
        },
        "id": "7JK9ta50j4G-",
        "outputId": "75a2ee46-96fc-4721-b0a2-9aba1e183d83"
      },
      "execution_count": 19,
      "outputs": [
        {
          "output_type": "stream",
          "name": "stdout",
          "text": [
            "[Token(form='이런', tag='MM', start=0, len=2), Token(form='최고', tag='NNG', start=3, len=2), Token(form='의', tag='JKG', start=5, len=1), Token(form='영화', tag='NNG', start=7, len=2), Token(form='를', tag='JKO', start=9, len=1), Token(form='이제서야', tag='MAG', start=11, len=4), Token(form='보', tag='VV', start=16, len=1), Token(form='다니', tag='EF', start=17, len=2)]\n",
            "[Token(form='안', tag='MAG', start=0, len=1), Token(form='보', tag='VV', start=1, len=1), Token(form='었', tag='EP', start=1, len=1), Token(form='지만', tag='EC', start=2, len=2), Token(form='유승준', tag='NNP', start=5, len=3), Token(form='나오', tag='VV', start=8, len=2), Token(form='어서', tag='EC', start=9, len=2), Token(form='비추', tag='VV', start=12, len=2), Token(form='.', tag='SF', start=14, len=1)]\n"
          ]
        }
      ]
    },
    {
      "cell_type": "markdown",
      "source": [
        "## 불용어"
      ],
      "metadata": {
        "id": "_CYrDEm9kkYT"
      }
    },
    {
      "cell_type": "code",
      "source": [
        "from kiwipiepy.utils import Stopwords\n",
        "stopwords = Stopwords()\n",
        "stopwords.stopwords  # set 자료형"
      ],
      "metadata": {
        "colab": {
          "base_uri": "https://localhost:8080/"
        },
        "collapsed": true,
        "id": "c2oO-fzyj4Ex",
        "outputId": "a767b017-9174-46c4-a71e-5d31edd7caf8"
      },
      "execution_count": 20,
      "outputs": [
        {
          "output_type": "execute_result",
          "data": {
            "text/plain": [
              "{('ᆫ', 'ETM'),\n",
              " ('ᆫ', 'JX'),\n",
              " ('ᆫ다', 'EF'),\n",
              " ('ᆯ', 'ETM'),\n",
              " ('가', 'JKS'),\n",
              " ('같', 'VA'),\n",
              " ('것', 'NNB'),\n",
              " ('게', 'EC'),\n",
              " ('겠', 'EP'),\n",
              " ('고', 'EC'),\n",
              " ('고', 'JKQ'),\n",
              " ('과', 'JC'),\n",
              " ('과', 'JKB'),\n",
              " ('그', 'MM'),\n",
              " ('그', 'NP'),\n",
              " ('기', 'ETN'),\n",
              " ('까지', 'JX'),\n",
              " ('나', 'NP'),\n",
              " ('년', 'NNB'),\n",
              " ('는', 'ETM'),\n",
              " ('는', 'JX'),\n",
              " ('다', 'EC'),\n",
              " ('다', 'EF'),\n",
              " ('다고', 'EC'),\n",
              " ('다는', 'ETM'),\n",
              " ('대하', 'VV'),\n",
              " ('더', 'MAG'),\n",
              " ('던', 'ETM'),\n",
              " ('도', 'JX'),\n",
              " ('되', 'VV'),\n",
              " ('되', 'XSV'),\n",
              " ('들', 'XSN'),\n",
              " ('등', 'NNB'),\n",
              " ('따르', 'VV'),\n",
              " ('때', 'NNG'),\n",
              " ('때문', 'NNB'),\n",
              " ('라', 'EC'),\n",
              " ('라는', 'ETM'),\n",
              " ('로', 'JKB'),\n",
              " ('를', 'JKO'),\n",
              " ('만', 'JX'),\n",
              " ('만', 'NR'),\n",
              " ('말', 'NNG'),\n",
              " ('며', 'EC'),\n",
              " ('면', 'EC'),\n",
              " ('면서', 'EC'),\n",
              " ('명', 'NNB'),\n",
              " ('받', 'VV'),\n",
              " ('보', 'VV'),\n",
              " ('부터', 'JX'),\n",
              " ('사람', 'NNG'),\n",
              " ('성', 'XSN'),\n",
              " ('수', 'NNB'),\n",
              " ('아니', 'VCN'),\n",
              " ('않', 'VX'),\n",
              " ('어', 'EC'),\n",
              " ('어', 'EF'),\n",
              " ('어서', 'EC'),\n",
              " ('어야', 'EC'),\n",
              " ('없', 'VA'),\n",
              " ('었', 'EP'),\n",
              " ('에', 'JKB'),\n",
              " ('에게', 'JKB'),\n",
              " ('에서', 'JKB'),\n",
              " ('와', 'JC'),\n",
              " ('와', 'JKB'),\n",
              " ('우리', 'NP'),\n",
              " ('원', 'NNB'),\n",
              " ('월', 'NNB'),\n",
              " ('위하', 'VV'),\n",
              " ('으로', 'JKB'),\n",
              " ('은', 'ETM'),\n",
              " ('은', 'JX'),\n",
              " ('을', 'ETM'),\n",
              " ('을', 'JKO'),\n",
              " ('의', 'JKG'),\n",
              " ('이', 'JKC'),\n",
              " ('이', 'JKS'),\n",
              " ('이', 'MM'),\n",
              " ('이', 'NP'),\n",
              " ('이', 'VCP'),\n",
              " ('일', 'NNB'),\n",
              " ('일', 'NNG'),\n",
              " ('있', 'VV'),\n",
              " ('있', 'VX'),\n",
              " ('적', 'XSN'),\n",
              " ('제', 'XPN'),\n",
              " ('주', 'VX'),\n",
              " ('중', 'NNB'),\n",
              " ('지', 'EC'),\n",
              " ('지', 'VX'),\n",
              " ('지만', 'EC'),\n",
              " ('지역', 'NNG'),\n",
              " ('통하', 'VV'),\n",
              " ('하', 'VV'),\n",
              " ('하', 'VX'),\n",
              " ('하', 'XSA'),\n",
              " ('하', 'XSV'),\n",
              " ('한', 'MM'),\n",
              " ('화', 'XSN')}"
            ]
          },
          "metadata": {},
          "execution_count": 20
        }
      ]
    },
    {
      "cell_type": "markdown",
      "source": [
        "- 불용어 추가하기"
      ],
      "metadata": {
        "id": "echD-pmvlOQ1"
      }
    },
    {
      "cell_type": "code",
      "source": [
        "stopwords.add(['길동','민수']) # 여러개 가능\n",
        "stopwords.stopwords"
      ],
      "metadata": {
        "colab": {
          "base_uri": "https://localhost:8080/"
        },
        "collapsed": true,
        "id": "quo-2SAZj4B7",
        "outputId": "34c8319a-a0cd-479c-ec64-d7e3b4ead3d0"
      },
      "execution_count": 21,
      "outputs": [
        {
          "output_type": "execute_result",
          "data": {
            "text/plain": [
              "{('ᆫ', 'ETM'),\n",
              " ('ᆫ', 'JX'),\n",
              " ('ᆫ다', 'EF'),\n",
              " ('ᆯ', 'ETM'),\n",
              " ('가', 'JKS'),\n",
              " ('같', 'VA'),\n",
              " ('것', 'NNB'),\n",
              " ('게', 'EC'),\n",
              " ('겠', 'EP'),\n",
              " ('고', 'EC'),\n",
              " ('고', 'JKQ'),\n",
              " ('과', 'JC'),\n",
              " ('과', 'JKB'),\n",
              " ('그', 'MM'),\n",
              " ('그', 'NP'),\n",
              " ('기', 'ETN'),\n",
              " ('길동', 'NNP'),\n",
              " ('까지', 'JX'),\n",
              " ('나', 'NP'),\n",
              " ('년', 'NNB'),\n",
              " ('는', 'ETM'),\n",
              " ('는', 'JX'),\n",
              " ('다', 'EC'),\n",
              " ('다', 'EF'),\n",
              " ('다고', 'EC'),\n",
              " ('다는', 'ETM'),\n",
              " ('대하', 'VV'),\n",
              " ('더', 'MAG'),\n",
              " ('던', 'ETM'),\n",
              " ('도', 'JX'),\n",
              " ('되', 'VV'),\n",
              " ('되', 'XSV'),\n",
              " ('들', 'XSN'),\n",
              " ('등', 'NNB'),\n",
              " ('따르', 'VV'),\n",
              " ('때', 'NNG'),\n",
              " ('때문', 'NNB'),\n",
              " ('라', 'EC'),\n",
              " ('라는', 'ETM'),\n",
              " ('로', 'JKB'),\n",
              " ('를', 'JKO'),\n",
              " ('만', 'JX'),\n",
              " ('만', 'NR'),\n",
              " ('말', 'NNG'),\n",
              " ('며', 'EC'),\n",
              " ('면', 'EC'),\n",
              " ('면서', 'EC'),\n",
              " ('명', 'NNB'),\n",
              " ('민수', 'NNP'),\n",
              " ('받', 'VV'),\n",
              " ('보', 'VV'),\n",
              " ('부터', 'JX'),\n",
              " ('사람', 'NNG'),\n",
              " ('성', 'XSN'),\n",
              " ('수', 'NNB'),\n",
              " ('아니', 'VCN'),\n",
              " ('않', 'VX'),\n",
              " ('어', 'EC'),\n",
              " ('어', 'EF'),\n",
              " ('어서', 'EC'),\n",
              " ('어야', 'EC'),\n",
              " ('없', 'VA'),\n",
              " ('었', 'EP'),\n",
              " ('에', 'JKB'),\n",
              " ('에게', 'JKB'),\n",
              " ('에서', 'JKB'),\n",
              " ('와', 'JC'),\n",
              " ('와', 'JKB'),\n",
              " ('우리', 'NP'),\n",
              " ('원', 'NNB'),\n",
              " ('월', 'NNB'),\n",
              " ('위하', 'VV'),\n",
              " ('으로', 'JKB'),\n",
              " ('은', 'ETM'),\n",
              " ('은', 'JX'),\n",
              " ('을', 'ETM'),\n",
              " ('을', 'JKO'),\n",
              " ('의', 'JKG'),\n",
              " ('이', 'JKC'),\n",
              " ('이', 'JKS'),\n",
              " ('이', 'MM'),\n",
              " ('이', 'NP'),\n",
              " ('이', 'VCP'),\n",
              " ('일', 'NNB'),\n",
              " ('일', 'NNG'),\n",
              " ('있', 'VV'),\n",
              " ('있', 'VX'),\n",
              " ('적', 'XSN'),\n",
              " ('제', 'XPN'),\n",
              " ('주', 'VX'),\n",
              " ('중', 'NNB'),\n",
              " ('지', 'EC'),\n",
              " ('지', 'VX'),\n",
              " ('지만', 'EC'),\n",
              " ('지역', 'NNG'),\n",
              " ('통하', 'VV'),\n",
              " ('하', 'VV'),\n",
              " ('하', 'VX'),\n",
              " ('하', 'XSA'),\n",
              " ('하', 'XSV'),\n",
              " ('한', 'MM'),\n",
              " ('화', 'XSN')}"
            ]
          },
          "metadata": {},
          "execution_count": 21
        }
      ]
    },
    {
      "cell_type": "code",
      "source": [
        "stopwords.add(('철수','NNP')) # 품사지정도 가능 - 단 튜플로\n",
        "stopwords.stopwords"
      ],
      "metadata": {
        "colab": {
          "base_uri": "https://localhost:8080/"
        },
        "collapsed": true,
        "id": "Q0WQrV7ej3_D",
        "outputId": "9d711810-3bac-4106-9ba7-fc864513b592"
      },
      "execution_count": 22,
      "outputs": [
        {
          "output_type": "execute_result",
          "data": {
            "text/plain": [
              "{('ᆫ', 'ETM'),\n",
              " ('ᆫ', 'JX'),\n",
              " ('ᆫ다', 'EF'),\n",
              " ('ᆯ', 'ETM'),\n",
              " ('가', 'JKS'),\n",
              " ('같', 'VA'),\n",
              " ('것', 'NNB'),\n",
              " ('게', 'EC'),\n",
              " ('겠', 'EP'),\n",
              " ('고', 'EC'),\n",
              " ('고', 'JKQ'),\n",
              " ('과', 'JC'),\n",
              " ('과', 'JKB'),\n",
              " ('그', 'MM'),\n",
              " ('그', 'NP'),\n",
              " ('기', 'ETN'),\n",
              " ('길동', 'NNP'),\n",
              " ('까지', 'JX'),\n",
              " ('나', 'NP'),\n",
              " ('년', 'NNB'),\n",
              " ('는', 'ETM'),\n",
              " ('는', 'JX'),\n",
              " ('다', 'EC'),\n",
              " ('다', 'EF'),\n",
              " ('다고', 'EC'),\n",
              " ('다는', 'ETM'),\n",
              " ('대하', 'VV'),\n",
              " ('더', 'MAG'),\n",
              " ('던', 'ETM'),\n",
              " ('도', 'JX'),\n",
              " ('되', 'VV'),\n",
              " ('되', 'XSV'),\n",
              " ('들', 'XSN'),\n",
              " ('등', 'NNB'),\n",
              " ('따르', 'VV'),\n",
              " ('때', 'NNG'),\n",
              " ('때문', 'NNB'),\n",
              " ('라', 'EC'),\n",
              " ('라는', 'ETM'),\n",
              " ('로', 'JKB'),\n",
              " ('를', 'JKO'),\n",
              " ('만', 'JX'),\n",
              " ('만', 'NR'),\n",
              " ('말', 'NNG'),\n",
              " ('며', 'EC'),\n",
              " ('면', 'EC'),\n",
              " ('면서', 'EC'),\n",
              " ('명', 'NNB'),\n",
              " ('민수', 'NNP'),\n",
              " ('받', 'VV'),\n",
              " ('보', 'VV'),\n",
              " ('부터', 'JX'),\n",
              " ('사람', 'NNG'),\n",
              " ('성', 'XSN'),\n",
              " ('수', 'NNB'),\n",
              " ('아니', 'VCN'),\n",
              " ('않', 'VX'),\n",
              " ('어', 'EC'),\n",
              " ('어', 'EF'),\n",
              " ('어서', 'EC'),\n",
              " ('어야', 'EC'),\n",
              " ('없', 'VA'),\n",
              " ('었', 'EP'),\n",
              " ('에', 'JKB'),\n",
              " ('에게', 'JKB'),\n",
              " ('에서', 'JKB'),\n",
              " ('와', 'JC'),\n",
              " ('와', 'JKB'),\n",
              " ('우리', 'NP'),\n",
              " ('원', 'NNB'),\n",
              " ('월', 'NNB'),\n",
              " ('위하', 'VV'),\n",
              " ('으로', 'JKB'),\n",
              " ('은', 'ETM'),\n",
              " ('은', 'JX'),\n",
              " ('을', 'ETM'),\n",
              " ('을', 'JKO'),\n",
              " ('의', 'JKG'),\n",
              " ('이', 'JKC'),\n",
              " ('이', 'JKS'),\n",
              " ('이', 'MM'),\n",
              " ('이', 'NP'),\n",
              " ('이', 'VCP'),\n",
              " ('일', 'NNB'),\n",
              " ('일', 'NNG'),\n",
              " ('있', 'VV'),\n",
              " ('있', 'VX'),\n",
              " ('적', 'XSN'),\n",
              " ('제', 'XPN'),\n",
              " ('주', 'VX'),\n",
              " ('중', 'NNB'),\n",
              " ('지', 'EC'),\n",
              " ('지', 'VX'),\n",
              " ('지만', 'EC'),\n",
              " ('지역', 'NNG'),\n",
              " ('철수', 'NNP'),\n",
              " ('통하', 'VV'),\n",
              " ('하', 'VV'),\n",
              " ('하', 'VX'),\n",
              " ('하', 'XSA'),\n",
              " ('하', 'XSV'),\n",
              " ('한', 'MM'),\n",
              " ('화', 'XSN')}"
            ]
          },
          "metadata": {},
          "execution_count": 22
        }
      ]
    },
    {
      "cell_type": "markdown",
      "source": [
        "- 불용어 삭제하기"
      ],
      "metadata": {
        "id": "d0SPY1IWmAd3"
      }
    },
    {
      "cell_type": "code",
      "source": [
        "stopwords.remove(['길동','철수','민수'])\n",
        "stopwords.stopwords"
      ],
      "metadata": {
        "colab": {
          "base_uri": "https://localhost:8080/"
        },
        "id": "QZguvDwej38N",
        "outputId": "ccfbd551-2aff-4eb7-ae1f-2026ca9b25ee"
      },
      "execution_count": 23,
      "outputs": [
        {
          "output_type": "execute_result",
          "data": {
            "text/plain": [
              "{('ᆫ', 'ETM'),\n",
              " ('ᆫ', 'JX'),\n",
              " ('ᆫ다', 'EF'),\n",
              " ('ᆯ', 'ETM'),\n",
              " ('가', 'JKS'),\n",
              " ('같', 'VA'),\n",
              " ('것', 'NNB'),\n",
              " ('게', 'EC'),\n",
              " ('겠', 'EP'),\n",
              " ('고', 'EC'),\n",
              " ('고', 'JKQ'),\n",
              " ('과', 'JC'),\n",
              " ('과', 'JKB'),\n",
              " ('그', 'MM'),\n",
              " ('그', 'NP'),\n",
              " ('기', 'ETN'),\n",
              " ('까지', 'JX'),\n",
              " ('나', 'NP'),\n",
              " ('년', 'NNB'),\n",
              " ('는', 'ETM'),\n",
              " ('는', 'JX'),\n",
              " ('다', 'EC'),\n",
              " ('다', 'EF'),\n",
              " ('다고', 'EC'),\n",
              " ('다는', 'ETM'),\n",
              " ('대하', 'VV'),\n",
              " ('더', 'MAG'),\n",
              " ('던', 'ETM'),\n",
              " ('도', 'JX'),\n",
              " ('되', 'VV'),\n",
              " ('되', 'XSV'),\n",
              " ('들', 'XSN'),\n",
              " ('등', 'NNB'),\n",
              " ('따르', 'VV'),\n",
              " ('때', 'NNG'),\n",
              " ('때문', 'NNB'),\n",
              " ('라', 'EC'),\n",
              " ('라는', 'ETM'),\n",
              " ('로', 'JKB'),\n",
              " ('를', 'JKO'),\n",
              " ('만', 'JX'),\n",
              " ('만', 'NR'),\n",
              " ('말', 'NNG'),\n",
              " ('며', 'EC'),\n",
              " ('면', 'EC'),\n",
              " ('면서', 'EC'),\n",
              " ('명', 'NNB'),\n",
              " ('받', 'VV'),\n",
              " ('보', 'VV'),\n",
              " ('부터', 'JX'),\n",
              " ('사람', 'NNG'),\n",
              " ('성', 'XSN'),\n",
              " ('수', 'NNB'),\n",
              " ('아니', 'VCN'),\n",
              " ('않', 'VX'),\n",
              " ('어', 'EC'),\n",
              " ('어', 'EF'),\n",
              " ('어서', 'EC'),\n",
              " ('어야', 'EC'),\n",
              " ('없', 'VA'),\n",
              " ('었', 'EP'),\n",
              " ('에', 'JKB'),\n",
              " ('에게', 'JKB'),\n",
              " ('에서', 'JKB'),\n",
              " ('와', 'JC'),\n",
              " ('와', 'JKB'),\n",
              " ('우리', 'NP'),\n",
              " ('원', 'NNB'),\n",
              " ('월', 'NNB'),\n",
              " ('위하', 'VV'),\n",
              " ('으로', 'JKB'),\n",
              " ('은', 'ETM'),\n",
              " ('은', 'JX'),\n",
              " ('을', 'ETM'),\n",
              " ('을', 'JKO'),\n",
              " ('의', 'JKG'),\n",
              " ('이', 'JKC'),\n",
              " ('이', 'JKS'),\n",
              " ('이', 'MM'),\n",
              " ('이', 'NP'),\n",
              " ('이', 'VCP'),\n",
              " ('일', 'NNB'),\n",
              " ('일', 'NNG'),\n",
              " ('있', 'VV'),\n",
              " ('있', 'VX'),\n",
              " ('적', 'XSN'),\n",
              " ('제', 'XPN'),\n",
              " ('주', 'VX'),\n",
              " ('중', 'NNB'),\n",
              " ('지', 'EC'),\n",
              " ('지', 'VX'),\n",
              " ('지만', 'EC'),\n",
              " ('지역', 'NNG'),\n",
              " ('통하', 'VV'),\n",
              " ('하', 'VV'),\n",
              " ('하', 'VX'),\n",
              " ('하', 'XSA'),\n",
              " ('하', 'XSV'),\n",
              " ('한', 'MM'),\n",
              " ('화', 'XSN')}"
            ]
          },
          "metadata": {},
          "execution_count": 23
        }
      ]
    },
    {
      "cell_type": "markdown",
      "source": [
        "## 결합하기"
      ],
      "metadata": {
        "id": "sJpaM8Nzmc8b"
      }
    },
    {
      "cell_type": "code",
      "source": [
        "text = train['review'][1]\n",
        "text"
      ],
      "metadata": {
        "colab": {
          "base_uri": "https://localhost:8080/",
          "height": 35
        },
        "id": "QsxMKNu6j35x",
        "outputId": "b33f4e84-7044-4788-941c-34da05bda24a"
      },
      "execution_count": 24,
      "outputs": [
        {
          "output_type": "execute_result",
          "data": {
            "text/plain": [
              "'안봤지만 유승준나와서 비추.'"
            ],
            "application/vnd.google.colaboratory.intrinsic+json": {
              "type": "string"
            }
          },
          "metadata": {},
          "execution_count": 24
        }
      ]
    },
    {
      "cell_type": "code",
      "source": [
        "result = kiwi.tokenize(text)\n",
        "result"
      ],
      "metadata": {
        "colab": {
          "base_uri": "https://localhost:8080/"
        },
        "id": "0IPVv75Jj32j",
        "outputId": "1fea33ff-5472-4a5d-e2e0-0ff838f874dd"
      },
      "execution_count": 25,
      "outputs": [
        {
          "output_type": "execute_result",
          "data": {
            "text/plain": [
              "[Token(form='안', tag='MAG', start=0, len=1),\n",
              " Token(form='보', tag='VV', start=1, len=1),\n",
              " Token(form='었', tag='EP', start=1, len=1),\n",
              " Token(form='지만', tag='EC', start=2, len=2),\n",
              " Token(form='유승준', tag='NNP', start=5, len=3),\n",
              " Token(form='나오', tag='VV', start=8, len=2),\n",
              " Token(form='어서', tag='EC', start=9, len=2),\n",
              " Token(form='비추', tag='VV', start=12, len=2),\n",
              " Token(form='.', tag='SF', start=14, len=1)]"
            ]
          },
          "metadata": {},
          "execution_count": 25
        }
      ]
    },
    {
      "cell_type": "code",
      "source": [
        "# tokens = [t.form for t in result ]\n",
        "# kiwi.join(tokens)\n",
        "## kiwi.join()은 형태소와 품사의 쌍을 받도록 되어 있다.\n",
        "## 따라서 Token 객체에서 형태소와 품사를 추출해 튜플로 만들어야 함"
      ],
      "metadata": {
        "id": "gZgbbJN5m8uU"
      },
      "execution_count": 26,
      "outputs": []
    },
    {
      "cell_type": "markdown",
      "source": [
        "- 에러 수정"
      ],
      "metadata": {
        "id": "hAAXk-38qA06"
      }
    },
    {
      "cell_type": "markdown",
      "source": [
        "- kiwi.join(morphs)는 이 형태소와 품사를 바탕으로 원래 문장을 자연스럽게 합한다."
      ],
      "metadata": {
        "id": "DwkutHN4qGoP"
      }
    },
    {
      "cell_type": "code",
      "source": [
        "tokens = [ (t.form, t.tag) for t in result ]\n",
        "kiwi.join(tokens)"
      ],
      "metadata": {
        "colab": {
          "base_uri": "https://localhost:8080/",
          "height": 35
        },
        "id": "sYqYUgp3pwGy",
        "outputId": "7b49ecff-554b-4645-82b8-0fee40d77331"
      },
      "execution_count": 27,
      "outputs": [
        {
          "output_type": "execute_result",
          "data": {
            "text/plain": [
              "'안 봤지만 유승준 나와서 비추.'"
            ],
            "application/vnd.google.colaboratory.intrinsic+json": {
              "type": "string"
            }
          },
          "metadata": {},
          "execution_count": 27
        }
      ]
    },
    {
      "cell_type": "markdown",
      "source": [
        "## 토큰화 해보기\n",
        "- 불용어 제거와 함게 N, V로 시작하는 품사들만 토큰화 해보기"
      ],
      "metadata": {
        "id": "Qq5E89xYnjdk"
      }
    },
    {
      "cell_type": "code",
      "source": [
        "stopwords = Stopwords()\n",
        "\n",
        "train_list = []\n",
        "result = kiwi.tokenize(train['review'], stopwords = stopwords) #  불용어를 제외한 형태소만 추출\n",
        "for tokens in tqdm(result, total = train['review'].shape[0]):\n",
        "  tokens = [ t.form for t in tokens if t.tag[0] in 'NV']\n",
        "  train_list.append(tokens)"
      ],
      "metadata": {
        "colab": {
          "base_uri": "https://localhost:8080/",
          "height": 49,
          "referenced_widgets": [
            "54b51225745c49bdb5a44e42adc4b579",
            "85c2ec2dfa1a48e492af955389e86112",
            "aa68b61a57604f9683092f12148e1721",
            "74bb9847645d4c9094708b87ab177a31",
            "915e308e3b4844c9b3ad5278f2a708e6",
            "9c01c0d051e84a40b2ef337896d4f183",
            "c907c685cd73448ba3db01f15b0632d6",
            "b5506774ae034dc0a5229d2b8e15edce",
            "948c7edcd2a34bfbb2f6d9af3c237542",
            "43e3e328b32d4c20941f90cee9e11066",
            "9584d1ddad95474ca147c3983eabb48a"
          ]
        },
        "id": "5Lz_sIKBm8rS",
        "outputId": "53cc6fe4-cbf8-4fd2-d2da-2885f18f072d"
      },
      "execution_count": 28,
      "outputs": [
        {
          "output_type": "display_data",
          "data": {
            "text/plain": [
              "  0%|          | 0/2000 [00:00<?, ?it/s]"
            ],
            "application/vnd.jupyter.widget-view+json": {
              "version_major": 2,
              "version_minor": 0,
              "model_id": "54b51225745c49bdb5a44e42adc4b579"
            }
          },
          "metadata": {}
        }
      ]
    },
    {
      "cell_type": "code",
      "source": [
        "len(train_list)"
      ],
      "metadata": {
        "colab": {
          "base_uri": "https://localhost:8080/"
        },
        "id": "-FRx7mOlrTzA",
        "outputId": "15c5c293-b051-41e0-fd93-b836395fe3f6"
      },
      "execution_count": 29,
      "outputs": [
        {
          "output_type": "execute_result",
          "data": {
            "text/plain": [
              "2000"
            ]
          },
          "metadata": {},
          "execution_count": 29
        }
      ]
    },
    {
      "cell_type": "code",
      "source": [
        "min(len(tokens) for tokens in train_list)\n",
        "# 0 이 있다는건 샘플을 버린게 있다는 의미!\n",
        "# 해당 문장에서 유의미한 토큰이 하나도 추출되지 않았다는 의미"
      ],
      "metadata": {
        "colab": {
          "base_uri": "https://localhost:8080/"
        },
        "id": "1EIG0H5wp9M0",
        "outputId": "96a5e611-929a-496b-fd2b-7119250ce9e8"
      },
      "execution_count": 30,
      "outputs": [
        {
          "output_type": "execute_result",
          "data": {
            "text/plain": [
              "0"
            ]
          },
          "metadata": {},
          "execution_count": 30
        }
      ]
    },
    {
      "cell_type": "code",
      "source": [
        "cnt = np.array([len(tokens) for tokens in train_list])\n",
        "mask = cnt == 0\n",
        "mask.sum()"
      ],
      "metadata": {
        "colab": {
          "base_uri": "https://localhost:8080/"
        },
        "id": "dRGqFOZVm8ot",
        "outputId": "fcfe8a9d-c33f-4705-9595-ef5a6e8a4392"
      },
      "execution_count": 31,
      "outputs": [
        {
          "output_type": "execute_result",
          "data": {
            "text/plain": [
              "49"
            ]
          },
          "metadata": {},
          "execution_count": 31
        }
      ]
    },
    {
      "cell_type": "code",
      "source": [
        "train.loc[mask]"
      ],
      "metadata": {
        "colab": {
          "base_uri": "https://localhost:8080/",
          "height": 1000
        },
        "id": "PgJC0SNUm8lx",
        "outputId": "f235e8ad-216a-4c49-8c7e-b8186e51ddd9"
      },
      "execution_count": 32,
      "outputs": [
        {
          "output_type": "execute_result",
          "data": {
            "text/plain": [
              "              id                             review  target\n",
              "31      train_31                             대박....       1\n",
              "102    train_102              What a great drama!!!       1\n",
              "103    train_103                    Space Jason!!!!       0\n",
              "225    train_225  the roles play very real touching       1\n",
              "307    train_307                           참신하지는 않다       0\n",
              "342    train_342                                ...       0\n",
              "470    train_470                                 별로       0\n",
              "524    train_524                   harry potter go!       1\n",
              "546    train_546                          글쎄~ 별로던데~       0\n",
              "581    train_581                                 ㅋㅋ       1\n",
              "640    train_640                                  .       0\n",
              "670    train_670              ㅋㅋㅋㅋㅋㅋㅋㅋㅋㅋㅋㅋㅋㅋㅋㅋㅋㅋㅋㅋㅋ       0\n",
              "711    train_711                               아...       0\n",
              "764    train_764                                  곧       0\n",
              "772    train_772                               나도 1       0\n",
              "806    train_806                                 유유       0\n",
              "841    train_841                                  헐       1\n",
              "944    train_944                               good       1\n",
              "1008  train_1008                  loyalty loyalty!!       1\n",
              "1010  train_1010                                 最惡       0\n",
              "1026  train_1026                           뭐 이런게 다이       0\n",
              "1029  train_1029                                  .       0\n",
              "1083  train_1083                     휴~ 이제그만하자.....       0\n",
              "1089  train_1089                           solitude       1\n",
              "1123  train_1123             An unforgettable movie       1\n",
              "1178  train_1178                                  ㅄ       0\n",
              "1198  train_1198                                  짱       1\n",
              "1236  train_1236                               그럭저럭       0\n",
              "1250  train_1250                              미안해요;       0\n",
              "1273  train_1273                                 참나       0\n",
              "1288  train_1288                              오호 ,,       1\n",
              "1373  train_1373                                  ㅋ       1\n",
              "1374  train_1374                                  乃       1\n",
              "1394  train_1394                                  1       1\n",
              "1406  train_1406                         ㅋㅋㅋㅋㅋㅋㅋㅋㅋㅋ       0\n",
              "1414  train_1414                   -- 혹시나... 역시나...       0\n",
              "1439  train_1439                            그냥 그런..       0\n",
              "1448  train_1448                             dkssud       1\n",
              "1556  train_1556                         -_- (할말없음)       0\n",
              "1567  train_1567                           너무지루했다..       0\n",
              "1591  train_1591                                  ㅋ       1\n",
              "1698  train_1698                                일단봐       1\n",
              "1706  train_1706                                OOO       0\n",
              "1746  train_1746                               별루//       0\n",
              "1751  train_1751                                우하하       0\n",
              "1807  train_1807                                  ㅎ       1\n",
              "1878  train_1878                   ^^^^%%%★★★÷÷÷===       1\n",
              "1891  train_1891                nothing and nothing       0\n",
              "1942  train_1942                                글쎄요       0"
            ],
            "text/html": [
              "\n",
              "  <div id=\"df-11cfa9f7-ec97-4c51-85d0-f2e9f4f81a9b\" class=\"colab-df-container\">\n",
              "    <div>\n",
              "<style scoped>\n",
              "    .dataframe tbody tr th:only-of-type {\n",
              "        vertical-align: middle;\n",
              "    }\n",
              "\n",
              "    .dataframe tbody tr th {\n",
              "        vertical-align: top;\n",
              "    }\n",
              "\n",
              "    .dataframe thead th {\n",
              "        text-align: right;\n",
              "    }\n",
              "</style>\n",
              "<table border=\"1\" class=\"dataframe\">\n",
              "  <thead>\n",
              "    <tr style=\"text-align: right;\">\n",
              "      <th></th>\n",
              "      <th>id</th>\n",
              "      <th>review</th>\n",
              "      <th>target</th>\n",
              "    </tr>\n",
              "  </thead>\n",
              "  <tbody>\n",
              "    <tr>\n",
              "      <th>31</th>\n",
              "      <td>train_31</td>\n",
              "      <td>대박....</td>\n",
              "      <td>1</td>\n",
              "    </tr>\n",
              "    <tr>\n",
              "      <th>102</th>\n",
              "      <td>train_102</td>\n",
              "      <td>What a great drama!!!</td>\n",
              "      <td>1</td>\n",
              "    </tr>\n",
              "    <tr>\n",
              "      <th>103</th>\n",
              "      <td>train_103</td>\n",
              "      <td>Space Jason!!!!</td>\n",
              "      <td>0</td>\n",
              "    </tr>\n",
              "    <tr>\n",
              "      <th>225</th>\n",
              "      <td>train_225</td>\n",
              "      <td>the roles play very real touching</td>\n",
              "      <td>1</td>\n",
              "    </tr>\n",
              "    <tr>\n",
              "      <th>307</th>\n",
              "      <td>train_307</td>\n",
              "      <td>참신하지는 않다</td>\n",
              "      <td>0</td>\n",
              "    </tr>\n",
              "    <tr>\n",
              "      <th>342</th>\n",
              "      <td>train_342</td>\n",
              "      <td>...</td>\n",
              "      <td>0</td>\n",
              "    </tr>\n",
              "    <tr>\n",
              "      <th>470</th>\n",
              "      <td>train_470</td>\n",
              "      <td>별로</td>\n",
              "      <td>0</td>\n",
              "    </tr>\n",
              "    <tr>\n",
              "      <th>524</th>\n",
              "      <td>train_524</td>\n",
              "      <td>harry potter go!</td>\n",
              "      <td>1</td>\n",
              "    </tr>\n",
              "    <tr>\n",
              "      <th>546</th>\n",
              "      <td>train_546</td>\n",
              "      <td>글쎄~ 별로던데~</td>\n",
              "      <td>0</td>\n",
              "    </tr>\n",
              "    <tr>\n",
              "      <th>581</th>\n",
              "      <td>train_581</td>\n",
              "      <td>ㅋㅋ</td>\n",
              "      <td>1</td>\n",
              "    </tr>\n",
              "    <tr>\n",
              "      <th>640</th>\n",
              "      <td>train_640</td>\n",
              "      <td>.</td>\n",
              "      <td>0</td>\n",
              "    </tr>\n",
              "    <tr>\n",
              "      <th>670</th>\n",
              "      <td>train_670</td>\n",
              "      <td>ㅋㅋㅋㅋㅋㅋㅋㅋㅋㅋㅋㅋㅋㅋㅋㅋㅋㅋㅋㅋㅋ</td>\n",
              "      <td>0</td>\n",
              "    </tr>\n",
              "    <tr>\n",
              "      <th>711</th>\n",
              "      <td>train_711</td>\n",
              "      <td>아...</td>\n",
              "      <td>0</td>\n",
              "    </tr>\n",
              "    <tr>\n",
              "      <th>764</th>\n",
              "      <td>train_764</td>\n",
              "      <td>곧</td>\n",
              "      <td>0</td>\n",
              "    </tr>\n",
              "    <tr>\n",
              "      <th>772</th>\n",
              "      <td>train_772</td>\n",
              "      <td>나도 1</td>\n",
              "      <td>0</td>\n",
              "    </tr>\n",
              "    <tr>\n",
              "      <th>806</th>\n",
              "      <td>train_806</td>\n",
              "      <td>유유</td>\n",
              "      <td>0</td>\n",
              "    </tr>\n",
              "    <tr>\n",
              "      <th>841</th>\n",
              "      <td>train_841</td>\n",
              "      <td>헐</td>\n",
              "      <td>1</td>\n",
              "    </tr>\n",
              "    <tr>\n",
              "      <th>944</th>\n",
              "      <td>train_944</td>\n",
              "      <td>good</td>\n",
              "      <td>1</td>\n",
              "    </tr>\n",
              "    <tr>\n",
              "      <th>1008</th>\n",
              "      <td>train_1008</td>\n",
              "      <td>loyalty loyalty!!</td>\n",
              "      <td>1</td>\n",
              "    </tr>\n",
              "    <tr>\n",
              "      <th>1010</th>\n",
              "      <td>train_1010</td>\n",
              "      <td>最惡</td>\n",
              "      <td>0</td>\n",
              "    </tr>\n",
              "    <tr>\n",
              "      <th>1026</th>\n",
              "      <td>train_1026</td>\n",
              "      <td>뭐 이런게 다이</td>\n",
              "      <td>0</td>\n",
              "    </tr>\n",
              "    <tr>\n",
              "      <th>1029</th>\n",
              "      <td>train_1029</td>\n",
              "      <td>.</td>\n",
              "      <td>0</td>\n",
              "    </tr>\n",
              "    <tr>\n",
              "      <th>1083</th>\n",
              "      <td>train_1083</td>\n",
              "      <td>휴~ 이제그만하자.....</td>\n",
              "      <td>0</td>\n",
              "    </tr>\n",
              "    <tr>\n",
              "      <th>1089</th>\n",
              "      <td>train_1089</td>\n",
              "      <td>solitude</td>\n",
              "      <td>1</td>\n",
              "    </tr>\n",
              "    <tr>\n",
              "      <th>1123</th>\n",
              "      <td>train_1123</td>\n",
              "      <td>An unforgettable movie</td>\n",
              "      <td>1</td>\n",
              "    </tr>\n",
              "    <tr>\n",
              "      <th>1178</th>\n",
              "      <td>train_1178</td>\n",
              "      <td>ㅄ</td>\n",
              "      <td>0</td>\n",
              "    </tr>\n",
              "    <tr>\n",
              "      <th>1198</th>\n",
              "      <td>train_1198</td>\n",
              "      <td>짱</td>\n",
              "      <td>1</td>\n",
              "    </tr>\n",
              "    <tr>\n",
              "      <th>1236</th>\n",
              "      <td>train_1236</td>\n",
              "      <td>그럭저럭</td>\n",
              "      <td>0</td>\n",
              "    </tr>\n",
              "    <tr>\n",
              "      <th>1250</th>\n",
              "      <td>train_1250</td>\n",
              "      <td>미안해요;</td>\n",
              "      <td>0</td>\n",
              "    </tr>\n",
              "    <tr>\n",
              "      <th>1273</th>\n",
              "      <td>train_1273</td>\n",
              "      <td>참나</td>\n",
              "      <td>0</td>\n",
              "    </tr>\n",
              "    <tr>\n",
              "      <th>1288</th>\n",
              "      <td>train_1288</td>\n",
              "      <td>오호 ,,</td>\n",
              "      <td>1</td>\n",
              "    </tr>\n",
              "    <tr>\n",
              "      <th>1373</th>\n",
              "      <td>train_1373</td>\n",
              "      <td>ㅋ</td>\n",
              "      <td>1</td>\n",
              "    </tr>\n",
              "    <tr>\n",
              "      <th>1374</th>\n",
              "      <td>train_1374</td>\n",
              "      <td>乃</td>\n",
              "      <td>1</td>\n",
              "    </tr>\n",
              "    <tr>\n",
              "      <th>1394</th>\n",
              "      <td>train_1394</td>\n",
              "      <td>1</td>\n",
              "      <td>1</td>\n",
              "    </tr>\n",
              "    <tr>\n",
              "      <th>1406</th>\n",
              "      <td>train_1406</td>\n",
              "      <td>ㅋㅋㅋㅋㅋㅋㅋㅋㅋㅋ</td>\n",
              "      <td>0</td>\n",
              "    </tr>\n",
              "    <tr>\n",
              "      <th>1414</th>\n",
              "      <td>train_1414</td>\n",
              "      <td>-- 혹시나... 역시나...</td>\n",
              "      <td>0</td>\n",
              "    </tr>\n",
              "    <tr>\n",
              "      <th>1439</th>\n",
              "      <td>train_1439</td>\n",
              "      <td>그냥 그런..</td>\n",
              "      <td>0</td>\n",
              "    </tr>\n",
              "    <tr>\n",
              "      <th>1448</th>\n",
              "      <td>train_1448</td>\n",
              "      <td>dkssud</td>\n",
              "      <td>1</td>\n",
              "    </tr>\n",
              "    <tr>\n",
              "      <th>1556</th>\n",
              "      <td>train_1556</td>\n",
              "      <td>-_- (할말없음)</td>\n",
              "      <td>0</td>\n",
              "    </tr>\n",
              "    <tr>\n",
              "      <th>1567</th>\n",
              "      <td>train_1567</td>\n",
              "      <td>너무지루했다..</td>\n",
              "      <td>0</td>\n",
              "    </tr>\n",
              "    <tr>\n",
              "      <th>1591</th>\n",
              "      <td>train_1591</td>\n",
              "      <td>ㅋ</td>\n",
              "      <td>1</td>\n",
              "    </tr>\n",
              "    <tr>\n",
              "      <th>1698</th>\n",
              "      <td>train_1698</td>\n",
              "      <td>일단봐</td>\n",
              "      <td>1</td>\n",
              "    </tr>\n",
              "    <tr>\n",
              "      <th>1706</th>\n",
              "      <td>train_1706</td>\n",
              "      <td>OOO</td>\n",
              "      <td>0</td>\n",
              "    </tr>\n",
              "    <tr>\n",
              "      <th>1746</th>\n",
              "      <td>train_1746</td>\n",
              "      <td>별루//</td>\n",
              "      <td>0</td>\n",
              "    </tr>\n",
              "    <tr>\n",
              "      <th>1751</th>\n",
              "      <td>train_1751</td>\n",
              "      <td>우하하</td>\n",
              "      <td>0</td>\n",
              "    </tr>\n",
              "    <tr>\n",
              "      <th>1807</th>\n",
              "      <td>train_1807</td>\n",
              "      <td>ㅎ</td>\n",
              "      <td>1</td>\n",
              "    </tr>\n",
              "    <tr>\n",
              "      <th>1878</th>\n",
              "      <td>train_1878</td>\n",
              "      <td>^^^^%%%★★★÷÷÷===</td>\n",
              "      <td>1</td>\n",
              "    </tr>\n",
              "    <tr>\n",
              "      <th>1891</th>\n",
              "      <td>train_1891</td>\n",
              "      <td>nothing and nothing</td>\n",
              "      <td>0</td>\n",
              "    </tr>\n",
              "    <tr>\n",
              "      <th>1942</th>\n",
              "      <td>train_1942</td>\n",
              "      <td>글쎄요</td>\n",
              "      <td>0</td>\n",
              "    </tr>\n",
              "  </tbody>\n",
              "</table>\n",
              "</div>\n",
              "    <div class=\"colab-df-buttons\">\n",
              "\n",
              "  <div class=\"colab-df-container\">\n",
              "    <button class=\"colab-df-convert\" onclick=\"convertToInteractive('df-11cfa9f7-ec97-4c51-85d0-f2e9f4f81a9b')\"\n",
              "            title=\"Convert this dataframe to an interactive table.\"\n",
              "            style=\"display:none;\">\n",
              "\n",
              "  <svg xmlns=\"http://www.w3.org/2000/svg\" height=\"24px\" viewBox=\"0 -960 960 960\">\n",
              "    <path d=\"M120-120v-720h720v720H120Zm60-500h600v-160H180v160Zm220 220h160v-160H400v160Zm0 220h160v-160H400v160ZM180-400h160v-160H180v160Zm440 0h160v-160H620v160ZM180-180h160v-160H180v160Zm440 0h160v-160H620v160Z\"/>\n",
              "  </svg>\n",
              "    </button>\n",
              "\n",
              "  <style>\n",
              "    .colab-df-container {\n",
              "      display:flex;\n",
              "      gap: 12px;\n",
              "    }\n",
              "\n",
              "    .colab-df-convert {\n",
              "      background-color: #E8F0FE;\n",
              "      border: none;\n",
              "      border-radius: 50%;\n",
              "      cursor: pointer;\n",
              "      display: none;\n",
              "      fill: #1967D2;\n",
              "      height: 32px;\n",
              "      padding: 0 0 0 0;\n",
              "      width: 32px;\n",
              "    }\n",
              "\n",
              "    .colab-df-convert:hover {\n",
              "      background-color: #E2EBFA;\n",
              "      box-shadow: 0px 1px 2px rgba(60, 64, 67, 0.3), 0px 1px 3px 1px rgba(60, 64, 67, 0.15);\n",
              "      fill: #174EA6;\n",
              "    }\n",
              "\n",
              "    .colab-df-buttons div {\n",
              "      margin-bottom: 4px;\n",
              "    }\n",
              "\n",
              "    [theme=dark] .colab-df-convert {\n",
              "      background-color: #3B4455;\n",
              "      fill: #D2E3FC;\n",
              "    }\n",
              "\n",
              "    [theme=dark] .colab-df-convert:hover {\n",
              "      background-color: #434B5C;\n",
              "      box-shadow: 0px 1px 3px 1px rgba(0, 0, 0, 0.15);\n",
              "      filter: drop-shadow(0px 1px 2px rgba(0, 0, 0, 0.3));\n",
              "      fill: #FFFFFF;\n",
              "    }\n",
              "  </style>\n",
              "\n",
              "    <script>\n",
              "      const buttonEl =\n",
              "        document.querySelector('#df-11cfa9f7-ec97-4c51-85d0-f2e9f4f81a9b button.colab-df-convert');\n",
              "      buttonEl.style.display =\n",
              "        google.colab.kernel.accessAllowed ? 'block' : 'none';\n",
              "\n",
              "      async function convertToInteractive(key) {\n",
              "        const element = document.querySelector('#df-11cfa9f7-ec97-4c51-85d0-f2e9f4f81a9b');\n",
              "        const dataTable =\n",
              "          await google.colab.kernel.invokeFunction('convertToInteractive',\n",
              "                                                    [key], {});\n",
              "        if (!dataTable) return;\n",
              "\n",
              "        const docLinkHtml = 'Like what you see? Visit the ' +\n",
              "          '<a target=\"_blank\" href=https://colab.research.google.com/notebooks/data_table.ipynb>data table notebook</a>'\n",
              "          + ' to learn more about interactive tables.';\n",
              "        element.innerHTML = '';\n",
              "        dataTable['output_type'] = 'display_data';\n",
              "        await google.colab.output.renderOutput(dataTable, element);\n",
              "        const docLink = document.createElement('div');\n",
              "        docLink.innerHTML = docLinkHtml;\n",
              "        element.appendChild(docLink);\n",
              "      }\n",
              "    </script>\n",
              "  </div>\n",
              "\n",
              "\n",
              "<div id=\"df-a7de3cbd-4411-4565-b881-3e8a2e51f0fd\">\n",
              "  <button class=\"colab-df-quickchart\" onclick=\"quickchart('df-a7de3cbd-4411-4565-b881-3e8a2e51f0fd')\"\n",
              "            title=\"Suggest charts\"\n",
              "            style=\"display:none;\">\n",
              "\n",
              "<svg xmlns=\"http://www.w3.org/2000/svg\" height=\"24px\"viewBox=\"0 0 24 24\"\n",
              "     width=\"24px\">\n",
              "    <g>\n",
              "        <path d=\"M19 3H5c-1.1 0-2 .9-2 2v14c0 1.1.9 2 2 2h14c1.1 0 2-.9 2-2V5c0-1.1-.9-2-2-2zM9 17H7v-7h2v7zm4 0h-2V7h2v10zm4 0h-2v-4h2v4z\"/>\n",
              "    </g>\n",
              "</svg>\n",
              "  </button>\n",
              "\n",
              "<style>\n",
              "  .colab-df-quickchart {\n",
              "      --bg-color: #E8F0FE;\n",
              "      --fill-color: #1967D2;\n",
              "      --hover-bg-color: #E2EBFA;\n",
              "      --hover-fill-color: #174EA6;\n",
              "      --disabled-fill-color: #AAA;\n",
              "      --disabled-bg-color: #DDD;\n",
              "  }\n",
              "\n",
              "  [theme=dark] .colab-df-quickchart {\n",
              "      --bg-color: #3B4455;\n",
              "      --fill-color: #D2E3FC;\n",
              "      --hover-bg-color: #434B5C;\n",
              "      --hover-fill-color: #FFFFFF;\n",
              "      --disabled-bg-color: #3B4455;\n",
              "      --disabled-fill-color: #666;\n",
              "  }\n",
              "\n",
              "  .colab-df-quickchart {\n",
              "    background-color: var(--bg-color);\n",
              "    border: none;\n",
              "    border-radius: 50%;\n",
              "    cursor: pointer;\n",
              "    display: none;\n",
              "    fill: var(--fill-color);\n",
              "    height: 32px;\n",
              "    padding: 0;\n",
              "    width: 32px;\n",
              "  }\n",
              "\n",
              "  .colab-df-quickchart:hover {\n",
              "    background-color: var(--hover-bg-color);\n",
              "    box-shadow: 0 1px 2px rgba(60, 64, 67, 0.3), 0 1px 3px 1px rgba(60, 64, 67, 0.15);\n",
              "    fill: var(--button-hover-fill-color);\n",
              "  }\n",
              "\n",
              "  .colab-df-quickchart-complete:disabled,\n",
              "  .colab-df-quickchart-complete:disabled:hover {\n",
              "    background-color: var(--disabled-bg-color);\n",
              "    fill: var(--disabled-fill-color);\n",
              "    box-shadow: none;\n",
              "  }\n",
              "\n",
              "  .colab-df-spinner {\n",
              "    border: 2px solid var(--fill-color);\n",
              "    border-color: transparent;\n",
              "    border-bottom-color: var(--fill-color);\n",
              "    animation:\n",
              "      spin 1s steps(1) infinite;\n",
              "  }\n",
              "\n",
              "  @keyframes spin {\n",
              "    0% {\n",
              "      border-color: transparent;\n",
              "      border-bottom-color: var(--fill-color);\n",
              "      border-left-color: var(--fill-color);\n",
              "    }\n",
              "    20% {\n",
              "      border-color: transparent;\n",
              "      border-left-color: var(--fill-color);\n",
              "      border-top-color: var(--fill-color);\n",
              "    }\n",
              "    30% {\n",
              "      border-color: transparent;\n",
              "      border-left-color: var(--fill-color);\n",
              "      border-top-color: var(--fill-color);\n",
              "      border-right-color: var(--fill-color);\n",
              "    }\n",
              "    40% {\n",
              "      border-color: transparent;\n",
              "      border-right-color: var(--fill-color);\n",
              "      border-top-color: var(--fill-color);\n",
              "    }\n",
              "    60% {\n",
              "      border-color: transparent;\n",
              "      border-right-color: var(--fill-color);\n",
              "    }\n",
              "    80% {\n",
              "      border-color: transparent;\n",
              "      border-right-color: var(--fill-color);\n",
              "      border-bottom-color: var(--fill-color);\n",
              "    }\n",
              "    90% {\n",
              "      border-color: transparent;\n",
              "      border-bottom-color: var(--fill-color);\n",
              "    }\n",
              "  }\n",
              "</style>\n",
              "\n",
              "  <script>\n",
              "    async function quickchart(key) {\n",
              "      const quickchartButtonEl =\n",
              "        document.querySelector('#' + key + ' button');\n",
              "      quickchartButtonEl.disabled = true;  // To prevent multiple clicks.\n",
              "      quickchartButtonEl.classList.add('colab-df-spinner');\n",
              "      try {\n",
              "        const charts = await google.colab.kernel.invokeFunction(\n",
              "            'suggestCharts', [key], {});\n",
              "      } catch (error) {\n",
              "        console.error('Error during call to suggestCharts:', error);\n",
              "      }\n",
              "      quickchartButtonEl.classList.remove('colab-df-spinner');\n",
              "      quickchartButtonEl.classList.add('colab-df-quickchart-complete');\n",
              "    }\n",
              "    (() => {\n",
              "      let quickchartButtonEl =\n",
              "        document.querySelector('#df-a7de3cbd-4411-4565-b881-3e8a2e51f0fd button');\n",
              "      quickchartButtonEl.style.display =\n",
              "        google.colab.kernel.accessAllowed ? 'block' : 'none';\n",
              "    })();\n",
              "  </script>\n",
              "</div>\n",
              "\n",
              "    </div>\n",
              "  </div>\n"
            ],
            "application/vnd.google.colaboratory.intrinsic+json": {
              "type": "dataframe",
              "summary": "{\n  \"name\": \"train\",\n  \"rows\": 49,\n  \"fields\": [\n    {\n      \"column\": \"id\",\n      \"properties\": {\n        \"dtype\": \"string\",\n        \"num_unique_values\": 49,\n        \"samples\": [\n          \"train_764\",\n          \"train_1807\",\n          \"train_1891\"\n        ],\n        \"semantic_type\": \"\",\n        \"description\": \"\"\n      }\n    },\n    {\n      \"column\": \"review\",\n      \"properties\": {\n        \"dtype\": \"string\",\n        \"num_unique_values\": 47,\n        \"samples\": [\n          \"\\ubbf8\\uc548\\ud574\\uc694;\",\n          \"\\uc77c\\ub2e8\\ubd10\",\n          \"\\uadf8\\ub7ed\\uc800\\ub7ed\"\n        ],\n        \"semantic_type\": \"\",\n        \"description\": \"\"\n      }\n    },\n    {\n      \"column\": \"target\",\n      \"properties\": {\n        \"dtype\": \"number\",\n        \"std\": 0,\n        \"min\": 0,\n        \"max\": 1,\n        \"num_unique_values\": 2,\n        \"samples\": [\n          0,\n          1\n        ],\n        \"semantic_type\": \"\",\n        \"description\": \"\"\n      }\n    }\n  ]\n}"
            }
          },
          "metadata": {},
          "execution_count": 32
        }
      ]
    },
    {
      "cell_type": "markdown",
      "source": [
        "# spacy 를 이용한 형태소 분석\n",
        "- 써보니까.. 별로다!!"
      ],
      "metadata": {
        "id": "fCIBQ3Gbq2uw"
      }
    },
    {
      "cell_type": "code",
      "source": [
        "!python -m spacy download ko_core_news_sm"
      ],
      "metadata": {
        "colab": {
          "base_uri": "https://localhost:8080/"
        },
        "id": "UtSacJllq2Bp",
        "outputId": "7ce9bb3c-cfb3-446f-d371-19d04371f0ba"
      },
      "execution_count": 33,
      "outputs": [
        {
          "output_type": "stream",
          "name": "stdout",
          "text": [
            "Collecting ko-core-news-sm==3.7.0\n",
            "  Downloading https://github.com/explosion/spacy-models/releases/download/ko_core_news_sm-3.7.0/ko_core_news_sm-3.7.0-py3-none-any.whl (14.7 MB)\n",
            "\u001b[2K     \u001b[90m━━━━━━━━━━━━━━━━━━━━━━━━━━━━━━━━━━━━━━━━\u001b[0m \u001b[32m14.7/14.7 MB\u001b[0m \u001b[31m30.1 MB/s\u001b[0m eta \u001b[36m0:00:00\u001b[0m\n",
            "\u001b[?25hRequirement already satisfied: spacy<3.8.0,>=3.7.0 in /usr/local/lib/python3.10/dist-packages (from ko-core-news-sm==3.7.0) (3.7.5)\n",
            "Requirement already satisfied: spacy-legacy<3.1.0,>=3.0.11 in /usr/local/lib/python3.10/dist-packages (from spacy<3.8.0,>=3.7.0->ko-core-news-sm==3.7.0) (3.0.12)\n",
            "Requirement already satisfied: spacy-loggers<2.0.0,>=1.0.0 in /usr/local/lib/python3.10/dist-packages (from spacy<3.8.0,>=3.7.0->ko-core-news-sm==3.7.0) (1.0.5)\n",
            "Requirement already satisfied: murmurhash<1.1.0,>=0.28.0 in /usr/local/lib/python3.10/dist-packages (from spacy<3.8.0,>=3.7.0->ko-core-news-sm==3.7.0) (1.0.11)\n",
            "Requirement already satisfied: cymem<2.1.0,>=2.0.2 in /usr/local/lib/python3.10/dist-packages (from spacy<3.8.0,>=3.7.0->ko-core-news-sm==3.7.0) (2.0.10)\n",
            "Requirement already satisfied: preshed<3.1.0,>=3.0.2 in /usr/local/lib/python3.10/dist-packages (from spacy<3.8.0,>=3.7.0->ko-core-news-sm==3.7.0) (3.0.9)\n",
            "Requirement already satisfied: thinc<8.3.0,>=8.2.2 in /usr/local/lib/python3.10/dist-packages (from spacy<3.8.0,>=3.7.0->ko-core-news-sm==3.7.0) (8.2.5)\n",
            "Requirement already satisfied: wasabi<1.2.0,>=0.9.1 in /usr/local/lib/python3.10/dist-packages (from spacy<3.8.0,>=3.7.0->ko-core-news-sm==3.7.0) (1.1.3)\n",
            "Requirement already satisfied: srsly<3.0.0,>=2.4.3 in /usr/local/lib/python3.10/dist-packages (from spacy<3.8.0,>=3.7.0->ko-core-news-sm==3.7.0) (2.4.8)\n",
            "Requirement already satisfied: catalogue<2.1.0,>=2.0.6 in /usr/local/lib/python3.10/dist-packages (from spacy<3.8.0,>=3.7.0->ko-core-news-sm==3.7.0) (2.0.10)\n",
            "Requirement already satisfied: weasel<0.5.0,>=0.1.0 in /usr/local/lib/python3.10/dist-packages (from spacy<3.8.0,>=3.7.0->ko-core-news-sm==3.7.0) (0.4.1)\n",
            "Requirement already satisfied: typer<1.0.0,>=0.3.0 in /usr/local/lib/python3.10/dist-packages (from spacy<3.8.0,>=3.7.0->ko-core-news-sm==3.7.0) (0.15.0)\n",
            "Requirement already satisfied: tqdm<5.0.0,>=4.38.0 in /usr/local/lib/python3.10/dist-packages (from spacy<3.8.0,>=3.7.0->ko-core-news-sm==3.7.0) (4.66.6)\n",
            "Requirement already satisfied: requests<3.0.0,>=2.13.0 in /usr/local/lib/python3.10/dist-packages (from spacy<3.8.0,>=3.7.0->ko-core-news-sm==3.7.0) (2.32.3)\n",
            "Requirement already satisfied: pydantic!=1.8,!=1.8.1,<3.0.0,>=1.7.4 in /usr/local/lib/python3.10/dist-packages (from spacy<3.8.0,>=3.7.0->ko-core-news-sm==3.7.0) (2.10.3)\n",
            "Requirement already satisfied: jinja2 in /usr/local/lib/python3.10/dist-packages (from spacy<3.8.0,>=3.7.0->ko-core-news-sm==3.7.0) (3.1.4)\n",
            "Requirement already satisfied: setuptools in /usr/local/lib/python3.10/dist-packages (from spacy<3.8.0,>=3.7.0->ko-core-news-sm==3.7.0) (75.1.0)\n",
            "Requirement already satisfied: packaging>=20.0 in /usr/local/lib/python3.10/dist-packages (from spacy<3.8.0,>=3.7.0->ko-core-news-sm==3.7.0) (24.2)\n",
            "Requirement already satisfied: langcodes<4.0.0,>=3.2.0 in /usr/local/lib/python3.10/dist-packages (from spacy<3.8.0,>=3.7.0->ko-core-news-sm==3.7.0) (3.5.0)\n",
            "Requirement already satisfied: numpy>=1.19.0 in /usr/local/lib/python3.10/dist-packages (from spacy<3.8.0,>=3.7.0->ko-core-news-sm==3.7.0) (1.26.4)\n",
            "Requirement already satisfied: language-data>=1.2 in /usr/local/lib/python3.10/dist-packages (from langcodes<4.0.0,>=3.2.0->spacy<3.8.0,>=3.7.0->ko-core-news-sm==3.7.0) (1.3.0)\n",
            "Requirement already satisfied: annotated-types>=0.6.0 in /usr/local/lib/python3.10/dist-packages (from pydantic!=1.8,!=1.8.1,<3.0.0,>=1.7.4->spacy<3.8.0,>=3.7.0->ko-core-news-sm==3.7.0) (0.7.0)\n",
            "Requirement already satisfied: pydantic-core==2.27.1 in /usr/local/lib/python3.10/dist-packages (from pydantic!=1.8,!=1.8.1,<3.0.0,>=1.7.4->spacy<3.8.0,>=3.7.0->ko-core-news-sm==3.7.0) (2.27.1)\n",
            "Requirement already satisfied: typing-extensions>=4.12.2 in /usr/local/lib/python3.10/dist-packages (from pydantic!=1.8,!=1.8.1,<3.0.0,>=1.7.4->spacy<3.8.0,>=3.7.0->ko-core-news-sm==3.7.0) (4.12.2)\n",
            "Requirement already satisfied: charset-normalizer<4,>=2 in /usr/local/lib/python3.10/dist-packages (from requests<3.0.0,>=2.13.0->spacy<3.8.0,>=3.7.0->ko-core-news-sm==3.7.0) (3.4.0)\n",
            "Requirement already satisfied: idna<4,>=2.5 in /usr/local/lib/python3.10/dist-packages (from requests<3.0.0,>=2.13.0->spacy<3.8.0,>=3.7.0->ko-core-news-sm==3.7.0) (3.10)\n",
            "Requirement already satisfied: urllib3<3,>=1.21.1 in /usr/local/lib/python3.10/dist-packages (from requests<3.0.0,>=2.13.0->spacy<3.8.0,>=3.7.0->ko-core-news-sm==3.7.0) (2.2.3)\n",
            "Requirement already satisfied: certifi>=2017.4.17 in /usr/local/lib/python3.10/dist-packages (from requests<3.0.0,>=2.13.0->spacy<3.8.0,>=3.7.0->ko-core-news-sm==3.7.0) (2024.8.30)\n",
            "Requirement already satisfied: blis<0.8.0,>=0.7.8 in /usr/local/lib/python3.10/dist-packages (from thinc<8.3.0,>=8.2.2->spacy<3.8.0,>=3.7.0->ko-core-news-sm==3.7.0) (0.7.11)\n",
            "Requirement already satisfied: confection<1.0.0,>=0.0.1 in /usr/local/lib/python3.10/dist-packages (from thinc<8.3.0,>=8.2.2->spacy<3.8.0,>=3.7.0->ko-core-news-sm==3.7.0) (0.1.5)\n",
            "Requirement already satisfied: click>=8.0.0 in /usr/local/lib/python3.10/dist-packages (from typer<1.0.0,>=0.3.0->spacy<3.8.0,>=3.7.0->ko-core-news-sm==3.7.0) (8.1.7)\n",
            "Requirement already satisfied: shellingham>=1.3.0 in /usr/local/lib/python3.10/dist-packages (from typer<1.0.0,>=0.3.0->spacy<3.8.0,>=3.7.0->ko-core-news-sm==3.7.0) (1.5.4)\n",
            "Requirement already satisfied: rich>=10.11.0 in /usr/local/lib/python3.10/dist-packages (from typer<1.0.0,>=0.3.0->spacy<3.8.0,>=3.7.0->ko-core-news-sm==3.7.0) (13.9.4)\n",
            "Requirement already satisfied: cloudpathlib<1.0.0,>=0.7.0 in /usr/local/lib/python3.10/dist-packages (from weasel<0.5.0,>=0.1.0->spacy<3.8.0,>=3.7.0->ko-core-news-sm==3.7.0) (0.20.0)\n",
            "Requirement already satisfied: smart-open<8.0.0,>=5.2.1 in /usr/local/lib/python3.10/dist-packages (from weasel<0.5.0,>=0.1.0->spacy<3.8.0,>=3.7.0->ko-core-news-sm==3.7.0) (7.0.5)\n",
            "Requirement already satisfied: MarkupSafe>=2.0 in /usr/local/lib/python3.10/dist-packages (from jinja2->spacy<3.8.0,>=3.7.0->ko-core-news-sm==3.7.0) (3.0.2)\n",
            "Requirement already satisfied: marisa-trie>=1.1.0 in /usr/local/lib/python3.10/dist-packages (from language-data>=1.2->langcodes<4.0.0,>=3.2.0->spacy<3.8.0,>=3.7.0->ko-core-news-sm==3.7.0) (1.2.1)\n",
            "Requirement already satisfied: markdown-it-py>=2.2.0 in /usr/local/lib/python3.10/dist-packages (from rich>=10.11.0->typer<1.0.0,>=0.3.0->spacy<3.8.0,>=3.7.0->ko-core-news-sm==3.7.0) (3.0.0)\n",
            "Requirement already satisfied: pygments<3.0.0,>=2.13.0 in /usr/local/lib/python3.10/dist-packages (from rich>=10.11.0->typer<1.0.0,>=0.3.0->spacy<3.8.0,>=3.7.0->ko-core-news-sm==3.7.0) (2.18.0)\n",
            "Requirement already satisfied: wrapt in /usr/local/lib/python3.10/dist-packages (from smart-open<8.0.0,>=5.2.1->weasel<0.5.0,>=0.1.0->spacy<3.8.0,>=3.7.0->ko-core-news-sm==3.7.0) (1.17.0)\n",
            "Requirement already satisfied: mdurl~=0.1 in /usr/local/lib/python3.10/dist-packages (from markdown-it-py>=2.2.0->rich>=10.11.0->typer<1.0.0,>=0.3.0->spacy<3.8.0,>=3.7.0->ko-core-news-sm==3.7.0) (0.1.2)\n",
            "Installing collected packages: ko-core-news-sm\n",
            "Successfully installed ko-core-news-sm-3.7.0\n",
            "\u001b[38;5;2m✔ Download and installation successful\u001b[0m\n",
            "You can now load the package via spacy.load('ko_core_news_sm')\n",
            "\u001b[38;5;3m⚠ Restart to reload dependencies\u001b[0m\n",
            "If you are in a Jupyter or Colab notebook, you may need to restart Python in\n",
            "order to load all the package's dependencies. You can do this by selecting the\n",
            "'Restart kernel' or 'Restart runtime' option.\n"
          ]
        }
      ]
    },
    {
      "cell_type": "code",
      "source": [
        "import spacy"
      ],
      "metadata": {
        "id": "sN_SQCcyq1-u"
      },
      "execution_count": 34,
      "outputs": []
    },
    {
      "cell_type": "code",
      "source": [
        "nip = spacy.load('ko_core_news_sm') # spacy가 모듈이라서 모듈함수 사용해야 된다고 하셨다..."
      ],
      "metadata": {
        "id": "JrnG4C8Pq18O"
      },
      "execution_count": 35,
      "outputs": []
    },
    {
      "cell_type": "code",
      "source": [
        "text"
      ],
      "metadata": {
        "colab": {
          "base_uri": "https://localhost:8080/",
          "height": 35
        },
        "id": "bcjV7AVpq15v",
        "outputId": "502baf31-5dbd-463a-a634-bac8def690ee"
      },
      "execution_count": 36,
      "outputs": [
        {
          "output_type": "execute_result",
          "data": {
            "text/plain": [
              "'안봤지만 유승준나와서 비추.'"
            ],
            "application/vnd.google.colaboratory.intrinsic+json": {
              "type": "string"
            }
          },
          "metadata": {},
          "execution_count": 36
        }
      ]
    },
    {
      "cell_type": "code",
      "source": [
        "doc = nip(text)\n",
        "doc"
      ],
      "metadata": {
        "colab": {
          "base_uri": "https://localhost:8080/"
        },
        "id": "6fX3WxkbsVgV",
        "outputId": "0a3d6c2f-c7fb-4f10-ea35-e00c8fbdce0e"
      },
      "execution_count": 37,
      "outputs": [
        {
          "output_type": "execute_result",
          "data": {
            "text/plain": [
              "안봤지만 유승준나와서 비추."
            ]
          },
          "metadata": {},
          "execution_count": 37
        }
      ]
    },
    {
      "cell_type": "code",
      "source": [
        "doc[0].text, doc[0].lemma_, doc[0].tag_ # 실질적인 형태소 분석은 lemma 품사정보가 tag"
      ],
      "metadata": {
        "colab": {
          "base_uri": "https://localhost:8080/"
        },
        "id": "mlCGAY6Nq13Q",
        "outputId": "e6cfc196-1379-4f1d-c2b5-319e8ff4f215"
      },
      "execution_count": 38,
      "outputs": [
        {
          "output_type": "execute_result",
          "data": {
            "text/plain": [
              "('안봤지만', '안봤지+만', 'nq+jxt')"
            ]
          },
          "metadata": {},
          "execution_count": 38
        }
      ]
    },
    {
      "cell_type": "markdown",
      "source": [
        "## 토큰화 해보기"
      ],
      "metadata": {
        "id": "QvhNMQ44s9DK"
      }
    },
    {
      "cell_type": "code",
      "source": [
        "# train_list = []\n",
        "# for text in tqdm(train['review']):\n",
        "#   doc = nip(text)\n",
        "#   tmp_list = []\n",
        "#   for tokens in doc :\n",
        "#     tmp = tokens.lemma_.split('+')\n",
        "#     tmp_list.extend(tmp)\n",
        "\n",
        "#   train_list.append(tmp_list)"
      ],
      "metadata": {
        "id": "LTOJPveUq10h"
      },
      "execution_count": 39,
      "outputs": []
    },
    {
      "cell_type": "markdown",
      "source": [
        "# konlpy 를 이용한 형태소 분석"
      ],
      "metadata": {
        "id": "i28iLndcw7GZ"
      }
    },
    {
      "cell_type": "markdown",
      "source": [
        "- C++, 자바 등 다른 언어로 개발된 오픈소스 형태소 분석 라이브러리를 파이썬에서도 쉽게 사용할 수 있게 해주는 라이브러리\n",
        "- 사용방법\n",
        "  - 클래스 객체 생성\n",
        "  - morphs 메서드와 pos 메서드를 사용하면 된다.\n",
        "  - morphs 메서드\n",
        "    - 토큰화\n",
        "  - pos 메서드\n",
        "    - 품사 태깅이 추가된 토큰화\n",
        "-설치하기\n",
        "  - pip install konlpy"
      ],
      "metadata": {
        "id": "Ni9IESAmxchJ"
      }
    },
    {
      "cell_type": "code",
      "source": [
        "%pip install konlpy"
      ],
      "metadata": {
        "colab": {
          "base_uri": "https://localhost:8080/"
        },
        "id": "KXe14QL9q1vg",
        "outputId": "d43df421-bb83-4835-a66f-ccf7c1d714cf"
      },
      "execution_count": 40,
      "outputs": [
        {
          "output_type": "stream",
          "name": "stdout",
          "text": [
            "Collecting konlpy\n",
            "  Downloading konlpy-0.6.0-py2.py3-none-any.whl.metadata (1.9 kB)\n",
            "Collecting JPype1>=0.7.0 (from konlpy)\n",
            "  Downloading jpype1-1.5.1-cp310-cp310-manylinux_2_17_x86_64.manylinux2014_x86_64.whl.metadata (4.9 kB)\n",
            "Requirement already satisfied: lxml>=4.1.0 in /usr/local/lib/python3.10/dist-packages (from konlpy) (5.3.0)\n",
            "Requirement already satisfied: numpy>=1.6 in /usr/local/lib/python3.10/dist-packages (from konlpy) (1.26.4)\n",
            "Requirement already satisfied: packaging in /usr/local/lib/python3.10/dist-packages (from JPype1>=0.7.0->konlpy) (24.2)\n",
            "Downloading konlpy-0.6.0-py2.py3-none-any.whl (19.4 MB)\n",
            "\u001b[2K   \u001b[90m━━━━━━━━━━━━━━━━━━━━━━━━━━━━━━━━━━━━━━━━\u001b[0m \u001b[32m19.4/19.4 MB\u001b[0m \u001b[31m41.3 MB/s\u001b[0m eta \u001b[36m0:00:00\u001b[0m\n",
            "\u001b[?25hDownloading jpype1-1.5.1-cp310-cp310-manylinux_2_17_x86_64.manylinux2014_x86_64.whl (493 kB)\n",
            "\u001b[2K   \u001b[90m━━━━━━━━━━━━━━━━━━━━━━━━━━━━━━━━━━━━━━━━\u001b[0m \u001b[32m493.8/493.8 kB\u001b[0m \u001b[31m21.3 MB/s\u001b[0m eta \u001b[36m0:00:00\u001b[0m\n",
            "\u001b[?25hInstalling collected packages: JPype1, konlpy\n",
            "Successfully installed JPype1-1.5.1 konlpy-0.6.0\n"
          ]
        }
      ]
    },
    {
      "cell_type": "code",
      "source": [
        "from konlpy.tag import Okt, Komoran, Hannanum, Kkma # 모두가 앞이 대문자 - 클래스라는 의미"
      ],
      "metadata": {
        "id": "tNG20gI4q1sx"
      },
      "execution_count": 41,
      "outputs": []
    },
    {
      "cell_type": "code",
      "source": [
        "text"
      ],
      "metadata": {
        "colab": {
          "base_uri": "https://localhost:8080/",
          "height": 35
        },
        "id": "qtVklA1zq1pu",
        "outputId": "55e07f63-12bc-4f77-81bf-a161b546655a"
      },
      "execution_count": 42,
      "outputs": [
        {
          "output_type": "execute_result",
          "data": {
            "text/plain": [
              "'안봤지만 유승준나와서 비추.'"
            ],
            "application/vnd.google.colaboratory.intrinsic+json": {
              "type": "string"
            }
          },
          "metadata": {},
          "execution_count": 42
        }
      ]
    },
    {
      "cell_type": "markdown",
      "source": [
        "## Okt"
      ],
      "metadata": {
        "id": "fdcg_Tc4yVDw"
      }
    },
    {
      "cell_type": "code",
      "source": [
        "tokenizer = Okt()"
      ],
      "metadata": {
        "id": "hRqwyNMeyWhy"
      },
      "execution_count": 43,
      "outputs": []
    },
    {
      "cell_type": "code",
      "source": [
        "tokenizer.morphs(text)"
      ],
      "metadata": {
        "colab": {
          "base_uri": "https://localhost:8080/"
        },
        "id": "pE0VMz6KymWW",
        "outputId": "bd716ce9-6d11-4a09-ee63-6f79b7f4c81f"
      },
      "execution_count": 44,
      "outputs": [
        {
          "output_type": "execute_result",
          "data": {
            "text/plain": [
              "['안', '봤지만', '유승준', '나와서', '비추', '.']"
            ]
          },
          "metadata": {},
          "execution_count": 44
        }
      ]
    },
    {
      "cell_type": "code",
      "source": [
        "tokenizer.pos(text) # 품사정보도 같이!!!!"
      ],
      "metadata": {
        "colab": {
          "base_uri": "https://localhost:8080/"
        },
        "collapsed": true,
        "id": "BYyC9wwaymRf",
        "outputId": "60a40c9a-0bf3-4f14-fce1-34439266bf5e"
      },
      "execution_count": 45,
      "outputs": [
        {
          "output_type": "execute_result",
          "data": {
            "text/plain": [
              "[('안', 'VerbPrefix'),\n",
              " ('봤지만', 'Verb'),\n",
              " ('유승준', 'Noun'),\n",
              " ('나와서', 'Verb'),\n",
              " ('비추', 'Verb'),\n",
              " ('.', 'Punctuation')]"
            ]
          },
          "metadata": {},
          "execution_count": 45
        }
      ]
    },
    {
      "cell_type": "code",
      "source": [
        "tokenizer = Komoran()\n",
        "tokenizer.morphs(text)"
      ],
      "metadata": {
        "colab": {
          "base_uri": "https://localhost:8080/"
        },
        "id": "HGr4ZIeCymOX",
        "outputId": "cb0a811f-794b-4f64-fb46-3dd1708b70dc"
      },
      "execution_count": 46,
      "outputs": [
        {
          "output_type": "execute_result",
          "data": {
            "text/plain": [
              "['안', '보', '았', '지만', '유승준', '나', '와서', '비', '추', '.']"
            ]
          },
          "metadata": {},
          "execution_count": 46
        }
      ]
    },
    {
      "cell_type": "markdown",
      "source": [
        "## Komoran"
      ],
      "metadata": {
        "id": "RQaPhKQJuQjQ"
      }
    },
    {
      "cell_type": "code",
      "source": [
        "tokenizer = Komoran()\n",
        "tokenizer.morphs(text)"
      ],
      "metadata": {
        "colab": {
          "base_uri": "https://localhost:8080/"
        },
        "id": "QdxPN4vvuTeF",
        "outputId": "f8f2de6d-4ed9-4ead-c1f9-9ac338396150"
      },
      "execution_count": 47,
      "outputs": [
        {
          "output_type": "execute_result",
          "data": {
            "text/plain": [
              "['안', '보', '았', '지만', '유승준', '나', '와서', '비', '추', '.']"
            ]
          },
          "metadata": {},
          "execution_count": 47
        }
      ]
    },
    {
      "cell_type": "code",
      "source": [
        "tokenizer.pos(text)"
      ],
      "metadata": {
        "colab": {
          "base_uri": "https://localhost:8080/"
        },
        "id": "GbqndNu5uWMZ",
        "outputId": "6575a409-0b46-4d88-9591-f2ecf39a709b"
      },
      "execution_count": 48,
      "outputs": [
        {
          "output_type": "execute_result",
          "data": {
            "text/plain": [
              "[('안', 'MAG'),\n",
              " ('보', 'VV'),\n",
              " ('았', 'EP'),\n",
              " ('지만', 'EC'),\n",
              " ('유승준', 'NNP'),\n",
              " ('나', 'JC'),\n",
              " ('와서', 'NNP'),\n",
              " ('비', 'XPN'),\n",
              " ('추', 'NNP'),\n",
              " ('.', 'SF')]"
            ]
          },
          "metadata": {},
          "execution_count": 48
        }
      ]
    },
    {
      "cell_type": "markdown",
      "source": [
        "## Hannanum"
      ],
      "metadata": {
        "id": "D44y-gGJziS6"
      }
    },
    {
      "cell_type": "code",
      "source": [
        "tokenizer = Hannanum()"
      ],
      "metadata": {
        "id": "FIKAcMUAymJe"
      },
      "execution_count": 49,
      "outputs": []
    },
    {
      "cell_type": "code",
      "source": [
        "tokenizer.morphs(text)"
      ],
      "metadata": {
        "colab": {
          "base_uri": "https://localhost:8080/"
        },
        "id": "UKWvsO5xymGD",
        "outputId": "6a0db238-9a8e-4086-9b30-ee09e454d92b"
      },
      "execution_count": 50,
      "outputs": [
        {
          "output_type": "execute_result",
          "data": {
            "text/plain": [
              "['안봤지만', '유승준나와서', '비', '추', '.']"
            ]
          },
          "metadata": {},
          "execution_count": 50
        }
      ]
    },
    {
      "cell_type": "code",
      "source": [
        "tokenizer.pos(text) # 품사정보도 같이!!!!"
      ],
      "metadata": {
        "colab": {
          "base_uri": "https://localhost:8080/"
        },
        "id": "jpnzKH0TzmnF",
        "outputId": "2afcff40-90d9-4bb8-f618-aa473995b852"
      },
      "execution_count": 51,
      "outputs": [
        {
          "output_type": "execute_result",
          "data": {
            "text/plain": [
              "[('안봤지만', 'N'), ('유승준나와서', 'N'), ('비', 'X'), ('추', 'N'), ('.', 'S')]"
            ]
          },
          "metadata": {},
          "execution_count": 51
        }
      ]
    },
    {
      "cell_type": "markdown",
      "source": [
        "##  Kkma(꼬꼬마)"
      ],
      "metadata": {
        "id": "bLzpCyr0ztXR"
      }
    },
    {
      "cell_type": "code",
      "source": [
        "tokenizer = Kkma()"
      ],
      "metadata": {
        "id": "ai07u2-ezuSQ"
      },
      "execution_count": 52,
      "outputs": []
    },
    {
      "cell_type": "code",
      "source": [
        "tokenizer.morphs(text)"
      ],
      "metadata": {
        "colab": {
          "base_uri": "https://localhost:8080/"
        },
        "id": "nYLEE7thzwu0",
        "outputId": "92c0638b-9480-4bc3-8f36-44c476c395c2"
      },
      "execution_count": 53,
      "outputs": [
        {
          "output_type": "execute_result",
          "data": {
            "text/plain": [
              "['안', '보', '았', '지만', '유', '승', '주', 'ㄴ', '나오', '아서', '비추', '.']"
            ]
          },
          "metadata": {},
          "execution_count": 53
        }
      ]
    },
    {
      "cell_type": "code",
      "source": [
        "tokenizer.pos(text) # 품사정보도 같이!!!!"
      ],
      "metadata": {
        "colab": {
          "base_uri": "https://localhost:8080/"
        },
        "id": "gCwZVznmzy3a",
        "outputId": "c6dd3df4-469d-48f5-f513-c5eb92616765"
      },
      "execution_count": 54,
      "outputs": [
        {
          "output_type": "execute_result",
          "data": {
            "text/plain": [
              "[('안', 'MAG'),\n",
              " ('보', 'VV'),\n",
              " ('았', 'EPT'),\n",
              " ('지만', 'ECE'),\n",
              " ('유', 'NNG'),\n",
              " ('승', 'NNG'),\n",
              " ('주', 'VV'),\n",
              " ('ㄴ', 'ETD'),\n",
              " ('나오', 'VV'),\n",
              " ('아서', 'ECD'),\n",
              " ('비추', 'NNG'),\n",
              " ('.', 'SF')]"
            ]
          },
          "metadata": {},
          "execution_count": 54
        }
      ]
    },
    {
      "cell_type": "markdown",
      "source": [
        "# Mecab 형태소 분석기\n",
        "- 빠름! 히히"
      ],
      "metadata": {
        "id": "B98fjhHg0UqE"
      }
    },
    {
      "cell_type": "code",
      "source": [
        "%pip install python-mecab-ko"
      ],
      "metadata": {
        "colab": {
          "base_uri": "https://localhost:8080/"
        },
        "id": "WaR0Lwrc0MPW",
        "outputId": "ee11a970-ca00-4972-c9bc-2f179740c734"
      },
      "execution_count": 55,
      "outputs": [
        {
          "output_type": "stream",
          "name": "stdout",
          "text": [
            "Collecting python-mecab-ko\n",
            "  Downloading python_mecab_ko-1.3.7-cp310-cp310-manylinux_2_17_x86_64.manylinux2014_x86_64.whl.metadata (3.4 kB)\n",
            "Collecting python-mecab-ko-dic (from python-mecab-ko)\n",
            "  Downloading python_mecab_ko_dic-2.1.1.post2-py3-none-any.whl.metadata (1.4 kB)\n",
            "Downloading python_mecab_ko-1.3.7-cp310-cp310-manylinux_2_17_x86_64.manylinux2014_x86_64.whl (577 kB)\n",
            "\u001b[2K   \u001b[90m━━━━━━━━━━━━━━━━━━━━━━━━━━━━━━━━━━━━━━━━\u001b[0m \u001b[32m577.1/577.1 kB\u001b[0m \u001b[31m12.9 MB/s\u001b[0m eta \u001b[36m0:00:00\u001b[0m\n",
            "\u001b[?25hDownloading python_mecab_ko_dic-2.1.1.post2-py3-none-any.whl (34.5 MB)\n",
            "\u001b[2K   \u001b[90m━━━━━━━━━━━━━━━━━━━━━━━━━━━━━━━━━━━━━━━━\u001b[0m \u001b[32m34.5/34.5 MB\u001b[0m \u001b[31m24.8 MB/s\u001b[0m eta \u001b[36m0:00:00\u001b[0m\n",
            "\u001b[?25hInstalling collected packages: python-mecab-ko-dic, python-mecab-ko\n",
            "Successfully installed python-mecab-ko-1.3.7 python-mecab-ko-dic-2.1.1.post2\n"
          ]
        }
      ]
    },
    {
      "cell_type": "code",
      "source": [
        "from mecab import MeCab"
      ],
      "metadata": {
        "id": "fy2iHuXK0MMj"
      },
      "execution_count": 56,
      "outputs": []
    },
    {
      "cell_type": "code",
      "source": [
        "tokenizer = MeCab()"
      ],
      "metadata": {
        "id": "I_sxDB3J0eHh"
      },
      "execution_count": 57,
      "outputs": []
    },
    {
      "cell_type": "code",
      "source": [
        "tokenizer.morphs(text)"
      ],
      "metadata": {
        "colab": {
          "base_uri": "https://localhost:8080/"
        },
        "id": "InfMJQOG0MJ5",
        "outputId": "686eed8a-6a9f-4cab-9cb5-45257acb93ef"
      },
      "execution_count": 58,
      "outputs": [
        {
          "output_type": "execute_result",
          "data": {
            "text/plain": [
              "['안', '봤', '지만', '유승준', '나와서', '비추', '.']"
            ]
          },
          "metadata": {},
          "execution_count": 58
        }
      ]
    },
    {
      "cell_type": "code",
      "source": [
        "tokenizer.pos(text) # 품사정보도 같이!!!!"
      ],
      "metadata": {
        "colab": {
          "base_uri": "https://localhost:8080/"
        },
        "id": "mjlizmPo0MHO",
        "outputId": "044ea08f-95b4-4d13-9144-5e62e6216c6a"
      },
      "execution_count": 59,
      "outputs": [
        {
          "output_type": "execute_result",
          "data": {
            "text/plain": [
              "[('안', 'MAG'),\n",
              " ('봤', 'VV+EP'),\n",
              " ('지만', 'EC'),\n",
              " ('유승준', 'NNP'),\n",
              " ('나와서', 'VV+EC'),\n",
              " ('비추', 'NNG'),\n",
              " ('.', 'SF')]"
            ]
          },
          "metadata": {},
          "execution_count": 59
        }
      ]
    },
    {
      "cell_type": "markdown",
      "source": [
        "# 속도 비교 해보기"
      ],
      "metadata": {
        "id": "J_zMpb2_1KnT"
      }
    },
    {
      "cell_type": "code",
      "source": [
        "toikenizer = MeCab()\n",
        "train_list = []\n",
        "for text in tqdm(train['review']):\n",
        "  tokens = tokenizer.pos(text)\n",
        "  tokens = [t for t,p in tokens]\n",
        "  train_list.append(tokens)"
      ],
      "metadata": {
        "colab": {
          "base_uri": "https://localhost:8080/",
          "height": 49,
          "referenced_widgets": [
            "34c7da828a5d4dbea1f25e64ba04c58d",
            "85e4d1098cc64e0fbe6033cfdef11627",
            "14eace2a75fb41daacc79e39f27c5ff7",
            "cfe766470340432b93d0b77b57aff090",
            "8b4a99ba26fc4ae09802c3652a67eb4c",
            "44ee11328884435883e5c9ba9d9a386e",
            "33ef1ec204f347848b3e11ed772579a0",
            "96b07d3879b74ec28f42ed23c008df04",
            "a56290cb9cc849fcae795f64b4c6a59f",
            "8fc8d97943bf46e597e92fe8aad0d57f",
            "b50044ecc58345b1b8faa38b2c95e52a"
          ]
        },
        "id": "j-G1Zqi60MEL",
        "outputId": "1400f31d-98cf-43fc-b2cd-2949d8bb7c81"
      },
      "execution_count": 60,
      "outputs": [
        {
          "output_type": "display_data",
          "data": {
            "text/plain": [
              "  0%|          | 0/2000 [00:00<?, ?it/s]"
            ],
            "application/vnd.jupyter.widget-view+json": {
              "version_major": 2,
              "version_minor": 0,
              "model_id": "34c7da828a5d4dbea1f25e64ba04c58d"
            }
          },
          "metadata": {}
        }
      ]
    },
    {
      "cell_type": "markdown",
      "source": [
        "# Kiwi로 학습 데이터와 테스트 데이터를 만들기"
      ],
      "metadata": {
        "id": "bUu829q72Wnf"
      }
    },
    {
      "cell_type": "markdown",
      "source": [
        "```\n",
        "kiwi를 이용하여 학습데이터와 테스트 데이터를 토큰화 해서 각각 train_list와 test_list에 담아주세요\n",
        "```"
      ],
      "metadata": {
        "id": "LN0z8v2S2Z_V"
      }
    },
    {
      "cell_type": "markdown",
      "source": [
        "- 내 코드"
      ],
      "metadata": {
        "id": "DzcrQaq-xZLt"
      }
    },
    {
      "cell_type": "code",
      "source": [
        "# stopwords = Stopwords()\n",
        "\n",
        "# train_list = []\n",
        "# result = kiwi.tokenize(train['review'], stopwords = stopwords)\n",
        "# for tokens in tqdm(result, total = train['review'].shape[0]):\n",
        "#   tokens = [ t.form for t in tokens if t.tag[0] in 'NV']\n",
        "#   train_list.append(tokens)"
      ],
      "metadata": {
        "id": "RvDU7eGx0L7R"
      },
      "execution_count": 61,
      "outputs": []
    },
    {
      "cell_type": "code",
      "source": [
        "# test_list = []\n",
        "# result = kiwi.tokenize(test['review'], stopwords = stopwords)\n",
        "# for tokens in tqdm(result, total = test['review'].shape[0]):\n",
        "#   tokens = [ t.form for t in tokens if t.tag[0] in 'NV']\n",
        "#   test_list.append(tokens)"
      ],
      "metadata": {
        "id": "gGPTv0-p2nTt"
      },
      "execution_count": 62,
      "outputs": []
    },
    {
      "cell_type": "markdown",
      "source": [
        "- 강사님 코드"
      ],
      "metadata": {
        "id": "LW_T1RXG4_17"
      }
    },
    {
      "cell_type": "code",
      "source": [
        "kiwi = Kiwi()\n",
        "result = kiwi.tokenize(train['review']) # 여러 문장 토큰화 한 결과를 저장\n",
        "train_list = []\n",
        "\n",
        "# for tokens in tqdm(result):\n",
        "#   tmp = [ t.form for t in tokens ]\n",
        "#   train_list.append(tmp)\n",
        "\n",
        "# 위의 for문이랑 똑같음\n",
        "train_list = [ [ t.form for t in tokens ] for tokens in result]"
      ],
      "metadata": {
        "id": "ywI2pwFX4jc3"
      },
      "execution_count": 63,
      "outputs": []
    },
    {
      "cell_type": "code",
      "source": [
        "kiwi = Kiwi()\n",
        "result = kiwi.tokenize(test['review'])\n",
        "test_list=[]\n",
        "test_list = [ [ t.form for t in tokens ] for tokens in result]"
      ],
      "metadata": {
        "id": "_gZMhPal4NB9"
      },
      "execution_count": 64,
      "outputs": []
    },
    {
      "cell_type": "markdown",
      "source": [
        "- TF-IDF 변환\n",
        " - TF (단어 빈도수)\n",
        " - IDF (단어 중요도) - 단어가 문서에 적게 등장할수록 중요도 높음\n",
        " - 형태소 분석 후 문장을 숫자 벡터로 변환"
      ],
      "metadata": {
        "id": "O_X_vwyJwSP4"
      }
    },
    {
      "cell_type": "code",
      "source": [
        "train_list[:2]"
      ],
      "metadata": {
        "colab": {
          "base_uri": "https://localhost:8080/"
        },
        "id": "pXUd3jl63txe",
        "outputId": "639bd601-f9ac-403f-84e5-9c2153f79ed4"
      },
      "execution_count": 65,
      "outputs": [
        {
          "output_type": "execute_result",
          "data": {
            "text/plain": [
              "[['이런', '최고', '의', '영화', '를', '이제서야', '보', '다니'],\n",
              " ['안', '보', '었', '지만', '유승준', '나오', '어서', '비추', '.']]"
            ]
          },
          "metadata": {},
          "execution_count": 65
        }
      ]
    },
    {
      "cell_type": "code",
      "source": [
        "from sklearn.feature_extraction.text import TfidfVectorizer\n",
        "\n",
        "# TfidfVectorizer 초기화\n",
        "vec = TfidfVectorizer(max_features=500)\n",
        "\n",
        "# train_list의 각 텍스트를 처리\n",
        "train_data = vec.fit_transform(\n",
        "    [' '.join(t) for t in train_list]  # train_list는 토큰화된 텍스트 리스트라고 가정\n",
        ").A"
      ],
      "metadata": {
        "id": "hbUALJwB5pZE"
      },
      "execution_count": 66,
      "outputs": []
    },
    {
      "cell_type": "code",
      "source": [
        "train_data"
      ],
      "metadata": {
        "colab": {
          "base_uri": "https://localhost:8080/"
        },
        "id": "72qWpoU53eGt",
        "outputId": "869f561d-48d6-4623-e8fe-35a15727820b"
      },
      "execution_count": 67,
      "outputs": [
        {
          "output_type": "execute_result",
          "data": {
            "text/plain": [
              "array([[0., 0., 0., ..., 0., 0., 0.],\n",
              "       [0., 0., 0., ..., 0., 0., 0.],\n",
              "       [0., 0., 0., ..., 0., 0., 0.],\n",
              "       ...,\n",
              "       [0., 0., 0., ..., 0., 0., 0.],\n",
              "       [0., 0., 0., ..., 0., 0., 0.],\n",
              "       [0., 0., 0., ..., 0., 0., 0.]])"
            ]
          },
          "metadata": {},
          "execution_count": 67
        }
      ]
    },
    {
      "cell_type": "code",
      "source": [
        "test_data = vec.transform(\n",
        "    [' '.join(t) for t in test_list]\n",
        ").A"
      ],
      "metadata": {
        "id": "fvnho4wg5pWV"
      },
      "execution_count": 68,
      "outputs": []
    },
    {
      "cell_type": "code",
      "source": [
        "train_data.shape, test_data.shape"
      ],
      "metadata": {
        "colab": {
          "base_uri": "https://localhost:8080/"
        },
        "id": "CQUBFUDv5pTe",
        "outputId": "fa0f5be6-b780-4b07-d81c-fcc0762264e8"
      },
      "execution_count": 69,
      "outputs": [
        {
          "output_type": "execute_result",
          "data": {
            "text/plain": [
              "((2000, 500), (1000, 500))"
            ]
          },
          "metadata": {},
          "execution_count": 69
        }
      ]
    },
    {
      "cell_type": "code",
      "source": [
        "(train_data.sum(axis=1)==0).sum()"
      ],
      "metadata": {
        "colab": {
          "base_uri": "https://localhost:8080/"
        },
        "id": "dLtWmpnn5pQC",
        "outputId": "ee9a33ee-faba-4819-bde8-ba7ecdda2b6b"
      },
      "execution_count": 70,
      "outputs": [
        {
          "output_type": "execute_result",
          "data": {
            "text/plain": [
              "131"
            ]
          },
          "metadata": {},
          "execution_count": 70
        }
      ]
    },
    {
      "cell_type": "code",
      "source": [
        "target= train['target'].to_numpy().reshape(-1,1) # 이진 분류\n",
        "target.shape"
      ],
      "metadata": {
        "colab": {
          "base_uri": "https://localhost:8080/"
        },
        "id": "gTzkyLSs67S5",
        "outputId": "f990c9da-f37d-4006-8731-fb90121ba0c9"
      },
      "execution_count": 82,
      "outputs": [
        {
          "output_type": "execute_result",
          "data": {
            "text/plain": [
              "(2000, 1)"
            ]
          },
          "metadata": {},
          "execution_count": 82
        }
      ]
    },
    {
      "cell_type": "markdown",
      "source": [
        "# 데이터셋클래스\n",
        "- 데이터를 효율적으로 모델에 넣기 위해 만듬"
      ],
      "metadata": {
        "id": "7Y1IixnKMlDj"
      }
    },
    {
      "cell_type": "code",
      "source": [
        "import torch"
      ],
      "metadata": {
        "id": "MLOlGw8JMxbu"
      },
      "execution_count": 72,
      "outputs": []
    },
    {
      "cell_type": "code",
      "source": [
        "class ReviewDataset(torch.utils.data.Dataset):\n",
        "    def __init__(self, x, y=None):\n",
        "        # x는 벡터화 된 문장데이터\n",
        "        # y는 정답 레이블\n",
        "        self.x , self.y = x, y\n",
        "\n",
        "    # PyTorch의 DataLoader는 데이터셋의 길이를 바탕으로 배치(batch)를 나누기 때문에 필수 메서드\n",
        "    def __len__(self):\n",
        "        return self.x.shape[0]\n",
        "\n",
        "    def __getitem__(self, i):\n",
        "        item = {}\n",
        "        item[\"x\"] = torch.Tensor(self.x[i])\n",
        "        if self.y is not None:\n",
        "            item[\"y\"] = torch.Tensor(self.y[i])\n",
        "        return item"
      ],
      "metadata": {
        "collapsed": true,
        "id": "i46SKj8hMkiM"
      },
      "execution_count": 73,
      "outputs": []
    },
    {
      "cell_type": "markdown",
      "source": [
        "**3. Tensor vs tensor**\n",
        "\n",
        "| 구분               | `torch.Tensor`            | `torch.tensor`          |\n",
        "|--------------------|---------------------------|-------------------------|\n",
        "| **종류**          | 클래스                    | 함수                   |\n",
        "| **기본 dtype**     | `torch.float32` (기본값) | 입력 데이터에 따라 결정  |\n",
        "| **데이터 보존**    | X (타입 명확하지 않음)     | O (타입과 값 유지)       |\n",
        "| **사용 추천**      | 명시적으로 선언할 때      | 일반적으로 사용         |\n"
      ],
      "metadata": {
        "id": "yrSmwlVk8xg1"
      }
    },
    {
      "cell_type": "code",
      "source": [
        "dt = ReviewDataset(train_data,target)\n",
        "dl= torch.utils.data.DataLoader(dt, batch_size=2)\n",
        "batch = next(iter(dl))\n",
        "batch"
      ],
      "metadata": {
        "colab": {
          "base_uri": "https://localhost:8080/"
        },
        "id": "o6SLLSNfMtx8",
        "outputId": "c85ca891-a3de-49cf-c120-098c376aa94a",
        "collapsed": true
      },
      "execution_count": 74,
      "outputs": [
        {
          "output_type": "execute_result",
          "data": {
            "text/plain": [
              "{'x': tensor([[0.0000, 0.0000, 0.0000, 0.0000, 0.0000, 0.0000, 0.0000, 0.0000, 0.0000,\n",
              "          0.0000, 0.0000, 0.0000, 0.0000, 0.0000, 0.0000, 0.0000, 0.0000, 0.0000,\n",
              "          0.0000, 0.0000, 0.0000, 0.0000, 0.0000, 0.0000, 0.0000, 0.0000, 0.0000,\n",
              "          0.0000, 0.0000, 0.0000, 0.0000, 0.0000, 0.0000, 0.0000, 0.0000, 0.0000,\n",
              "          0.0000, 0.0000, 0.0000, 0.0000, 0.0000, 0.0000, 0.0000, 0.0000, 0.0000,\n",
              "          0.0000, 0.0000, 0.0000, 0.0000, 0.0000, 0.0000, 0.0000, 0.0000, 0.0000,\n",
              "          0.0000, 0.0000, 0.0000, 0.0000, 0.0000, 0.0000, 0.0000, 0.0000, 0.0000,\n",
              "          0.0000, 0.0000, 0.0000, 0.0000, 0.0000, 0.0000, 0.0000, 0.0000, 0.0000,\n",
              "          0.0000, 0.0000, 0.0000, 0.0000, 0.0000, 0.0000, 0.0000, 0.0000, 0.0000,\n",
              "          0.0000, 0.0000, 0.0000, 0.0000, 0.0000, 0.0000, 0.0000, 0.0000, 0.0000,\n",
              "          0.0000, 0.0000, 0.0000, 0.0000, 0.0000, 0.0000, 0.0000, 0.0000, 0.0000,\n",
              "          0.0000, 0.0000, 0.0000, 0.0000, 0.0000, 0.0000, 0.0000, 0.0000, 0.0000,\n",
              "          0.0000, 0.0000, 0.0000, 0.0000, 0.0000, 0.0000, 0.0000, 0.0000, 0.0000,\n",
              "          0.0000, 0.0000, 0.0000, 0.0000, 0.0000, 0.0000, 0.0000, 0.0000, 0.0000,\n",
              "          0.0000, 0.0000, 0.0000, 0.0000, 0.0000, 0.0000, 0.0000, 0.6410, 0.0000,\n",
              "          0.0000, 0.0000, 0.0000, 0.0000, 0.0000, 0.0000, 0.0000, 0.0000, 0.0000,\n",
              "          0.0000, 0.0000, 0.0000, 0.0000, 0.0000, 0.0000, 0.0000, 0.0000, 0.0000,\n",
              "          0.0000, 0.0000, 0.0000, 0.0000, 0.0000, 0.0000, 0.0000, 0.0000, 0.0000,\n",
              "          0.0000, 0.0000, 0.0000, 0.0000, 0.0000, 0.0000, 0.0000, 0.0000, 0.0000,\n",
              "          0.0000, 0.0000, 0.0000, 0.0000, 0.0000, 0.0000, 0.0000, 0.0000, 0.0000,\n",
              "          0.0000, 0.0000, 0.0000, 0.0000, 0.0000, 0.0000, 0.0000, 0.0000, 0.0000,\n",
              "          0.0000, 0.0000, 0.0000, 0.0000, 0.0000, 0.0000, 0.0000, 0.0000, 0.0000,\n",
              "          0.0000, 0.0000, 0.0000, 0.0000, 0.0000, 0.0000, 0.0000, 0.0000, 0.0000,\n",
              "          0.0000, 0.0000, 0.0000, 0.0000, 0.0000, 0.0000, 0.0000, 0.0000, 0.0000,\n",
              "          0.0000, 0.0000, 0.0000, 0.0000, 0.0000, 0.0000, 0.0000, 0.0000, 0.0000,\n",
              "          0.0000, 0.0000, 0.0000, 0.0000, 0.0000, 0.0000, 0.0000, 0.0000, 0.0000,\n",
              "          0.0000, 0.0000, 0.0000, 0.0000, 0.0000, 0.0000, 0.0000, 0.0000, 0.0000,\n",
              "          0.0000, 0.0000, 0.0000, 0.0000, 0.0000, 0.0000, 0.0000, 0.0000, 0.0000,\n",
              "          0.0000, 0.0000, 0.0000, 0.0000, 0.0000, 0.0000, 0.0000, 0.0000, 0.0000,\n",
              "          0.0000, 0.0000, 0.0000, 0.0000, 0.0000, 0.0000, 0.0000, 0.0000, 0.0000,\n",
              "          0.0000, 0.0000, 0.0000, 0.0000, 0.0000, 0.0000, 0.0000, 0.0000, 0.0000,\n",
              "          0.0000, 0.0000, 0.0000, 0.0000, 0.0000, 0.0000, 0.0000, 0.0000, 0.0000,\n",
              "          0.0000, 0.0000, 0.0000, 0.0000, 0.0000, 0.0000, 0.0000, 0.0000, 0.0000,\n",
              "          0.0000, 0.0000, 0.0000, 0.0000, 0.0000, 0.0000, 0.0000, 0.0000, 0.0000,\n",
              "          0.0000, 0.0000, 0.0000, 0.0000, 0.0000, 0.0000, 0.0000, 0.0000, 0.0000,\n",
              "          0.0000, 0.0000, 0.0000, 0.0000, 0.0000, 0.0000, 0.0000, 0.0000, 0.0000,\n",
              "          0.0000, 0.0000, 0.0000, 0.0000, 0.0000, 0.0000, 0.0000, 0.0000, 0.0000,\n",
              "          0.0000, 0.0000, 0.0000, 0.0000, 0.0000, 0.0000, 0.0000, 0.0000, 0.0000,\n",
              "          0.2552, 0.0000, 0.0000, 0.0000, 0.0000, 0.0000, 0.0000, 0.0000, 0.0000,\n",
              "          0.0000, 0.0000, 0.0000, 0.0000, 0.0000, 0.0000, 0.0000, 0.0000, 0.0000,\n",
              "          0.0000, 0.0000, 0.0000, 0.0000, 0.0000, 0.0000, 0.0000, 0.0000, 0.0000,\n",
              "          0.0000, 0.0000, 0.0000, 0.0000, 0.0000, 0.0000, 0.0000, 0.0000, 0.0000,\n",
              "          0.0000, 0.0000, 0.0000, 0.5188, 0.0000, 0.0000, 0.0000, 0.0000, 0.0000,\n",
              "          0.0000, 0.0000, 0.0000, 0.0000, 0.0000, 0.0000, 0.0000, 0.0000, 0.0000,\n",
              "          0.0000, 0.0000, 0.0000, 0.0000, 0.0000, 0.0000, 0.0000, 0.0000, 0.0000,\n",
              "          0.0000, 0.0000, 0.0000, 0.0000, 0.0000, 0.0000, 0.0000, 0.0000, 0.0000,\n",
              "          0.0000, 0.0000, 0.0000, 0.0000, 0.0000, 0.0000, 0.0000, 0.0000, 0.0000,\n",
              "          0.0000, 0.0000, 0.0000, 0.0000, 0.0000, 0.0000, 0.0000, 0.0000, 0.0000,\n",
              "          0.0000, 0.0000, 0.0000, 0.0000, 0.0000, 0.0000, 0.0000, 0.0000, 0.0000,\n",
              "          0.0000, 0.0000, 0.0000, 0.0000, 0.0000, 0.0000, 0.0000, 0.0000, 0.0000,\n",
              "          0.0000, 0.0000, 0.0000, 0.0000, 0.0000, 0.0000, 0.0000, 0.0000, 0.0000,\n",
              "          0.0000, 0.0000, 0.5047, 0.0000, 0.0000, 0.0000, 0.0000, 0.0000, 0.0000,\n",
              "          0.0000, 0.0000, 0.0000, 0.0000, 0.0000, 0.0000, 0.0000, 0.0000, 0.0000,\n",
              "          0.0000, 0.0000, 0.0000, 0.0000, 0.0000, 0.0000, 0.0000, 0.0000, 0.0000,\n",
              "          0.0000, 0.0000, 0.0000, 0.0000, 0.0000, 0.0000, 0.0000, 0.0000, 0.0000,\n",
              "          0.0000, 0.0000, 0.0000, 0.0000, 0.0000],\n",
              "         [0.0000, 0.0000, 0.0000, 0.0000, 0.0000, 0.0000, 0.0000, 0.0000, 0.0000,\n",
              "          0.0000, 0.0000, 0.0000, 0.0000, 0.0000, 0.0000, 0.0000, 0.0000, 0.0000,\n",
              "          0.0000, 0.0000, 0.0000, 0.0000, 0.0000, 0.0000, 0.0000, 0.0000, 0.0000,\n",
              "          0.0000, 0.0000, 0.0000, 0.0000, 0.0000, 0.0000, 0.0000, 0.0000, 0.0000,\n",
              "          0.0000, 0.0000, 0.0000, 0.0000, 0.0000, 0.0000, 0.0000, 0.0000, 0.0000,\n",
              "          0.0000, 0.0000, 0.0000, 0.0000, 0.0000, 0.0000, 0.0000, 0.0000, 0.0000,\n",
              "          0.0000, 0.0000, 0.0000, 0.0000, 0.0000, 0.0000, 0.0000, 0.0000, 0.0000,\n",
              "          0.0000, 0.0000, 0.0000, 0.0000, 0.0000, 0.0000, 0.0000, 0.0000, 0.0000,\n",
              "          0.0000, 0.0000, 0.0000, 0.0000, 0.0000, 0.0000, 0.0000, 0.0000, 0.0000,\n",
              "          0.0000, 0.0000, 0.0000, 0.0000, 0.0000, 0.0000, 0.0000, 0.0000, 0.0000,\n",
              "          0.0000, 0.0000, 0.0000, 0.0000, 0.0000, 0.0000, 0.0000, 0.0000, 0.0000,\n",
              "          0.0000, 0.0000, 0.0000, 0.0000, 0.0000, 0.0000, 0.6159, 0.0000, 0.0000,\n",
              "          0.0000, 0.0000, 0.0000, 0.0000, 0.0000, 0.0000, 0.0000, 0.0000, 0.0000,\n",
              "          0.0000, 0.0000, 0.0000, 0.0000, 0.0000, 0.0000, 0.0000, 0.0000, 0.0000,\n",
              "          0.0000, 0.0000, 0.0000, 0.0000, 0.0000, 0.0000, 0.0000, 0.0000, 0.0000,\n",
              "          0.0000, 0.0000, 0.0000, 0.0000, 0.0000, 0.0000, 0.0000, 0.0000, 0.0000,\n",
              "          0.0000, 0.0000, 0.0000, 0.0000, 0.0000, 0.0000, 0.0000, 0.0000, 0.0000,\n",
              "          0.0000, 0.0000, 0.0000, 0.0000, 0.0000, 0.0000, 0.0000, 0.0000, 0.0000,\n",
              "          0.0000, 0.0000, 0.0000, 0.0000, 0.0000, 0.0000, 0.0000, 0.0000, 0.0000,\n",
              "          0.0000, 0.0000, 0.0000, 0.0000, 0.0000, 0.0000, 0.0000, 0.0000, 0.0000,\n",
              "          0.0000, 0.0000, 0.0000, 0.0000, 0.0000, 0.0000, 0.0000, 0.0000, 0.0000,\n",
              "          0.0000, 0.0000, 0.0000, 0.0000, 0.0000, 0.0000, 0.0000, 0.0000, 0.0000,\n",
              "          0.0000, 0.0000, 0.0000, 0.0000, 0.0000, 0.0000, 0.0000, 0.0000, 0.0000,\n",
              "          0.0000, 0.0000, 0.0000, 0.0000, 0.0000, 0.0000, 0.0000, 0.0000, 0.0000,\n",
              "          0.0000, 0.0000, 0.0000, 0.0000, 0.0000, 0.0000, 0.0000, 0.0000, 0.0000,\n",
              "          0.0000, 0.0000, 0.0000, 0.0000, 0.0000, 0.0000, 0.0000, 0.0000, 0.0000,\n",
              "          0.0000, 0.0000, 0.0000, 0.0000, 0.0000, 0.0000, 0.0000, 0.0000, 0.0000,\n",
              "          0.0000, 0.0000, 0.0000, 0.0000, 0.0000, 0.0000, 0.0000, 0.0000, 0.0000,\n",
              "          0.0000, 0.0000, 0.0000, 0.0000, 0.0000, 0.0000, 0.0000, 0.0000, 0.0000,\n",
              "          0.0000, 0.0000, 0.0000, 0.0000, 0.0000, 0.0000, 0.0000, 0.0000, 0.0000,\n",
              "          0.0000, 0.0000, 0.0000, 0.0000, 0.0000, 0.0000, 0.0000, 0.0000, 0.0000,\n",
              "          0.0000, 0.0000, 0.0000, 0.0000, 0.0000, 0.0000, 0.0000, 0.0000, 0.0000,\n",
              "          0.0000, 0.0000, 0.0000, 0.0000, 0.0000, 0.0000, 0.0000, 0.0000, 0.0000,\n",
              "          0.0000, 0.0000, 0.0000, 0.0000, 0.0000, 0.0000, 0.0000, 0.0000, 0.5129,\n",
              "          0.0000, 0.0000, 0.0000, 0.0000, 0.0000, 0.0000, 0.0000, 0.0000, 0.0000,\n",
              "          0.0000, 0.0000, 0.0000, 0.0000, 0.0000, 0.0000, 0.0000, 0.0000, 0.0000,\n",
              "          0.0000, 0.0000, 0.0000, 0.0000, 0.0000, 0.0000, 0.0000, 0.0000, 0.0000,\n",
              "          0.0000, 0.0000, 0.0000, 0.0000, 0.0000, 0.0000, 0.0000, 0.0000, 0.0000,\n",
              "          0.0000, 0.0000, 0.0000, 0.0000, 0.0000, 0.0000, 0.0000, 0.0000, 0.0000,\n",
              "          0.0000, 0.0000, 0.0000, 0.0000, 0.0000, 0.0000, 0.0000, 0.0000, 0.0000,\n",
              "          0.0000, 0.0000, 0.0000, 0.0000, 0.0000, 0.0000, 0.0000, 0.0000, 0.0000,\n",
              "          0.0000, 0.0000, 0.0000, 0.0000, 0.0000, 0.0000, 0.0000, 0.0000, 0.0000,\n",
              "          0.0000, 0.0000, 0.0000, 0.0000, 0.0000, 0.0000, 0.0000, 0.0000, 0.0000,\n",
              "          0.0000, 0.0000, 0.0000, 0.0000, 0.0000, 0.0000, 0.0000, 0.0000, 0.0000,\n",
              "          0.0000, 0.0000, 0.0000, 0.0000, 0.0000, 0.0000, 0.0000, 0.0000, 0.0000,\n",
              "          0.0000, 0.0000, 0.0000, 0.0000, 0.0000, 0.0000, 0.0000, 0.0000, 0.0000,\n",
              "          0.0000, 0.0000, 0.0000, 0.0000, 0.0000, 0.0000, 0.0000, 0.0000, 0.0000,\n",
              "          0.0000, 0.0000, 0.0000, 0.0000, 0.0000, 0.0000, 0.0000, 0.0000, 0.0000,\n",
              "          0.0000, 0.0000, 0.0000, 0.0000, 0.0000, 0.0000, 0.0000, 0.0000, 0.0000,\n",
              "          0.0000, 0.0000, 0.0000, 0.0000, 0.0000, 0.0000, 0.5980, 0.0000, 0.0000,\n",
              "          0.0000, 0.0000, 0.0000, 0.0000, 0.0000, 0.0000, 0.0000, 0.0000, 0.0000,\n",
              "          0.0000, 0.0000, 0.0000, 0.0000, 0.0000, 0.0000, 0.0000, 0.0000, 0.0000,\n",
              "          0.0000, 0.0000, 0.0000, 0.0000, 0.0000, 0.0000, 0.0000, 0.0000, 0.0000,\n",
              "          0.0000, 0.0000, 0.0000, 0.0000, 0.0000, 0.0000, 0.0000, 0.0000, 0.0000,\n",
              "          0.0000, 0.0000, 0.0000, 0.0000, 0.0000, 0.0000, 0.0000, 0.0000, 0.0000,\n",
              "          0.0000, 0.0000, 0.0000, 0.0000, 0.0000]]),\n",
              " 'y': tensor([[1.],\n",
              "         [0.]])}"
            ]
          },
          "metadata": {},
          "execution_count": 74
        }
      ]
    },
    {
      "cell_type": "markdown",
      "source": [
        "- 잔차 연결\n",
        "  - x와 출력\n",
        "𝑓\n",
        "(\n",
        "𝑥\n",
        ")\n",
        "의 크기(차원)가 같아야 𝑥+𝑓\n",
        "(\n",
        "𝑥\n",
        ")\n",
        " 연산이 가능"
      ],
      "metadata": {
        "id": "kBFzsl54E8t3"
      }
    },
    {
      "cell_type": "markdown",
      "source": [
        "```\n",
        "Input x\n",
        "   │\n",
        "   ├── Linear ── ReLU ── Dropout ── Linear\n",
        "   │                                             │  \n",
        "   └────────────── Skip Connection ┘\n",
        "                │\n",
        "               ReLU\n",
        "                │\n",
        "             Output\n",
        "\n",
        "```"
      ],
      "metadata": {
        "id": "sYLjLtYlKw-Z"
      }
    },
    {
      "cell_type": "code",
      "source": [
        "# 잔차 블록 구현\n",
        "# 입력값에 추가적인 변환값을 더함\n",
        "# 기울기 소실 문제 해결\n",
        "# 입력 데이터 x: (batch_size, in_features) 인 텐서\n",
        "class ResidualBlock(torch.nn.Module):\n",
        "    def __init__(self, in_features):\n",
        "        super().__init__()\n",
        "        self.fx = torch.nn.Sequential(\n",
        "            # 가중치 사용해서 입력 데이터 변형\n",
        "            torch.nn.Linear(in_features, in_features), # 선형 변환 (Fully Connected Layer)\n",
        "            # 양수값만 남기기, 음수 제거\n",
        "            torch.nn.ReLU(), # 비선형성을 추가\n",
        "            torch.nn.Dropout(0.5), # 노드 50% 비활성화\n",
        "            torch.nn.Linear(in_features, in_features) # 선형 변환 (Fully Connected Layer)\n",
        "        )\n",
        "        # fx와 x를 더한 뒤, 그 결과물을 최종적으로 정리하기 위해 괄호 밖\n",
        "        self.relu = torch.nn.ReLU()\n",
        "\n",
        "    def forward(self, x):\n",
        "        fx = self.fx(x)\n",
        "        hx = fx + x\n",
        "        return self.relu(hx)"
      ],
      "metadata": {
        "id": "cfFO6Ess7YTR"
      },
      "execution_count": 75,
      "outputs": []
    },
    {
      "cell_type": "markdown",
      "source": [
        "***Net 클래스***  \n",
        "- 전체 신경망 모델을 구현합니다.\n",
        "  - 초기 선형 레이어 + Batch Normalization\n",
        "  - 여러 개의 ResidualBlock\n",
        "  - 최종 출력 4개 클래스에 대한 출력 반환"
      ],
      "metadata": {
        "id": "khMBYUnTCny7"
      }
    },
    {
      "cell_type": "code",
      "source": [
        "class Net(torch.nn.Module):\n",
        "    def __init__(self, in_features, n_layers=8):\n",
        "        super().__init__()\n",
        "\n",
        "        # Linear → BatchNorm → Activation 순서 지켜야 한다\n",
        "        self.init_layer = torch.nn.Sequential(\n",
        "            torch.nn.Linear(in_features, in_features // 2), # 선형변환 # 모델 복잡도 줄이기\n",
        "            torch.nn.BatchNorm1d(in_features // 2), # 배치의 데이터 정규화해서 학습 안정화 # (batch_size, num_features)\n",
        "            torch.nn.LeakyReLU() # 활성화 함수.. 왜 있어야하지 ?\n",
        "        )\n",
        "        res_list = [ ResidualBlock(in_features//2) for _ in range(n_layers) ]\n",
        "        self.seq = torch.nn.Sequential(*res_list)\n",
        "        self.output_layer = torch.nn.Linear(in_features//2,1)\n",
        "\n",
        "    def forward(self, x):\n",
        "        x = self.init_layer(x)\n",
        "        x = self.seq(x)\n",
        "        return self.output_layer(x)"
      ],
      "metadata": {
        "id": "t9117U5NBSWZ"
      },
      "execution_count": 91,
      "outputs": []
    },
    {
      "cell_type": "code",
      "source": [
        "Net(train_data.shape[1])(batch[\"x\"])"
      ],
      "metadata": {
        "colab": {
          "base_uri": "https://localhost:8080/"
        },
        "id": "qUglpqKyHqRB",
        "outputId": "1196ff91-bc33-4bf5-ee05-17022442a3d5"
      },
      "execution_count": 92,
      "outputs": [
        {
          "output_type": "execute_result",
          "data": {
            "text/plain": [
              "tensor([[0.8320],\n",
              "        [0.5021]], grad_fn=<AddmmBackward0>)"
            ]
          },
          "metadata": {},
          "execution_count": 92
        }
      ]
    },
    {
      "cell_type": "markdown",
      "source": [
        "# 학습 loop 함수"
      ],
      "metadata": {
        "id": "R1GObz_qFaxt"
      }
    },
    {
      "cell_type": "code",
      "source": [
        "def train_loop(dl, model, loss_fn, optimizer, device):\n",
        "    epoch_loss = 0\n",
        "    model.train()\n",
        "    for batch in dl:\n",
        "        pred = model(batch[\"x\"].to(device))\n",
        "        loss = loss_fn(pred, batch[\"y\"].to(device))\n",
        "\n",
        "        optimizer.zero_grad()\n",
        "        loss.backward()\n",
        "        optimizer.step()\n",
        "\n",
        "        epoch_loss += loss.item()\n",
        "\n",
        "    epoch_loss /= len(dl)\n",
        "    return epoch_loss"
      ],
      "metadata": {
        "id": "doJfVDA97bBA"
      },
      "execution_count": 93,
      "outputs": []
    },
    {
      "cell_type": "markdown",
      "source": [
        "# 예측 loop 함수"
      ],
      "metadata": {
        "id": "YzAkxZcNFcXB"
      }
    },
    {
      "cell_type": "code",
      "source": [
        "@torch.no_grad()\n",
        "def test_loop(dl, model, loss_fn, device):\n",
        "    epoch_loss = 0\n",
        "    model.eval()\n",
        "\n",
        "    act = torch.nn.Sigmoid()\n",
        "    pred_list = []\n",
        "    for batch in dl:\n",
        "        pred = model( batch[\"x\"].to(device) )\n",
        "        if batch.get(\"y\") is not None:\n",
        "            loss = loss_fn(pred, batch[\"y\"].to(device) )\n",
        "            epoch_loss += loss.item() # item : 1개의 스칼라 값을 Python의 기본 데이터 타입(예: float)으로 변환\n",
        "\n",
        "        pred = act(pred)\n",
        "        pred = pred.to(\"cpu\").numpy()\n",
        "        pred_list.append(pred)\n",
        "\n",
        "    pred = np.concatenate(pred_list)\n",
        "    epoch_loss /= len(dl)\n",
        "    return epoch_loss, pred"
      ],
      "metadata": {
        "id": "7-Sm2LpH7cec"
      },
      "execution_count": 94,
      "outputs": []
    },
    {
      "cell_type": "markdown",
      "source": [
        "# 학습하기"
      ],
      "metadata": {
        "id": "vZ9UUcMyFeUD"
      }
    },
    {
      "cell_type": "code",
      "source": [
        "n_splits = 5\n",
        "batch_size = 32\n",
        "epochs = 100\n",
        "loss_fn = torch.nn.BCEWithLogitsLoss()\n",
        "\n",
        "from sklearn.metrics import accuracy_score\n",
        "from sklearn.model_selection import KFold\n",
        "cv = KFold(n_splits, shuffle=True, random_state=SEED)"
      ],
      "metadata": {
        "id": "9KXZm_w57f6m"
      },
      "execution_count": 101,
      "outputs": []
    },
    {
      "cell_type": "code",
      "source": [
        "is_holdout = True\n",
        "reset_seeds(SEED)\n",
        "score_list = []\n",
        "for i, (tri, vai) in enumerate(cv.split(train_data)):\n",
        "    # 학습 데이터\n",
        "    train_dt = ReviewDataset(train_data[tri], target[tri])\n",
        "    train_dl = torch.utils.data.DataLoader(train_dt, batch_size=batch_size, shuffle=True)\n",
        "    # 검증 데이터\n",
        "    valid_dt = ReviewDataset(train_data[vai], target[vai])\n",
        "    valid_dl = torch.utils.data.DataLoader(valid_dt, batch_size=batch_size, shuffle=False)\n",
        "\n",
        "    # 모델 객체 및 옵티마이저 생성\n",
        "    model = Net(train_data.shape[1]).to(device)\n",
        "    optimizer = torch.optim.Adam( model.parameters() )\n",
        "\n",
        "    patience = 0 # 조기 종료 조건을 주기 위한 변수\n",
        "    best_score = 0 # 현재 최고점수\n",
        "    for _ in tqdm(range(epochs)):\n",
        "        train_loss = train_loop(train_dl, model, loss_fn, optimizer, device)\n",
        "        valid_loss, pred = test_loop(valid_dl, model, loss_fn, device)\n",
        "        pred = np.where(pred > 0.5, 1, 0)\n",
        "        # pred = np.argmax(pred, axis=1) -> 다중 분류\n",
        "        score = accuracy_score(target[vai], pred)\n",
        "        print(train_loss, valid_loss, score)\n",
        "\n",
        "        patience += 1\n",
        "        if score > best_score:\n",
        "            best_score = score\n",
        "            patience = 0\n",
        "            torch.save( model.state_dict(), f\"model{i}.pt\" )\n",
        "\n",
        "        if patience == 5:\n",
        "            break\n",
        "\n",
        "    score_list.append(best_score)\n",
        "    print(f\"ACC 최고점수: {best_score}\")\n",
        "\n",
        "    if is_holdout:\n",
        "        break\n",
        "print(score_list)\n",
        "print(np.mean(score_list))"
      ],
      "metadata": {
        "colab": {
          "base_uri": "https://localhost:8080/",
          "height": 248,
          "referenced_widgets": [
            "798d99663f45465bb9f1586fb1fd5ef7",
            "11b4e8ac2b1641328353636c53c21701",
            "07db0cdcac4e489480e4ee7dd2e3f266",
            "13717bd9f9704a9db4d9d1f284ec637c",
            "7d8ab984201643b48e4b93e933603c9b",
            "f236a8112f5c4ffd8a9bf795407c1998",
            "1899fbcb91cf4e0da58aef94ee399caf",
            "d15a139ec56e42dda3b997fdc4ef425c",
            "3d2c8fea017b4897b98efef711b52065",
            "929a7868aa1f4757b0a99d16d3b82efa",
            "f671a8ce899648f48a0182e003caff1f"
          ]
        },
        "id": "bKy8-y1MFiFC",
        "outputId": "f0f08502-9450-4445-e5f0-60648897f27b"
      },
      "execution_count": 105,
      "outputs": [
        {
          "output_type": "display_data",
          "data": {
            "text/plain": [
              "  0%|          | 0/100 [00:00<?, ?it/s]"
            ],
            "application/vnd.jupyter.widget-view+json": {
              "version_major": 2,
              "version_minor": 0,
              "model_id": "798d99663f45465bb9f1586fb1fd5ef7"
            }
          },
          "metadata": {}
        },
        {
          "output_type": "stream",
          "name": "stdout",
          "text": [
            "0.6298381280899048 0.5930739182692307 0.705\n",
            "0.3848632150888443 0.6007131842466501 0.6975\n",
            "0.2593282461166382 0.6452617931824464 0.73\n",
            "0.15703581169247627 0.8687189840353452 0.6975\n",
            "0.1465930426120758 0.992966564802023 0.71\n",
            "0.17486264631152154 0.9326218733420739 0.6975\n",
            "0.14477642051875592 0.935110711134397 0.7175\n",
            "0.12216436696238815 1.3279441732626696 0.69\n",
            "ACC 최고점수: 0.73\n",
            "[0.73]\n",
            "0.73\n"
          ]
        }
      ]
    },
    {
      "cell_type": "code",
      "source": [
        "print(score_list)\n",
        "print(np.mean(score_list))"
      ],
      "metadata": {
        "colab": {
          "base_uri": "https://localhost:8080/"
        },
        "id": "LtI0J_ZIFlvQ",
        "outputId": "5dcb9f70-e52a-49ef-ede8-76d6319348ba"
      },
      "execution_count": 106,
      "outputs": [
        {
          "output_type": "stream",
          "name": "stdout",
          "text": [
            "[0.73]\n",
            "0.73\n"
          ]
        }
      ]
    },
    {
      "cell_type": "markdown",
      "source": [
        "# 예측하기"
      ],
      "metadata": {
        "id": "uzucA_xaFyaJ"
      }
    },
    {
      "cell_type": "code",
      "source": [
        "test_dt = ReviewDataset(test_data)\n",
        "test_dl = torch.utils.data.DataLoader(test_dt, shuffle=False, batch_size=batch_size)"
      ],
      "metadata": {
        "id": "soBHlslZF0m0"
      },
      "execution_count": 107,
      "outputs": []
    },
    {
      "cell_type": "code",
      "source": [
        "pred_list = []\n",
        "for i in range(n_splits):\n",
        "    model = Net(train_data.shape[1]).to(device)\n",
        "    state_dict = torch.load(f\"model{0}.pt\", weights_only=True)\n",
        "    model.load_state_dict(state_dict)\n",
        "\n",
        "    _, pred = test_loop(test_dl, model, None, device)\n",
        "    pred_list.append(pred)"
      ],
      "metadata": {
        "id": "aNBwMRgJF10n"
      },
      "execution_count": 109,
      "outputs": []
    },
    {
      "cell_type": "code",
      "source": [
        "pred = np.mean(pred_list, axis=0)\n",
        "pred = np.where(pred>0.5, 1, 0)\n",
        "pred.shape"
      ],
      "metadata": {
        "colab": {
          "base_uri": "https://localhost:8080/"
        },
        "id": "JjCNr9J_F2vk",
        "outputId": "480000d3-84e8-4290-a311-ceb298175683"
      },
      "execution_count": 110,
      "outputs": [
        {
          "output_type": "execute_result",
          "data": {
            "text/plain": [
              "(1000, 1)"
            ]
          },
          "metadata": {},
          "execution_count": 110
        }
      ]
    }
  ]
}