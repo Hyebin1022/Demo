{
  "nbformat": 4,
  "nbformat_minor": 0,
  "metadata": {
    "colab": {
      "provenance": []
    },
    "kernelspec": {
      "name": "python3",
      "display_name": "Python 3"
    },
    "language_info": {
      "name": "python"
    },
    "widgets": {
      "application/vnd.jupyter.widget-state+json": {
        "578d33f6d66749e28f59ab25dc42ce72": {
          "model_module": "@jupyter-widgets/controls",
          "model_name": "HBoxModel",
          "model_module_version": "1.5.0",
          "state": {
            "_dom_classes": [],
            "_model_module": "@jupyter-widgets/controls",
            "_model_module_version": "1.5.0",
            "_model_name": "HBoxModel",
            "_view_count": null,
            "_view_module": "@jupyter-widgets/controls",
            "_view_module_version": "1.5.0",
            "_view_name": "HBoxView",
            "box_style": "",
            "children": [
              "IPY_MODEL_272305139ef541ea91db0256ac6fb163",
              "IPY_MODEL_2d9cca490f024153af9d4e6edef2ff43",
              "IPY_MODEL_4ee8e1c49235462394763de63e30be7a"
            ],
            "layout": "IPY_MODEL_724f4c220c664f11a84cfade0962a205"
          }
        },
        "272305139ef541ea91db0256ac6fb163": {
          "model_module": "@jupyter-widgets/controls",
          "model_name": "HTMLModel",
          "model_module_version": "1.5.0",
          "state": {
            "_dom_classes": [],
            "_model_module": "@jupyter-widgets/controls",
            "_model_module_version": "1.5.0",
            "_model_name": "HTMLModel",
            "_view_count": null,
            "_view_module": "@jupyter-widgets/controls",
            "_view_module_version": "1.5.0",
            "_view_name": "HTMLView",
            "description": "",
            "description_tooltip": null,
            "layout": "IPY_MODEL_7ad83df84b1744fead0133b55e6bce30",
            "placeholder": "​",
            "style": "IPY_MODEL_839a16eff79c4780820ecd08a2256672",
            "value": "100%"
          }
        },
        "2d9cca490f024153af9d4e6edef2ff43": {
          "model_module": "@jupyter-widgets/controls",
          "model_name": "FloatProgressModel",
          "model_module_version": "1.5.0",
          "state": {
            "_dom_classes": [],
            "_model_module": "@jupyter-widgets/controls",
            "_model_module_version": "1.5.0",
            "_model_name": "FloatProgressModel",
            "_view_count": null,
            "_view_module": "@jupyter-widgets/controls",
            "_view_module_version": "1.5.0",
            "_view_name": "ProgressView",
            "bar_style": "success",
            "description": "",
            "description_tooltip": null,
            "layout": "IPY_MODEL_85b26c0f46b24f95970ebe179f5b5e9b",
            "max": 100,
            "min": 0,
            "orientation": "horizontal",
            "style": "IPY_MODEL_ad359fab20854a5ebeac155ec2c5d63c",
            "value": 100
          }
        },
        "4ee8e1c49235462394763de63e30be7a": {
          "model_module": "@jupyter-widgets/controls",
          "model_name": "HTMLModel",
          "model_module_version": "1.5.0",
          "state": {
            "_dom_classes": [],
            "_model_module": "@jupyter-widgets/controls",
            "_model_module_version": "1.5.0",
            "_model_name": "HTMLModel",
            "_view_count": null,
            "_view_module": "@jupyter-widgets/controls",
            "_view_module_version": "1.5.0",
            "_view_name": "HTMLView",
            "description": "",
            "description_tooltip": null,
            "layout": "IPY_MODEL_1b669e3cc1234669835f086b7edf7dee",
            "placeholder": "​",
            "style": "IPY_MODEL_86ca45e6edbe4d5a982c999c3d07f12c",
            "value": " 100/100 [06:18&lt;00:00,  4.82s/it]"
          }
        },
        "724f4c220c664f11a84cfade0962a205": {
          "model_module": "@jupyter-widgets/base",
          "model_name": "LayoutModel",
          "model_module_version": "1.2.0",
          "state": {
            "_model_module": "@jupyter-widgets/base",
            "_model_module_version": "1.2.0",
            "_model_name": "LayoutModel",
            "_view_count": null,
            "_view_module": "@jupyter-widgets/base",
            "_view_module_version": "1.2.0",
            "_view_name": "LayoutView",
            "align_content": null,
            "align_items": null,
            "align_self": null,
            "border": null,
            "bottom": null,
            "display": null,
            "flex": null,
            "flex_flow": null,
            "grid_area": null,
            "grid_auto_columns": null,
            "grid_auto_flow": null,
            "grid_auto_rows": null,
            "grid_column": null,
            "grid_gap": null,
            "grid_row": null,
            "grid_template_areas": null,
            "grid_template_columns": null,
            "grid_template_rows": null,
            "height": null,
            "justify_content": null,
            "justify_items": null,
            "left": null,
            "margin": null,
            "max_height": null,
            "max_width": null,
            "min_height": null,
            "min_width": null,
            "object_fit": null,
            "object_position": null,
            "order": null,
            "overflow": null,
            "overflow_x": null,
            "overflow_y": null,
            "padding": null,
            "right": null,
            "top": null,
            "visibility": null,
            "width": null
          }
        },
        "7ad83df84b1744fead0133b55e6bce30": {
          "model_module": "@jupyter-widgets/base",
          "model_name": "LayoutModel",
          "model_module_version": "1.2.0",
          "state": {
            "_model_module": "@jupyter-widgets/base",
            "_model_module_version": "1.2.0",
            "_model_name": "LayoutModel",
            "_view_count": null,
            "_view_module": "@jupyter-widgets/base",
            "_view_module_version": "1.2.0",
            "_view_name": "LayoutView",
            "align_content": null,
            "align_items": null,
            "align_self": null,
            "border": null,
            "bottom": null,
            "display": null,
            "flex": null,
            "flex_flow": null,
            "grid_area": null,
            "grid_auto_columns": null,
            "grid_auto_flow": null,
            "grid_auto_rows": null,
            "grid_column": null,
            "grid_gap": null,
            "grid_row": null,
            "grid_template_areas": null,
            "grid_template_columns": null,
            "grid_template_rows": null,
            "height": null,
            "justify_content": null,
            "justify_items": null,
            "left": null,
            "margin": null,
            "max_height": null,
            "max_width": null,
            "min_height": null,
            "min_width": null,
            "object_fit": null,
            "object_position": null,
            "order": null,
            "overflow": null,
            "overflow_x": null,
            "overflow_y": null,
            "padding": null,
            "right": null,
            "top": null,
            "visibility": null,
            "width": null
          }
        },
        "839a16eff79c4780820ecd08a2256672": {
          "model_module": "@jupyter-widgets/controls",
          "model_name": "DescriptionStyleModel",
          "model_module_version": "1.5.0",
          "state": {
            "_model_module": "@jupyter-widgets/controls",
            "_model_module_version": "1.5.0",
            "_model_name": "DescriptionStyleModel",
            "_view_count": null,
            "_view_module": "@jupyter-widgets/base",
            "_view_module_version": "1.2.0",
            "_view_name": "StyleView",
            "description_width": ""
          }
        },
        "85b26c0f46b24f95970ebe179f5b5e9b": {
          "model_module": "@jupyter-widgets/base",
          "model_name": "LayoutModel",
          "model_module_version": "1.2.0",
          "state": {
            "_model_module": "@jupyter-widgets/base",
            "_model_module_version": "1.2.0",
            "_model_name": "LayoutModel",
            "_view_count": null,
            "_view_module": "@jupyter-widgets/base",
            "_view_module_version": "1.2.0",
            "_view_name": "LayoutView",
            "align_content": null,
            "align_items": null,
            "align_self": null,
            "border": null,
            "bottom": null,
            "display": null,
            "flex": null,
            "flex_flow": null,
            "grid_area": null,
            "grid_auto_columns": null,
            "grid_auto_flow": null,
            "grid_auto_rows": null,
            "grid_column": null,
            "grid_gap": null,
            "grid_row": null,
            "grid_template_areas": null,
            "grid_template_columns": null,
            "grid_template_rows": null,
            "height": null,
            "justify_content": null,
            "justify_items": null,
            "left": null,
            "margin": null,
            "max_height": null,
            "max_width": null,
            "min_height": null,
            "min_width": null,
            "object_fit": null,
            "object_position": null,
            "order": null,
            "overflow": null,
            "overflow_x": null,
            "overflow_y": null,
            "padding": null,
            "right": null,
            "top": null,
            "visibility": null,
            "width": null
          }
        },
        "ad359fab20854a5ebeac155ec2c5d63c": {
          "model_module": "@jupyter-widgets/controls",
          "model_name": "ProgressStyleModel",
          "model_module_version": "1.5.0",
          "state": {
            "_model_module": "@jupyter-widgets/controls",
            "_model_module_version": "1.5.0",
            "_model_name": "ProgressStyleModel",
            "_view_count": null,
            "_view_module": "@jupyter-widgets/base",
            "_view_module_version": "1.2.0",
            "_view_name": "StyleView",
            "bar_color": null,
            "description_width": ""
          }
        },
        "1b669e3cc1234669835f086b7edf7dee": {
          "model_module": "@jupyter-widgets/base",
          "model_name": "LayoutModel",
          "model_module_version": "1.2.0",
          "state": {
            "_model_module": "@jupyter-widgets/base",
            "_model_module_version": "1.2.0",
            "_model_name": "LayoutModel",
            "_view_count": null,
            "_view_module": "@jupyter-widgets/base",
            "_view_module_version": "1.2.0",
            "_view_name": "LayoutView",
            "align_content": null,
            "align_items": null,
            "align_self": null,
            "border": null,
            "bottom": null,
            "display": null,
            "flex": null,
            "flex_flow": null,
            "grid_area": null,
            "grid_auto_columns": null,
            "grid_auto_flow": null,
            "grid_auto_rows": null,
            "grid_column": null,
            "grid_gap": null,
            "grid_row": null,
            "grid_template_areas": null,
            "grid_template_columns": null,
            "grid_template_rows": null,
            "height": null,
            "justify_content": null,
            "justify_items": null,
            "left": null,
            "margin": null,
            "max_height": null,
            "max_width": null,
            "min_height": null,
            "min_width": null,
            "object_fit": null,
            "object_position": null,
            "order": null,
            "overflow": null,
            "overflow_x": null,
            "overflow_y": null,
            "padding": null,
            "right": null,
            "top": null,
            "visibility": null,
            "width": null
          }
        },
        "86ca45e6edbe4d5a982c999c3d07f12c": {
          "model_module": "@jupyter-widgets/controls",
          "model_name": "DescriptionStyleModel",
          "model_module_version": "1.5.0",
          "state": {
            "_model_module": "@jupyter-widgets/controls",
            "_model_module_version": "1.5.0",
            "_model_name": "DescriptionStyleModel",
            "_view_count": null,
            "_view_module": "@jupyter-widgets/base",
            "_view_module_version": "1.2.0",
            "_view_name": "StyleView",
            "description_width": ""
          }
        },
        "97cedf39c8b04061b05af472bd3d2b31": {
          "model_module": "@jupyter-widgets/controls",
          "model_name": "HBoxModel",
          "model_module_version": "1.5.0",
          "state": {
            "_dom_classes": [],
            "_model_module": "@jupyter-widgets/controls",
            "_model_module_version": "1.5.0",
            "_model_name": "HBoxModel",
            "_view_count": null,
            "_view_module": "@jupyter-widgets/controls",
            "_view_module_version": "1.5.0",
            "_view_name": "HBoxView",
            "box_style": "",
            "children": [
              "IPY_MODEL_8533de2721664240bc43c2b70d103560",
              "IPY_MODEL_392fa10d7ba9458c896ac21ee498cb39",
              "IPY_MODEL_2117961538af4e74ab85ff8eb808a7ff"
            ],
            "layout": "IPY_MODEL_a94f00d627274b12aff3187322e3bcb8"
          }
        },
        "8533de2721664240bc43c2b70d103560": {
          "model_module": "@jupyter-widgets/controls",
          "model_name": "HTMLModel",
          "model_module_version": "1.5.0",
          "state": {
            "_dom_classes": [],
            "_model_module": "@jupyter-widgets/controls",
            "_model_module_version": "1.5.0",
            "_model_name": "HTMLModel",
            "_view_count": null,
            "_view_module": "@jupyter-widgets/controls",
            "_view_module_version": "1.5.0",
            "_view_name": "HTMLView",
            "description": "",
            "description_tooltip": null,
            "layout": "IPY_MODEL_dce870fa85954012bf11ffb3db752bf0",
            "placeholder": "​",
            "style": "IPY_MODEL_d6313ac7f6ca486788ba9e0cdd951084",
            "value": "100%"
          }
        },
        "392fa10d7ba9458c896ac21ee498cb39": {
          "model_module": "@jupyter-widgets/controls",
          "model_name": "FloatProgressModel",
          "model_module_version": "1.5.0",
          "state": {
            "_dom_classes": [],
            "_model_module": "@jupyter-widgets/controls",
            "_model_module_version": "1.5.0",
            "_model_name": "FloatProgressModel",
            "_view_count": null,
            "_view_module": "@jupyter-widgets/controls",
            "_view_module_version": "1.5.0",
            "_view_name": "ProgressView",
            "bar_style": "success",
            "description": "",
            "description_tooltip": null,
            "layout": "IPY_MODEL_49f66699c5cd4a08aff7e648d70dfeb7",
            "max": 100,
            "min": 0,
            "orientation": "horizontal",
            "style": "IPY_MODEL_2940386792454bf48ea1c580ee9495c9",
            "value": 100
          }
        },
        "2117961538af4e74ab85ff8eb808a7ff": {
          "model_module": "@jupyter-widgets/controls",
          "model_name": "HTMLModel",
          "model_module_version": "1.5.0",
          "state": {
            "_dom_classes": [],
            "_model_module": "@jupyter-widgets/controls",
            "_model_module_version": "1.5.0",
            "_model_name": "HTMLModel",
            "_view_count": null,
            "_view_module": "@jupyter-widgets/controls",
            "_view_module_version": "1.5.0",
            "_view_name": "HTMLView",
            "description": "",
            "description_tooltip": null,
            "layout": "IPY_MODEL_8a2d12ddaa794829bb932c666fbe7c60",
            "placeholder": "​",
            "style": "IPY_MODEL_a2db185f6cce4db99b1c22880864b6e1",
            "value": " 100/100 [09:34&lt;00:00, 12.94s/it]"
          }
        },
        "a94f00d627274b12aff3187322e3bcb8": {
          "model_module": "@jupyter-widgets/base",
          "model_name": "LayoutModel",
          "model_module_version": "1.2.0",
          "state": {
            "_model_module": "@jupyter-widgets/base",
            "_model_module_version": "1.2.0",
            "_model_name": "LayoutModel",
            "_view_count": null,
            "_view_module": "@jupyter-widgets/base",
            "_view_module_version": "1.2.0",
            "_view_name": "LayoutView",
            "align_content": null,
            "align_items": null,
            "align_self": null,
            "border": null,
            "bottom": null,
            "display": null,
            "flex": null,
            "flex_flow": null,
            "grid_area": null,
            "grid_auto_columns": null,
            "grid_auto_flow": null,
            "grid_auto_rows": null,
            "grid_column": null,
            "grid_gap": null,
            "grid_row": null,
            "grid_template_areas": null,
            "grid_template_columns": null,
            "grid_template_rows": null,
            "height": null,
            "justify_content": null,
            "justify_items": null,
            "left": null,
            "margin": null,
            "max_height": null,
            "max_width": null,
            "min_height": null,
            "min_width": null,
            "object_fit": null,
            "object_position": null,
            "order": null,
            "overflow": null,
            "overflow_x": null,
            "overflow_y": null,
            "padding": null,
            "right": null,
            "top": null,
            "visibility": null,
            "width": null
          }
        },
        "dce870fa85954012bf11ffb3db752bf0": {
          "model_module": "@jupyter-widgets/base",
          "model_name": "LayoutModel",
          "model_module_version": "1.2.0",
          "state": {
            "_model_module": "@jupyter-widgets/base",
            "_model_module_version": "1.2.0",
            "_model_name": "LayoutModel",
            "_view_count": null,
            "_view_module": "@jupyter-widgets/base",
            "_view_module_version": "1.2.0",
            "_view_name": "LayoutView",
            "align_content": null,
            "align_items": null,
            "align_self": null,
            "border": null,
            "bottom": null,
            "display": null,
            "flex": null,
            "flex_flow": null,
            "grid_area": null,
            "grid_auto_columns": null,
            "grid_auto_flow": null,
            "grid_auto_rows": null,
            "grid_column": null,
            "grid_gap": null,
            "grid_row": null,
            "grid_template_areas": null,
            "grid_template_columns": null,
            "grid_template_rows": null,
            "height": null,
            "justify_content": null,
            "justify_items": null,
            "left": null,
            "margin": null,
            "max_height": null,
            "max_width": null,
            "min_height": null,
            "min_width": null,
            "object_fit": null,
            "object_position": null,
            "order": null,
            "overflow": null,
            "overflow_x": null,
            "overflow_y": null,
            "padding": null,
            "right": null,
            "top": null,
            "visibility": null,
            "width": null
          }
        },
        "d6313ac7f6ca486788ba9e0cdd951084": {
          "model_module": "@jupyter-widgets/controls",
          "model_name": "DescriptionStyleModel",
          "model_module_version": "1.5.0",
          "state": {
            "_model_module": "@jupyter-widgets/controls",
            "_model_module_version": "1.5.0",
            "_model_name": "DescriptionStyleModel",
            "_view_count": null,
            "_view_module": "@jupyter-widgets/base",
            "_view_module_version": "1.2.0",
            "_view_name": "StyleView",
            "description_width": ""
          }
        },
        "49f66699c5cd4a08aff7e648d70dfeb7": {
          "model_module": "@jupyter-widgets/base",
          "model_name": "LayoutModel",
          "model_module_version": "1.2.0",
          "state": {
            "_model_module": "@jupyter-widgets/base",
            "_model_module_version": "1.2.0",
            "_model_name": "LayoutModel",
            "_view_count": null,
            "_view_module": "@jupyter-widgets/base",
            "_view_module_version": "1.2.0",
            "_view_name": "LayoutView",
            "align_content": null,
            "align_items": null,
            "align_self": null,
            "border": null,
            "bottom": null,
            "display": null,
            "flex": null,
            "flex_flow": null,
            "grid_area": null,
            "grid_auto_columns": null,
            "grid_auto_flow": null,
            "grid_auto_rows": null,
            "grid_column": null,
            "grid_gap": null,
            "grid_row": null,
            "grid_template_areas": null,
            "grid_template_columns": null,
            "grid_template_rows": null,
            "height": null,
            "justify_content": null,
            "justify_items": null,
            "left": null,
            "margin": null,
            "max_height": null,
            "max_width": null,
            "min_height": null,
            "min_width": null,
            "object_fit": null,
            "object_position": null,
            "order": null,
            "overflow": null,
            "overflow_x": null,
            "overflow_y": null,
            "padding": null,
            "right": null,
            "top": null,
            "visibility": null,
            "width": null
          }
        },
        "2940386792454bf48ea1c580ee9495c9": {
          "model_module": "@jupyter-widgets/controls",
          "model_name": "ProgressStyleModel",
          "model_module_version": "1.5.0",
          "state": {
            "_model_module": "@jupyter-widgets/controls",
            "_model_module_version": "1.5.0",
            "_model_name": "ProgressStyleModel",
            "_view_count": null,
            "_view_module": "@jupyter-widgets/base",
            "_view_module_version": "1.2.0",
            "_view_name": "StyleView",
            "bar_color": null,
            "description_width": ""
          }
        },
        "8a2d12ddaa794829bb932c666fbe7c60": {
          "model_module": "@jupyter-widgets/base",
          "model_name": "LayoutModel",
          "model_module_version": "1.2.0",
          "state": {
            "_model_module": "@jupyter-widgets/base",
            "_model_module_version": "1.2.0",
            "_model_name": "LayoutModel",
            "_view_count": null,
            "_view_module": "@jupyter-widgets/base",
            "_view_module_version": "1.2.0",
            "_view_name": "LayoutView",
            "align_content": null,
            "align_items": null,
            "align_self": null,
            "border": null,
            "bottom": null,
            "display": null,
            "flex": null,
            "flex_flow": null,
            "grid_area": null,
            "grid_auto_columns": null,
            "grid_auto_flow": null,
            "grid_auto_rows": null,
            "grid_column": null,
            "grid_gap": null,
            "grid_row": null,
            "grid_template_areas": null,
            "grid_template_columns": null,
            "grid_template_rows": null,
            "height": null,
            "justify_content": null,
            "justify_items": null,
            "left": null,
            "margin": null,
            "max_height": null,
            "max_width": null,
            "min_height": null,
            "min_width": null,
            "object_fit": null,
            "object_position": null,
            "order": null,
            "overflow": null,
            "overflow_x": null,
            "overflow_y": null,
            "padding": null,
            "right": null,
            "top": null,
            "visibility": null,
            "width": null
          }
        },
        "a2db185f6cce4db99b1c22880864b6e1": {
          "model_module": "@jupyter-widgets/controls",
          "model_name": "DescriptionStyleModel",
          "model_module_version": "1.5.0",
          "state": {
            "_model_module": "@jupyter-widgets/controls",
            "_model_module_version": "1.5.0",
            "_model_name": "DescriptionStyleModel",
            "_view_count": null,
            "_view_module": "@jupyter-widgets/base",
            "_view_module_version": "1.2.0",
            "_view_name": "StyleView",
            "description_width": ""
          }
        }
      }
    }
  },
  "cells": [
    {
      "cell_type": "code",
      "source": [
        "import pandas as pd\n",
        "import numpy as np\n",
        "from tqdm import tqdm\n",
        "from tqdm.notebook import tqdm\n",
        "import matplotlib.pyplot as plt\n",
        "from sklearn.feature_selection import SelectKBest, f_classif, VarianceThreshold,SelectPercentile\n",
        "from sklearn.model_selection import cross_val_score, StratifiedKFold, RandomizedSearchCV, KFold\n",
        "from sklearn.metrics import f1_score, make_scorer\n",
        "from sklearn.linear_model import LogisticRegression, PassiveAggressiveClassifier\n",
        "from sklearn.ensemble import AdaBoostClassifier,GradientBoostingClassifier,RandomForestClassifier, StackingClassifier\n",
        "from sklearn.naive_bayes import ComplementNB, BernoulliNB, GaussianNB\n",
        "from sklearn.decomposition import PCA\n",
        "from sklearn.preprocessing import MinMaxScaler\n",
        "from sklearn.tree import DecisionTreeClassifier\n",
        "from sklearn.gaussian_process import GaussianProcessClassifier\n",
        "from sklearn.neural_network import MLPClassifier\n",
        "from sklearn.discriminant_analysis import LinearDiscriminantAnalysis,  QuadraticDiscriminantAnalysis\n",
        "%pip install catboost\n",
        "from catboost import CatBoostClassifier\n",
        "from sklearn.preprocessing import OneHotEncoder, StandardScaler\n",
        "from lightgbm import LGBMClassifier\n",
        "from xgboost import XGBClassifier\n",
        "from sklearn.ensemble import BaggingClassifier"
      ],
      "metadata": {
        "id": "moC_lXWsRC6S"
      },
      "execution_count": null,
      "outputs": []
    },
    {
      "cell_type": "markdown",
      "source": [
        "# 데이터 경로와 시드값"
      ],
      "metadata": {
        "id": "z6-JLtgdd4LL"
      }
    },
    {
      "cell_type": "code",
      "source": [
        "from google.colab import drive\n",
        "drive.mount('/content/drive')"
      ],
      "metadata": {
        "colab": {
          "base_uri": "https://localhost:8080/"
        },
        "id": "2AvDU9pYh_jD",
        "outputId": "f025c18b-2bd9-484e-aa5d-8855be700844"
      },
      "execution_count": 2,
      "outputs": [
        {
          "output_type": "stream",
          "name": "stdout",
          "text": [
            "Mounted at /content/drive\n"
          ]
        }
      ]
    },
    {
      "cell_type": "code",
      "source": [
        "DATA_PATH = \"/content/drive/MyDrive/멋쟁이사자차럼/data/\"\n",
        "SEED = 42"
      ],
      "metadata": {
        "id": "Rb7xTspIWbHT"
      },
      "execution_count": 3,
      "outputs": []
    },
    {
      "cell_type": "markdown",
      "source": [
        "# 데이터 불러오기"
      ],
      "metadata": {
        "id": "LsAIxoOcd7KX"
      }
    },
    {
      "cell_type": "code",
      "source": [
        "import pandas as pd\n",
        "import numpy as np\n",
        "\n",
        "\n",
        "train_tr = pd.read_csv(f\"{DATA_PATH}store_train_transactions.csv\") # 학습용 구매기록 데이터\n",
        "train_target = pd.read_csv(f\"{DATA_PATH}store_train.csv\") # 학습용 정답 데이터\n",
        "test_tr = pd.read_csv(f\"{DATA_PATH}store_test_transactions.csv\") # 테스트용 구매기록 데이터\n",
        "submit = pd.read_csv(f\"{DATA_PATH}store_submission.csv\") # 제출 양식 데이터\n",
        "\n",
        "train_ft = pd.read_csv(f\"{DATA_PATH}train_ft2.csv\")\n",
        "test_ft = pd.read_csv(f\"{DATA_PATH}test_ft2.csv\")\n",
        "train_ft.shape ,test_ft.shape"
      ],
      "metadata": {
        "colab": {
          "base_uri": "https://localhost:8080/"
        },
        "id": "8FJOhzFvWd9D",
        "outputId": "b542a567-85a3-4f8c-e8ac-4f55e939985d"
      },
      "execution_count": 35,
      "outputs": [
        {
          "output_type": "execute_result",
          "data": {
            "text/plain": [
              "((14940, 367), (12225, 367))"
            ]
          },
          "metadata": {},
          "execution_count": 35
        }
      ]
    },
    {
      "cell_type": "markdown",
      "source": [
        "# 피처 추가"
      ],
      "metadata": {
        "id": "9Z95Vow_yxs_"
      }
    },
    {
      "cell_type": "code",
      "source": [
        "# 상수 특성 제거\n",
        "train_ft.drop(columns=['야채생선_x_인스턴트구매_O'], inplace=True, errors='ignore')\n",
        "test_ft.drop(columns=['야채생선_x_인스턴트구매_O'], inplace=True, errors='ignore')"
      ],
      "metadata": {
        "id": "8Qr_lmhXeeot"
      },
      "execution_count": 36,
      "outputs": []
    },
    {
      "cell_type": "code",
      "source": [
        "# def create_weekend_evening_features(tr_data):\n",
        "#     \"\"\"\n",
        "#     주말(토요일, 일요일) 오후 6시 이후에 특정 품목을 구매한 횟수를 계산하여 피처를 생성합니다.\n",
        "\n",
        "#     Parameters:\n",
        "#     tr_data (DataFrame): 구매 기록이 포함된 데이터프레임 (train_tr 또는 test_tr).\n",
        "\n",
        "#     Returns:\n",
        "#     DataFrame: 각 고객(ID)별 주말 저녁 특정 품목 구매 횟수를 포함한 새로운 피처.\n",
        "#     \"\"\"\n",
        "#     # 1. '구매일시'를 기준으로 요일과 시간을 추출합니다.\n",
        "#     tr_data['요일'] = tr_data['구매일시'].dt.weekday\n",
        "#     tr_data['시간'] = tr_data['구매일시'].dt.hour\n",
        "\n",
        "#     # 2. 주말(토요일: 5, 일요일: 6) 및 오후 6시 이후(18시 이후) 데이터 필터링\n",
        "#     weekend_evening_data = tr_data[(tr_data['요일'] >= 5) & (tr_data['시간'] >= 18)]\n",
        "\n",
        "#     # 3. '중분류'가 특정 품목에 해당하는 경우만 필터링\n",
        "#     target_categories = ['수입종합화장품', '란제리', '유아복', '수입의류']\n",
        "#     filtered_data = weekend_evening_data[weekend_evening_data['중분류'].isin(target_categories)]\n",
        "\n",
        "#     # 4. 고객별(ID)로 특정 품목 구매 횟수를 집계\n",
        "#     purchase_count = filtered_data.groupby('ID').size().reset_index()\n",
        "#     purchase_count.columns = ['ID', 'weekend_evening_purchase_count']  # 새로운 피처 이름 지정\n",
        "\n",
        "#     return purchase_count\n",
        "\n",
        "# # === Train 데이터에서 새로운 피처 생성 ===\n",
        "# train_weekend_evening_features = create_weekend_evening_features(train_tr)\n",
        "\n",
        "# # Train 데이터에 병합\n",
        "# train_ft = train_ft.merge(train_weekend_evening_features, how='left', on='ID').fillna(0)\n",
        "\n",
        "# # === Test 데이터에서 새로운 피처 생성 ===\n",
        "# test_weekend_evening_features = create_weekend_evening_features(test_tr)\n",
        "\n",
        "# # Test 데이터에 병합\n",
        "# test_ft = test_ft.merge(test_weekend_evening_features, how='left', on='ID').fillna(0)\n"
      ],
      "metadata": {
        "id": "8wFfFMSpyyu7"
      },
      "execution_count": 37,
      "outputs": []
    },
    {
      "cell_type": "markdown",
      "source": [
        "# 항상확인하기"
      ],
      "metadata": {
        "id": "x_bVm7wUzILF"
      }
    },
    {
      "cell_type": "code",
      "source": [
        "# 피처 이름의 공백을 밑줄로 대체\n",
        "train_ft.columns = train_ft.columns.str.replace(' ', '_')\n",
        "test_ft.columns = test_ft.columns.str.replace(' ', '_')"
      ],
      "metadata": {
        "id": "2DGzMV3czJYY"
      },
      "execution_count": 38,
      "outputs": []
    },
    {
      "cell_type": "code",
      "source": [
        "train_ft.shape, test_ft.shape"
      ],
      "metadata": {
        "colab": {
          "base_uri": "https://localhost:8080/"
        },
        "id": "6onsWp3FzLvM",
        "outputId": "4d6edfe9-e58d-4778-a5fd-d80e39d76273"
      },
      "execution_count": 39,
      "outputs": [
        {
          "output_type": "execute_result",
          "data": {
            "text/plain": [
              "((14940, 366), (12225, 366))"
            ]
          },
          "metadata": {},
          "execution_count": 39
        }
      ]
    },
    {
      "cell_type": "markdown",
      "source": [
        "# 결측치 처리"
      ],
      "metadata": {
        "id": "ypAw2RdyeDCM"
      }
    },
    {
      "cell_type": "code",
      "source": [
        "train_ft.isnull().sum()\n",
        "test_ft.isnull().sum()\n",
        "train_ft = train_ft.fillna(0)\n",
        "test_ft = test_ft.fillna(0)\n",
        "\n",
        "train_ft.isnull().sum().sum(), test_ft.isnull().sum().sum()"
      ],
      "metadata": {
        "colab": {
          "base_uri": "https://localhost:8080/"
        },
        "id": "3O_C8ZjlzQd_",
        "outputId": "7864155b-1e2f-4225-b370-1c5125b43387"
      },
      "execution_count": 40,
      "outputs": [
        {
          "output_type": "execute_result",
          "data": {
            "text/plain": [
              "(0, 0)"
            ]
          },
          "metadata": {},
          "execution_count": 40
        }
      ]
    },
    {
      "cell_type": "code",
      "source": [
        "# display(train_ft.isnull().sum())\n",
        "# display(test_ft.isnull().sum())"
      ],
      "metadata": {
        "id": "fxuo7LS5Wv5y",
        "collapsed": true
      },
      "execution_count": 41,
      "outputs": []
    },
    {
      "cell_type": "code",
      "source": [
        "# e_level = train_ft[\"고객_교육수준\"].mode()[0]\n",
        "# m_status = train_ft[\"고객_결혼여부\"].mode()[0]\n",
        "# s_mean = train_ft[\"고객_소득\"].mean()\n",
        "\n",
        "# e_level, m_status, s_mean"
      ],
      "metadata": {
        "id": "ELhqz3mcWv3U"
      },
      "execution_count": 42,
      "outputs": []
    },
    {
      "cell_type": "code",
      "source": [
        "# train_ft[\"고객_교육수준\"] = train_ft[\"고객_교육수준\"].fillna(e_level)\n",
        "# train_ft[\"고객_결혼여부\"] = train_ft[\"고객_결혼여부\"].fillna(m_status)\n",
        "# train_ft[\"고객_소득\"] = train_ft[\"고객_소득\"].fillna(s_mean)\n",
        "\n",
        "# test_ft[\"고객_교육수준\"] = test_ft[\"고객_교육수준\"].fillna(e_level)\n",
        "# test_ft[\"고객_결혼여부\"] = test_ft[\"고객_결혼여부\"].fillna(m_status)\n",
        "# test_ft[\"고객_소득\"] = test_ft[\"고객_소득\"].fillna(s_mean)\n",
        "\n",
        "# train_ft.isnull().sum().sum(), test_ft.isnull().sum().sum()"
      ],
      "metadata": {
        "id": "QlszXljmWv0y"
      },
      "execution_count": 43,
      "outputs": []
    },
    {
      "cell_type": "markdown",
      "source": [
        "# 피처 인코딩"
      ],
      "metadata": {
        "id": "GsFDM6R2nZM0"
      }
    },
    {
      "cell_type": "code",
      "source": [
        "# ID 컬럼 제거\n",
        "train_ft = train_ft.drop(columns=\"ID\")\n",
        "test_ft = test_ft.drop(columns=\"ID\")\n",
        "cols = train_ft.select_dtypes(\"object\").columns.tolist()\n",
        "cols\n",
        "\n",
        "\n",
        "from sklearn.preprocessing import OneHotEncoder\n",
        "enc = OneHotEncoder(handle_unknown=\"ignore\")\n",
        "tmp = pd.DataFrame(\n",
        "    enc.fit_transform(train_ft[cols]).toarray(),\n",
        "    columns =  enc.get_feature_names_out()\n",
        ")\n",
        "\n",
        "train_ft = pd.concat([train_ft,tmp],axis=1).drop(columns=cols)\n",
        "train_ft.head()\n",
        "tmp = pd.DataFrame(\n",
        "    enc.transform(test_ft[cols]).toarray(),\n",
        "    columns = enc.get_feature_names_out()\n",
        ")\n",
        "test_ft = pd.concat([test_ft,tmp],axis=1).drop(columns=cols)\n",
        "test_ft.head()"
      ],
      "metadata": {
        "id": "xeqy4VNQnY0I",
        "colab": {
          "base_uri": "https://localhost:8080/",
          "height": 0
        },
        "outputId": "3ae2de06-58cc-47e0-c6aa-eab566328ef6"
      },
      "execution_count": 44,
      "outputs": [
        {
          "output_type": "execute_result",
          "data": {
            "text/plain": [
              "   내점일수  구매주기    주말방문비율    봄_구매비율   여름_구매비율   가을_구매비율   겨울_구매비율  주구매요일  \\\n",
              "0     7    32  0.571429  0.285714  0.285714  0.428571  0.000000      1   \n",
              "1     4    54  0.250000  0.000000  0.000000  0.750000  0.250000      0   \n",
              "2     4     8  0.000000  0.000000  0.600000  0.400000  0.000000      0   \n",
              "3    28    16  0.031250  0.062500  0.468750  0.343750  0.125000      3   \n",
              "4    19    29  0.476190  0.380952  0.285714  0.238095  0.095238      6   \n",
              "\n",
              "   일별평균구매건수  거래개월수  ...  주구매_대분류_여성캐주얼  주구매_대분류_여성캐쥬얼  주구매_대분류_영라이브  \\\n",
              "0  1.400000      4  ...            0.0            0.0           0.0   \n",
              "1  1.333333      3  ...            0.0            0.0           0.0   \n",
              "2  2.500000      2  ...            0.0            0.0           0.0   \n",
              "3  2.000000      7  ...            0.0            0.0           0.0   \n",
              "4  2.333333      4  ...            1.0            0.0           0.0   \n",
              "\n",
              "   주구매_대분류_영어덜트캐쥬얼  주구매_대분류_영캐릭터  주구매_대분류_영플라자  주구매_대분류_잡화  주구매_대분류_잡화파트  \\\n",
              "0              0.0           0.0           0.0         0.0           0.0   \n",
              "1              0.0           0.0           0.0         0.0           0.0   \n",
              "2              0.0           0.0           0.0         0.0           1.0   \n",
              "3              0.0           0.0           1.0         0.0           0.0   \n",
              "4              0.0           0.0           0.0         0.0           0.0   \n",
              "\n",
              "   주구매_대분류_케주얼_구두_아동  주구매_대분류_패션잡화  \n",
              "0                0.0           0.0  \n",
              "1                0.0           0.0  \n",
              "2                0.0           0.0  \n",
              "3                0.0           0.0  \n",
              "4                0.0           0.0  \n",
              "\n",
              "[5 rows x 640 columns]"
            ],
            "text/html": [
              "\n",
              "  <div id=\"df-dd2ee479-faab-4327-a73d-0343362ac8dd\" class=\"colab-df-container\">\n",
              "    <div>\n",
              "<style scoped>\n",
              "    .dataframe tbody tr th:only-of-type {\n",
              "        vertical-align: middle;\n",
              "    }\n",
              "\n",
              "    .dataframe tbody tr th {\n",
              "        vertical-align: top;\n",
              "    }\n",
              "\n",
              "    .dataframe thead th {\n",
              "        text-align: right;\n",
              "    }\n",
              "</style>\n",
              "<table border=\"1\" class=\"dataframe\">\n",
              "  <thead>\n",
              "    <tr style=\"text-align: right;\">\n",
              "      <th></th>\n",
              "      <th>내점일수</th>\n",
              "      <th>구매주기</th>\n",
              "      <th>주말방문비율</th>\n",
              "      <th>봄_구매비율</th>\n",
              "      <th>여름_구매비율</th>\n",
              "      <th>가을_구매비율</th>\n",
              "      <th>겨울_구매비율</th>\n",
              "      <th>주구매요일</th>\n",
              "      <th>일별평균구매건수</th>\n",
              "      <th>거래개월수</th>\n",
              "      <th>...</th>\n",
              "      <th>주구매_대분류_여성캐주얼</th>\n",
              "      <th>주구매_대분류_여성캐쥬얼</th>\n",
              "      <th>주구매_대분류_영라이브</th>\n",
              "      <th>주구매_대분류_영어덜트캐쥬얼</th>\n",
              "      <th>주구매_대분류_영캐릭터</th>\n",
              "      <th>주구매_대분류_영플라자</th>\n",
              "      <th>주구매_대분류_잡화</th>\n",
              "      <th>주구매_대분류_잡화파트</th>\n",
              "      <th>주구매_대분류_케주얼_구두_아동</th>\n",
              "      <th>주구매_대분류_패션잡화</th>\n",
              "    </tr>\n",
              "  </thead>\n",
              "  <tbody>\n",
              "    <tr>\n",
              "      <th>0</th>\n",
              "      <td>7</td>\n",
              "      <td>32</td>\n",
              "      <td>0.571429</td>\n",
              "      <td>0.285714</td>\n",
              "      <td>0.285714</td>\n",
              "      <td>0.428571</td>\n",
              "      <td>0.000000</td>\n",
              "      <td>1</td>\n",
              "      <td>1.400000</td>\n",
              "      <td>4</td>\n",
              "      <td>...</td>\n",
              "      <td>0.0</td>\n",
              "      <td>0.0</td>\n",
              "      <td>0.0</td>\n",
              "      <td>0.0</td>\n",
              "      <td>0.0</td>\n",
              "      <td>0.0</td>\n",
              "      <td>0.0</td>\n",
              "      <td>0.0</td>\n",
              "      <td>0.0</td>\n",
              "      <td>0.0</td>\n",
              "    </tr>\n",
              "    <tr>\n",
              "      <th>1</th>\n",
              "      <td>4</td>\n",
              "      <td>54</td>\n",
              "      <td>0.250000</td>\n",
              "      <td>0.000000</td>\n",
              "      <td>0.000000</td>\n",
              "      <td>0.750000</td>\n",
              "      <td>0.250000</td>\n",
              "      <td>0</td>\n",
              "      <td>1.333333</td>\n",
              "      <td>3</td>\n",
              "      <td>...</td>\n",
              "      <td>0.0</td>\n",
              "      <td>0.0</td>\n",
              "      <td>0.0</td>\n",
              "      <td>0.0</td>\n",
              "      <td>0.0</td>\n",
              "      <td>0.0</td>\n",
              "      <td>0.0</td>\n",
              "      <td>0.0</td>\n",
              "      <td>0.0</td>\n",
              "      <td>0.0</td>\n",
              "    </tr>\n",
              "    <tr>\n",
              "      <th>2</th>\n",
              "      <td>4</td>\n",
              "      <td>8</td>\n",
              "      <td>0.000000</td>\n",
              "      <td>0.000000</td>\n",
              "      <td>0.600000</td>\n",
              "      <td>0.400000</td>\n",
              "      <td>0.000000</td>\n",
              "      <td>0</td>\n",
              "      <td>2.500000</td>\n",
              "      <td>2</td>\n",
              "      <td>...</td>\n",
              "      <td>0.0</td>\n",
              "      <td>0.0</td>\n",
              "      <td>0.0</td>\n",
              "      <td>0.0</td>\n",
              "      <td>0.0</td>\n",
              "      <td>0.0</td>\n",
              "      <td>0.0</td>\n",
              "      <td>1.0</td>\n",
              "      <td>0.0</td>\n",
              "      <td>0.0</td>\n",
              "    </tr>\n",
              "    <tr>\n",
              "      <th>3</th>\n",
              "      <td>28</td>\n",
              "      <td>16</td>\n",
              "      <td>0.031250</td>\n",
              "      <td>0.062500</td>\n",
              "      <td>0.468750</td>\n",
              "      <td>0.343750</td>\n",
              "      <td>0.125000</td>\n",
              "      <td>3</td>\n",
              "      <td>2.000000</td>\n",
              "      <td>7</td>\n",
              "      <td>...</td>\n",
              "      <td>0.0</td>\n",
              "      <td>0.0</td>\n",
              "      <td>0.0</td>\n",
              "      <td>0.0</td>\n",
              "      <td>0.0</td>\n",
              "      <td>1.0</td>\n",
              "      <td>0.0</td>\n",
              "      <td>0.0</td>\n",
              "      <td>0.0</td>\n",
              "      <td>0.0</td>\n",
              "    </tr>\n",
              "    <tr>\n",
              "      <th>4</th>\n",
              "      <td>19</td>\n",
              "      <td>29</td>\n",
              "      <td>0.476190</td>\n",
              "      <td>0.380952</td>\n",
              "      <td>0.285714</td>\n",
              "      <td>0.238095</td>\n",
              "      <td>0.095238</td>\n",
              "      <td>6</td>\n",
              "      <td>2.333333</td>\n",
              "      <td>4</td>\n",
              "      <td>...</td>\n",
              "      <td>1.0</td>\n",
              "      <td>0.0</td>\n",
              "      <td>0.0</td>\n",
              "      <td>0.0</td>\n",
              "      <td>0.0</td>\n",
              "      <td>0.0</td>\n",
              "      <td>0.0</td>\n",
              "      <td>0.0</td>\n",
              "      <td>0.0</td>\n",
              "      <td>0.0</td>\n",
              "    </tr>\n",
              "  </tbody>\n",
              "</table>\n",
              "<p>5 rows × 640 columns</p>\n",
              "</div>\n",
              "    <div class=\"colab-df-buttons\">\n",
              "\n",
              "  <div class=\"colab-df-container\">\n",
              "    <button class=\"colab-df-convert\" onclick=\"convertToInteractive('df-dd2ee479-faab-4327-a73d-0343362ac8dd')\"\n",
              "            title=\"Convert this dataframe to an interactive table.\"\n",
              "            style=\"display:none;\">\n",
              "\n",
              "  <svg xmlns=\"http://www.w3.org/2000/svg\" height=\"24px\" viewBox=\"0 -960 960 960\">\n",
              "    <path d=\"M120-120v-720h720v720H120Zm60-500h600v-160H180v160Zm220 220h160v-160H400v160Zm0 220h160v-160H400v160ZM180-400h160v-160H180v160Zm440 0h160v-160H620v160ZM180-180h160v-160H180v160Zm440 0h160v-160H620v160Z\"/>\n",
              "  </svg>\n",
              "    </button>\n",
              "\n",
              "  <style>\n",
              "    .colab-df-container {\n",
              "      display:flex;\n",
              "      gap: 12px;\n",
              "    }\n",
              "\n",
              "    .colab-df-convert {\n",
              "      background-color: #E8F0FE;\n",
              "      border: none;\n",
              "      border-radius: 50%;\n",
              "      cursor: pointer;\n",
              "      display: none;\n",
              "      fill: #1967D2;\n",
              "      height: 32px;\n",
              "      padding: 0 0 0 0;\n",
              "      width: 32px;\n",
              "    }\n",
              "\n",
              "    .colab-df-convert:hover {\n",
              "      background-color: #E2EBFA;\n",
              "      box-shadow: 0px 1px 2px rgba(60, 64, 67, 0.3), 0px 1px 3px 1px rgba(60, 64, 67, 0.15);\n",
              "      fill: #174EA6;\n",
              "    }\n",
              "\n",
              "    .colab-df-buttons div {\n",
              "      margin-bottom: 4px;\n",
              "    }\n",
              "\n",
              "    [theme=dark] .colab-df-convert {\n",
              "      background-color: #3B4455;\n",
              "      fill: #D2E3FC;\n",
              "    }\n",
              "\n",
              "    [theme=dark] .colab-df-convert:hover {\n",
              "      background-color: #434B5C;\n",
              "      box-shadow: 0px 1px 3px 1px rgba(0, 0, 0, 0.15);\n",
              "      filter: drop-shadow(0px 1px 2px rgba(0, 0, 0, 0.3));\n",
              "      fill: #FFFFFF;\n",
              "    }\n",
              "  </style>\n",
              "\n",
              "    <script>\n",
              "      const buttonEl =\n",
              "        document.querySelector('#df-dd2ee479-faab-4327-a73d-0343362ac8dd button.colab-df-convert');\n",
              "      buttonEl.style.display =\n",
              "        google.colab.kernel.accessAllowed ? 'block' : 'none';\n",
              "\n",
              "      async function convertToInteractive(key) {\n",
              "        const element = document.querySelector('#df-dd2ee479-faab-4327-a73d-0343362ac8dd');\n",
              "        const dataTable =\n",
              "          await google.colab.kernel.invokeFunction('convertToInteractive',\n",
              "                                                    [key], {});\n",
              "        if (!dataTable) return;\n",
              "\n",
              "        const docLinkHtml = 'Like what you see? Visit the ' +\n",
              "          '<a target=\"_blank\" href=https://colab.research.google.com/notebooks/data_table.ipynb>data table notebook</a>'\n",
              "          + ' to learn more about interactive tables.';\n",
              "        element.innerHTML = '';\n",
              "        dataTable['output_type'] = 'display_data';\n",
              "        await google.colab.output.renderOutput(dataTable, element);\n",
              "        const docLink = document.createElement('div');\n",
              "        docLink.innerHTML = docLinkHtml;\n",
              "        element.appendChild(docLink);\n",
              "      }\n",
              "    </script>\n",
              "  </div>\n",
              "\n",
              "\n",
              "<div id=\"df-2ad05170-8d0c-4957-89d3-c9da9ac3aaa0\">\n",
              "  <button class=\"colab-df-quickchart\" onclick=\"quickchart('df-2ad05170-8d0c-4957-89d3-c9da9ac3aaa0')\"\n",
              "            title=\"Suggest charts\"\n",
              "            style=\"display:none;\">\n",
              "\n",
              "<svg xmlns=\"http://www.w3.org/2000/svg\" height=\"24px\"viewBox=\"0 0 24 24\"\n",
              "     width=\"24px\">\n",
              "    <g>\n",
              "        <path d=\"M19 3H5c-1.1 0-2 .9-2 2v14c0 1.1.9 2 2 2h14c1.1 0 2-.9 2-2V5c0-1.1-.9-2-2-2zM9 17H7v-7h2v7zm4 0h-2V7h2v10zm4 0h-2v-4h2v4z\"/>\n",
              "    </g>\n",
              "</svg>\n",
              "  </button>\n",
              "\n",
              "<style>\n",
              "  .colab-df-quickchart {\n",
              "      --bg-color: #E8F0FE;\n",
              "      --fill-color: #1967D2;\n",
              "      --hover-bg-color: #E2EBFA;\n",
              "      --hover-fill-color: #174EA6;\n",
              "      --disabled-fill-color: #AAA;\n",
              "      --disabled-bg-color: #DDD;\n",
              "  }\n",
              "\n",
              "  [theme=dark] .colab-df-quickchart {\n",
              "      --bg-color: #3B4455;\n",
              "      --fill-color: #D2E3FC;\n",
              "      --hover-bg-color: #434B5C;\n",
              "      --hover-fill-color: #FFFFFF;\n",
              "      --disabled-bg-color: #3B4455;\n",
              "      --disabled-fill-color: #666;\n",
              "  }\n",
              "\n",
              "  .colab-df-quickchart {\n",
              "    background-color: var(--bg-color);\n",
              "    border: none;\n",
              "    border-radius: 50%;\n",
              "    cursor: pointer;\n",
              "    display: none;\n",
              "    fill: var(--fill-color);\n",
              "    height: 32px;\n",
              "    padding: 0;\n",
              "    width: 32px;\n",
              "  }\n",
              "\n",
              "  .colab-df-quickchart:hover {\n",
              "    background-color: var(--hover-bg-color);\n",
              "    box-shadow: 0 1px 2px rgba(60, 64, 67, 0.3), 0 1px 3px 1px rgba(60, 64, 67, 0.15);\n",
              "    fill: var(--button-hover-fill-color);\n",
              "  }\n",
              "\n",
              "  .colab-df-quickchart-complete:disabled,\n",
              "  .colab-df-quickchart-complete:disabled:hover {\n",
              "    background-color: var(--disabled-bg-color);\n",
              "    fill: var(--disabled-fill-color);\n",
              "    box-shadow: none;\n",
              "  }\n",
              "\n",
              "  .colab-df-spinner {\n",
              "    border: 2px solid var(--fill-color);\n",
              "    border-color: transparent;\n",
              "    border-bottom-color: var(--fill-color);\n",
              "    animation:\n",
              "      spin 1s steps(1) infinite;\n",
              "  }\n",
              "\n",
              "  @keyframes spin {\n",
              "    0% {\n",
              "      border-color: transparent;\n",
              "      border-bottom-color: var(--fill-color);\n",
              "      border-left-color: var(--fill-color);\n",
              "    }\n",
              "    20% {\n",
              "      border-color: transparent;\n",
              "      border-left-color: var(--fill-color);\n",
              "      border-top-color: var(--fill-color);\n",
              "    }\n",
              "    30% {\n",
              "      border-color: transparent;\n",
              "      border-left-color: var(--fill-color);\n",
              "      border-top-color: var(--fill-color);\n",
              "      border-right-color: var(--fill-color);\n",
              "    }\n",
              "    40% {\n",
              "      border-color: transparent;\n",
              "      border-right-color: var(--fill-color);\n",
              "      border-top-color: var(--fill-color);\n",
              "    }\n",
              "    60% {\n",
              "      border-color: transparent;\n",
              "      border-right-color: var(--fill-color);\n",
              "    }\n",
              "    80% {\n",
              "      border-color: transparent;\n",
              "      border-right-color: var(--fill-color);\n",
              "      border-bottom-color: var(--fill-color);\n",
              "    }\n",
              "    90% {\n",
              "      border-color: transparent;\n",
              "      border-bottom-color: var(--fill-color);\n",
              "    }\n",
              "  }\n",
              "</style>\n",
              "\n",
              "  <script>\n",
              "    async function quickchart(key) {\n",
              "      const quickchartButtonEl =\n",
              "        document.querySelector('#' + key + ' button');\n",
              "      quickchartButtonEl.disabled = true;  // To prevent multiple clicks.\n",
              "      quickchartButtonEl.classList.add('colab-df-spinner');\n",
              "      try {\n",
              "        const charts = await google.colab.kernel.invokeFunction(\n",
              "            'suggestCharts', [key], {});\n",
              "      } catch (error) {\n",
              "        console.error('Error during call to suggestCharts:', error);\n",
              "      }\n",
              "      quickchartButtonEl.classList.remove('colab-df-spinner');\n",
              "      quickchartButtonEl.classList.add('colab-df-quickchart-complete');\n",
              "    }\n",
              "    (() => {\n",
              "      let quickchartButtonEl =\n",
              "        document.querySelector('#df-2ad05170-8d0c-4957-89d3-c9da9ac3aaa0 button');\n",
              "      quickchartButtonEl.style.display =\n",
              "        google.colab.kernel.accessAllowed ? 'block' : 'none';\n",
              "    })();\n",
              "  </script>\n",
              "</div>\n",
              "\n",
              "    </div>\n",
              "  </div>\n"
            ],
            "application/vnd.google.colaboratory.intrinsic+json": {
              "type": "dataframe",
              "variable_name": "test_ft"
            }
          },
          "metadata": {},
          "execution_count": 44
        }
      ]
    },
    {
      "cell_type": "markdown",
      "source": [
        "# 피처 스케일링"
      ],
      "metadata": {
        "id": "0PdAvbK-eLuH"
      }
    },
    {
      "cell_type": "code",
      "source": [
        "from sklearn.preprocessing import StandardScaler"
      ],
      "metadata": {
        "id": "dsh4FeZezrQV"
      },
      "execution_count": 45,
      "outputs": []
    },
    {
      "cell_type": "code",
      "source": [
        "scaler = StandardScaler()\n",
        "scaler.fit(train_ft)"
      ],
      "metadata": {
        "colab": {
          "base_uri": "https://localhost:8080/",
          "height": 0
        },
        "id": "54E_3bRAWvsx",
        "outputId": "3c275166-788a-4a31-d45c-df48d7b3cc7a"
      },
      "execution_count": 46,
      "outputs": [
        {
          "output_type": "execute_result",
          "data": {
            "text/plain": [
              "StandardScaler()"
            ],
            "text/html": [
              "<style>#sk-container-id-2 {\n",
              "  /* Definition of color scheme common for light and dark mode */\n",
              "  --sklearn-color-text: black;\n",
              "  --sklearn-color-line: gray;\n",
              "  /* Definition of color scheme for unfitted estimators */\n",
              "  --sklearn-color-unfitted-level-0: #fff5e6;\n",
              "  --sklearn-color-unfitted-level-1: #f6e4d2;\n",
              "  --sklearn-color-unfitted-level-2: #ffe0b3;\n",
              "  --sklearn-color-unfitted-level-3: chocolate;\n",
              "  /* Definition of color scheme for fitted estimators */\n",
              "  --sklearn-color-fitted-level-0: #f0f8ff;\n",
              "  --sklearn-color-fitted-level-1: #d4ebff;\n",
              "  --sklearn-color-fitted-level-2: #b3dbfd;\n",
              "  --sklearn-color-fitted-level-3: cornflowerblue;\n",
              "\n",
              "  /* Specific color for light theme */\n",
              "  --sklearn-color-text-on-default-background: var(--sg-text-color, var(--theme-code-foreground, var(--jp-content-font-color1, black)));\n",
              "  --sklearn-color-background: var(--sg-background-color, var(--theme-background, var(--jp-layout-color0, white)));\n",
              "  --sklearn-color-border-box: var(--sg-text-color, var(--theme-code-foreground, var(--jp-content-font-color1, black)));\n",
              "  --sklearn-color-icon: #696969;\n",
              "\n",
              "  @media (prefers-color-scheme: dark) {\n",
              "    /* Redefinition of color scheme for dark theme */\n",
              "    --sklearn-color-text-on-default-background: var(--sg-text-color, var(--theme-code-foreground, var(--jp-content-font-color1, white)));\n",
              "    --sklearn-color-background: var(--sg-background-color, var(--theme-background, var(--jp-layout-color0, #111)));\n",
              "    --sklearn-color-border-box: var(--sg-text-color, var(--theme-code-foreground, var(--jp-content-font-color1, white)));\n",
              "    --sklearn-color-icon: #878787;\n",
              "  }\n",
              "}\n",
              "\n",
              "#sk-container-id-2 {\n",
              "  color: var(--sklearn-color-text);\n",
              "}\n",
              "\n",
              "#sk-container-id-2 pre {\n",
              "  padding: 0;\n",
              "}\n",
              "\n",
              "#sk-container-id-2 input.sk-hidden--visually {\n",
              "  border: 0;\n",
              "  clip: rect(1px 1px 1px 1px);\n",
              "  clip: rect(1px, 1px, 1px, 1px);\n",
              "  height: 1px;\n",
              "  margin: -1px;\n",
              "  overflow: hidden;\n",
              "  padding: 0;\n",
              "  position: absolute;\n",
              "  width: 1px;\n",
              "}\n",
              "\n",
              "#sk-container-id-2 div.sk-dashed-wrapped {\n",
              "  border: 1px dashed var(--sklearn-color-line);\n",
              "  margin: 0 0.4em 0.5em 0.4em;\n",
              "  box-sizing: border-box;\n",
              "  padding-bottom: 0.4em;\n",
              "  background-color: var(--sklearn-color-background);\n",
              "}\n",
              "\n",
              "#sk-container-id-2 div.sk-container {\n",
              "  /* jupyter's `normalize.less` sets `[hidden] { display: none; }`\n",
              "     but bootstrap.min.css set `[hidden] { display: none !important; }`\n",
              "     so we also need the `!important` here to be able to override the\n",
              "     default hidden behavior on the sphinx rendered scikit-learn.org.\n",
              "     See: https://github.com/scikit-learn/scikit-learn/issues/21755 */\n",
              "  display: inline-block !important;\n",
              "  position: relative;\n",
              "}\n",
              "\n",
              "#sk-container-id-2 div.sk-text-repr-fallback {\n",
              "  display: none;\n",
              "}\n",
              "\n",
              "div.sk-parallel-item,\n",
              "div.sk-serial,\n",
              "div.sk-item {\n",
              "  /* draw centered vertical line to link estimators */\n",
              "  background-image: linear-gradient(var(--sklearn-color-text-on-default-background), var(--sklearn-color-text-on-default-background));\n",
              "  background-size: 2px 100%;\n",
              "  background-repeat: no-repeat;\n",
              "  background-position: center center;\n",
              "}\n",
              "\n",
              "/* Parallel-specific style estimator block */\n",
              "\n",
              "#sk-container-id-2 div.sk-parallel-item::after {\n",
              "  content: \"\";\n",
              "  width: 100%;\n",
              "  border-bottom: 2px solid var(--sklearn-color-text-on-default-background);\n",
              "  flex-grow: 1;\n",
              "}\n",
              "\n",
              "#sk-container-id-2 div.sk-parallel {\n",
              "  display: flex;\n",
              "  align-items: stretch;\n",
              "  justify-content: center;\n",
              "  background-color: var(--sklearn-color-background);\n",
              "  position: relative;\n",
              "}\n",
              "\n",
              "#sk-container-id-2 div.sk-parallel-item {\n",
              "  display: flex;\n",
              "  flex-direction: column;\n",
              "}\n",
              "\n",
              "#sk-container-id-2 div.sk-parallel-item:first-child::after {\n",
              "  align-self: flex-end;\n",
              "  width: 50%;\n",
              "}\n",
              "\n",
              "#sk-container-id-2 div.sk-parallel-item:last-child::after {\n",
              "  align-self: flex-start;\n",
              "  width: 50%;\n",
              "}\n",
              "\n",
              "#sk-container-id-2 div.sk-parallel-item:only-child::after {\n",
              "  width: 0;\n",
              "}\n",
              "\n",
              "/* Serial-specific style estimator block */\n",
              "\n",
              "#sk-container-id-2 div.sk-serial {\n",
              "  display: flex;\n",
              "  flex-direction: column;\n",
              "  align-items: center;\n",
              "  background-color: var(--sklearn-color-background);\n",
              "  padding-right: 1em;\n",
              "  padding-left: 1em;\n",
              "}\n",
              "\n",
              "\n",
              "/* Toggleable style: style used for estimator/Pipeline/ColumnTransformer box that is\n",
              "clickable and can be expanded/collapsed.\n",
              "- Pipeline and ColumnTransformer use this feature and define the default style\n",
              "- Estimators will overwrite some part of the style using the `sk-estimator` class\n",
              "*/\n",
              "\n",
              "/* Pipeline and ColumnTransformer style (default) */\n",
              "\n",
              "#sk-container-id-2 div.sk-toggleable {\n",
              "  /* Default theme specific background. It is overwritten whether we have a\n",
              "  specific estimator or a Pipeline/ColumnTransformer */\n",
              "  background-color: var(--sklearn-color-background);\n",
              "}\n",
              "\n",
              "/* Toggleable label */\n",
              "#sk-container-id-2 label.sk-toggleable__label {\n",
              "  cursor: pointer;\n",
              "  display: block;\n",
              "  width: 100%;\n",
              "  margin-bottom: 0;\n",
              "  padding: 0.5em;\n",
              "  box-sizing: border-box;\n",
              "  text-align: center;\n",
              "}\n",
              "\n",
              "#sk-container-id-2 label.sk-toggleable__label-arrow:before {\n",
              "  /* Arrow on the left of the label */\n",
              "  content: \"▸\";\n",
              "  float: left;\n",
              "  margin-right: 0.25em;\n",
              "  color: var(--sklearn-color-icon);\n",
              "}\n",
              "\n",
              "#sk-container-id-2 label.sk-toggleable__label-arrow:hover:before {\n",
              "  color: var(--sklearn-color-text);\n",
              "}\n",
              "\n",
              "/* Toggleable content - dropdown */\n",
              "\n",
              "#sk-container-id-2 div.sk-toggleable__content {\n",
              "  max-height: 0;\n",
              "  max-width: 0;\n",
              "  overflow: hidden;\n",
              "  text-align: left;\n",
              "  /* unfitted */\n",
              "  background-color: var(--sklearn-color-unfitted-level-0);\n",
              "}\n",
              "\n",
              "#sk-container-id-2 div.sk-toggleable__content.fitted {\n",
              "  /* fitted */\n",
              "  background-color: var(--sklearn-color-fitted-level-0);\n",
              "}\n",
              "\n",
              "#sk-container-id-2 div.sk-toggleable__content pre {\n",
              "  margin: 0.2em;\n",
              "  border-radius: 0.25em;\n",
              "  color: var(--sklearn-color-text);\n",
              "  /* unfitted */\n",
              "  background-color: var(--sklearn-color-unfitted-level-0);\n",
              "}\n",
              "\n",
              "#sk-container-id-2 div.sk-toggleable__content.fitted pre {\n",
              "  /* unfitted */\n",
              "  background-color: var(--sklearn-color-fitted-level-0);\n",
              "}\n",
              "\n",
              "#sk-container-id-2 input.sk-toggleable__control:checked~div.sk-toggleable__content {\n",
              "  /* Expand drop-down */\n",
              "  max-height: 200px;\n",
              "  max-width: 100%;\n",
              "  overflow: auto;\n",
              "}\n",
              "\n",
              "#sk-container-id-2 input.sk-toggleable__control:checked~label.sk-toggleable__label-arrow:before {\n",
              "  content: \"▾\";\n",
              "}\n",
              "\n",
              "/* Pipeline/ColumnTransformer-specific style */\n",
              "\n",
              "#sk-container-id-2 div.sk-label input.sk-toggleable__control:checked~label.sk-toggleable__label {\n",
              "  color: var(--sklearn-color-text);\n",
              "  background-color: var(--sklearn-color-unfitted-level-2);\n",
              "}\n",
              "\n",
              "#sk-container-id-2 div.sk-label.fitted input.sk-toggleable__control:checked~label.sk-toggleable__label {\n",
              "  background-color: var(--sklearn-color-fitted-level-2);\n",
              "}\n",
              "\n",
              "/* Estimator-specific style */\n",
              "\n",
              "/* Colorize estimator box */\n",
              "#sk-container-id-2 div.sk-estimator input.sk-toggleable__control:checked~label.sk-toggleable__label {\n",
              "  /* unfitted */\n",
              "  background-color: var(--sklearn-color-unfitted-level-2);\n",
              "}\n",
              "\n",
              "#sk-container-id-2 div.sk-estimator.fitted input.sk-toggleable__control:checked~label.sk-toggleable__label {\n",
              "  /* fitted */\n",
              "  background-color: var(--sklearn-color-fitted-level-2);\n",
              "}\n",
              "\n",
              "#sk-container-id-2 div.sk-label label.sk-toggleable__label,\n",
              "#sk-container-id-2 div.sk-label label {\n",
              "  /* The background is the default theme color */\n",
              "  color: var(--sklearn-color-text-on-default-background);\n",
              "}\n",
              "\n",
              "/* On hover, darken the color of the background */\n",
              "#sk-container-id-2 div.sk-label:hover label.sk-toggleable__label {\n",
              "  color: var(--sklearn-color-text);\n",
              "  background-color: var(--sklearn-color-unfitted-level-2);\n",
              "}\n",
              "\n",
              "/* Label box, darken color on hover, fitted */\n",
              "#sk-container-id-2 div.sk-label.fitted:hover label.sk-toggleable__label.fitted {\n",
              "  color: var(--sklearn-color-text);\n",
              "  background-color: var(--sklearn-color-fitted-level-2);\n",
              "}\n",
              "\n",
              "/* Estimator label */\n",
              "\n",
              "#sk-container-id-2 div.sk-label label {\n",
              "  font-family: monospace;\n",
              "  font-weight: bold;\n",
              "  display: inline-block;\n",
              "  line-height: 1.2em;\n",
              "}\n",
              "\n",
              "#sk-container-id-2 div.sk-label-container {\n",
              "  text-align: center;\n",
              "}\n",
              "\n",
              "/* Estimator-specific */\n",
              "#sk-container-id-2 div.sk-estimator {\n",
              "  font-family: monospace;\n",
              "  border: 1px dotted var(--sklearn-color-border-box);\n",
              "  border-radius: 0.25em;\n",
              "  box-sizing: border-box;\n",
              "  margin-bottom: 0.5em;\n",
              "  /* unfitted */\n",
              "  background-color: var(--sklearn-color-unfitted-level-0);\n",
              "}\n",
              "\n",
              "#sk-container-id-2 div.sk-estimator.fitted {\n",
              "  /* fitted */\n",
              "  background-color: var(--sklearn-color-fitted-level-0);\n",
              "}\n",
              "\n",
              "/* on hover */\n",
              "#sk-container-id-2 div.sk-estimator:hover {\n",
              "  /* unfitted */\n",
              "  background-color: var(--sklearn-color-unfitted-level-2);\n",
              "}\n",
              "\n",
              "#sk-container-id-2 div.sk-estimator.fitted:hover {\n",
              "  /* fitted */\n",
              "  background-color: var(--sklearn-color-fitted-level-2);\n",
              "}\n",
              "\n",
              "/* Specification for estimator info (e.g. \"i\" and \"?\") */\n",
              "\n",
              "/* Common style for \"i\" and \"?\" */\n",
              "\n",
              ".sk-estimator-doc-link,\n",
              "a:link.sk-estimator-doc-link,\n",
              "a:visited.sk-estimator-doc-link {\n",
              "  float: right;\n",
              "  font-size: smaller;\n",
              "  line-height: 1em;\n",
              "  font-family: monospace;\n",
              "  background-color: var(--sklearn-color-background);\n",
              "  border-radius: 1em;\n",
              "  height: 1em;\n",
              "  width: 1em;\n",
              "  text-decoration: none !important;\n",
              "  margin-left: 1ex;\n",
              "  /* unfitted */\n",
              "  border: var(--sklearn-color-unfitted-level-1) 1pt solid;\n",
              "  color: var(--sklearn-color-unfitted-level-1);\n",
              "}\n",
              "\n",
              ".sk-estimator-doc-link.fitted,\n",
              "a:link.sk-estimator-doc-link.fitted,\n",
              "a:visited.sk-estimator-doc-link.fitted {\n",
              "  /* fitted */\n",
              "  border: var(--sklearn-color-fitted-level-1) 1pt solid;\n",
              "  color: var(--sklearn-color-fitted-level-1);\n",
              "}\n",
              "\n",
              "/* On hover */\n",
              "div.sk-estimator:hover .sk-estimator-doc-link:hover,\n",
              ".sk-estimator-doc-link:hover,\n",
              "div.sk-label-container:hover .sk-estimator-doc-link:hover,\n",
              ".sk-estimator-doc-link:hover {\n",
              "  /* unfitted */\n",
              "  background-color: var(--sklearn-color-unfitted-level-3);\n",
              "  color: var(--sklearn-color-background);\n",
              "  text-decoration: none;\n",
              "}\n",
              "\n",
              "div.sk-estimator.fitted:hover .sk-estimator-doc-link.fitted:hover,\n",
              ".sk-estimator-doc-link.fitted:hover,\n",
              "div.sk-label-container:hover .sk-estimator-doc-link.fitted:hover,\n",
              ".sk-estimator-doc-link.fitted:hover {\n",
              "  /* fitted */\n",
              "  background-color: var(--sklearn-color-fitted-level-3);\n",
              "  color: var(--sklearn-color-background);\n",
              "  text-decoration: none;\n",
              "}\n",
              "\n",
              "/* Span, style for the box shown on hovering the info icon */\n",
              ".sk-estimator-doc-link span {\n",
              "  display: none;\n",
              "  z-index: 9999;\n",
              "  position: relative;\n",
              "  font-weight: normal;\n",
              "  right: .2ex;\n",
              "  padding: .5ex;\n",
              "  margin: .5ex;\n",
              "  width: min-content;\n",
              "  min-width: 20ex;\n",
              "  max-width: 50ex;\n",
              "  color: var(--sklearn-color-text);\n",
              "  box-shadow: 2pt 2pt 4pt #999;\n",
              "  /* unfitted */\n",
              "  background: var(--sklearn-color-unfitted-level-0);\n",
              "  border: .5pt solid var(--sklearn-color-unfitted-level-3);\n",
              "}\n",
              "\n",
              ".sk-estimator-doc-link.fitted span {\n",
              "  /* fitted */\n",
              "  background: var(--sklearn-color-fitted-level-0);\n",
              "  border: var(--sklearn-color-fitted-level-3);\n",
              "}\n",
              "\n",
              ".sk-estimator-doc-link:hover span {\n",
              "  display: block;\n",
              "}\n",
              "\n",
              "/* \"?\"-specific style due to the `<a>` HTML tag */\n",
              "\n",
              "#sk-container-id-2 a.estimator_doc_link {\n",
              "  float: right;\n",
              "  font-size: 1rem;\n",
              "  line-height: 1em;\n",
              "  font-family: monospace;\n",
              "  background-color: var(--sklearn-color-background);\n",
              "  border-radius: 1rem;\n",
              "  height: 1rem;\n",
              "  width: 1rem;\n",
              "  text-decoration: none;\n",
              "  /* unfitted */\n",
              "  color: var(--sklearn-color-unfitted-level-1);\n",
              "  border: var(--sklearn-color-unfitted-level-1) 1pt solid;\n",
              "}\n",
              "\n",
              "#sk-container-id-2 a.estimator_doc_link.fitted {\n",
              "  /* fitted */\n",
              "  border: var(--sklearn-color-fitted-level-1) 1pt solid;\n",
              "  color: var(--sklearn-color-fitted-level-1);\n",
              "}\n",
              "\n",
              "/* On hover */\n",
              "#sk-container-id-2 a.estimator_doc_link:hover {\n",
              "  /* unfitted */\n",
              "  background-color: var(--sklearn-color-unfitted-level-3);\n",
              "  color: var(--sklearn-color-background);\n",
              "  text-decoration: none;\n",
              "}\n",
              "\n",
              "#sk-container-id-2 a.estimator_doc_link.fitted:hover {\n",
              "  /* fitted */\n",
              "  background-color: var(--sklearn-color-fitted-level-3);\n",
              "}\n",
              "</style><div id=\"sk-container-id-2\" class=\"sk-top-container\"><div class=\"sk-text-repr-fallback\"><pre>StandardScaler()</pre><b>In a Jupyter environment, please rerun this cell to show the HTML representation or trust the notebook. <br />On GitHub, the HTML representation is unable to render, please try loading this page with nbviewer.org.</b></div><div class=\"sk-container\" hidden><div class=\"sk-item\"><div class=\"sk-estimator fitted sk-toggleable\"><input class=\"sk-toggleable__control sk-hidden--visually\" id=\"sk-estimator-id-2\" type=\"checkbox\" checked><label for=\"sk-estimator-id-2\" class=\"sk-toggleable__label fitted sk-toggleable__label-arrow fitted\">&nbsp;&nbsp;StandardScaler<a class=\"sk-estimator-doc-link fitted\" rel=\"noreferrer\" target=\"_blank\" href=\"https://scikit-learn.org/1.5/modules/generated/sklearn.preprocessing.StandardScaler.html\">?<span>Documentation for StandardScaler</span></a><span class=\"sk-estimator-doc-link fitted\">i<span>Fitted</span></span></label><div class=\"sk-toggleable__content fitted\"><pre>StandardScaler()</pre></div> </div></div></div></div>"
            ]
          },
          "metadata": {},
          "execution_count": 46
        }
      ]
    },
    {
      "cell_type": "code",
      "source": [
        "train_ft[train_ft.columns] = scaler.transform(train_ft)\n",
        "test_ft[test_ft.columns] = scaler.transform(test_ft)\n",
        "target = train_target[\"target\"]\n",
        "target.mean()"
      ],
      "metadata": {
        "id": "ZNyoFyPlWvqP",
        "colab": {
          "base_uri": "https://localhost:8080/"
        },
        "outputId": "f578c7cc-eb8b-4853-e42f-ca4863c147fc"
      },
      "execution_count": 47,
      "outputs": [
        {
          "output_type": "execute_result",
          "data": {
            "text/plain": [
              "0.3931726907630522"
            ]
          },
          "metadata": {},
          "execution_count": 47
        }
      ]
    },
    {
      "cell_type": "markdown",
      "source": [
        "# 모델 들"
      ],
      "metadata": {
        "id": "9f4ipvWAMNoe"
      }
    },
    {
      "cell_type": "markdown",
      "source": [
        "### 로지스틱"
      ],
      "metadata": {
        "id": "4QO7Rv0HMVDO"
      }
    },
    {
      "cell_type": "code",
      "source": [
        "# 평가 지표 설정\n",
        "cv = StratifiedKFold(n_splits=5, shuffle=True, random_state=42)\n",
        "model = LogisticRegression(random_state=42)\n",
        "\n",
        "# 결과 저장 리스트 초기화\n",
        "scores = []\n",
        "\n",
        "# SelectPercentile을 사용하여 최적의 percentile 찾기\n",
        "for percentile in tqdm(range(1, 101)):\n",
        "    # SelectPercentile 설정 및 피처 선택\n",
        "    sp = SelectPercentile(percentile=percentile)\n",
        "    x = sp.fit_transform(train_ft, target)\n",
        "\n",
        "    # 교차 검증을 통해 F1 Macro 점수 계산\n",
        "    score = cross_val_score(model, x, target, cv=cv, scoring=\"f1_macro\", n_jobs=-1).mean()\n",
        "\n",
        "    # 결과 저장\n",
        "    scores.append([percentile, score])\n",
        "\n",
        "# numpy 배열로 변환\n",
        "scores = np.array(scores)\n",
        "\n",
        "# 최적의 percentile 찾기\n",
        "idx = np.argmax(scores[:, 1])\n",
        "best_percentile, best_score = scores[idx]\n",
        "print(f\"최적의 Percentile: {best_percentile}, 최고 F1 Macro 점수: {best_score:.4f}\")\n",
        "\n",
        "# 성능 변화 그래프 시각화\n",
        "plt.figure(figsize=(10, 6))\n",
        "plt.plot(scores[:, 0], scores[:, 1], marker='o')\n",
        "plt.axvline(x=best_percentile, color='r', linestyle='--', label=f'Best Percentile: {best_percentile}')\n",
        "plt.xlabel('Percentile')\n",
        "plt.ylabel('F1 Macro Score')\n",
        "plt.title('SelectPercentile vs F1 Macro Score')\n",
        "plt.legend()\n",
        "plt.grid(True)\n",
        "plt.show()\n"
      ],
      "metadata": {
        "colab": {
          "base_uri": "https://localhost:8080/",
          "height": 615,
          "referenced_widgets": [
            "578d33f6d66749e28f59ab25dc42ce72",
            "272305139ef541ea91db0256ac6fb163",
            "2d9cca490f024153af9d4e6edef2ff43",
            "4ee8e1c49235462394763de63e30be7a",
            "724f4c220c664f11a84cfade0962a205",
            "7ad83df84b1744fead0133b55e6bce30",
            "839a16eff79c4780820ecd08a2256672",
            "85b26c0f46b24f95970ebe179f5b5e9b",
            "ad359fab20854a5ebeac155ec2c5d63c",
            "1b669e3cc1234669835f086b7edf7dee",
            "86ca45e6edbe4d5a982c999c3d07f12c"
          ]
        },
        "id": "k_i80cLblPbT",
        "outputId": "cb35e09e-f07b-4f4c-8cb0-41ff8c82b163"
      },
      "execution_count": null,
      "outputs": [
        {
          "output_type": "display_data",
          "data": {
            "text/plain": [
              "  0%|          | 0/100 [00:00<?, ?it/s]"
            ],
            "application/vnd.jupyter.widget-view+json": {
              "version_major": 2,
              "version_minor": 0,
              "model_id": "578d33f6d66749e28f59ab25dc42ce72"
            }
          },
          "metadata": {}
        },
        {
          "output_type": "stream",
          "name": "stdout",
          "text": [
            "최적의 Percentile: 51.0, 최고 F1 Macro 점수: 0.7149\n"
          ]
        },
        {
          "output_type": "display_data",
          "data": {
            "text/plain": [
              "<Figure size 1000x600 with 1 Axes>"
            ],
            "image/png": "[encoded data removed]"
          },
          "metadata": {}
        }
      ]
    },
    {
      "cell_type": "code",
      "source": [
        "# 최적의 Percentile 값 적용\n",
        "sp = SelectPercentile(percentile=51)\n",
        "train_ft_selected = sp.fit_transform(train_ft, target)\n",
        "\n",
        "# Logistic Regression 모델 정의\n",
        "model_logreg = LogisticRegression(random_state=42)\n",
        "\n",
        "# 교차 검증 설정\n",
        "cv = StratifiedKFold(n_splits=5, shuffle=True, random_state=42)\n",
        "\n",
        "# F1 Macro 점수 계산\n",
        "logreg_scores = cross_val_score(model_logreg, train_ft_selected, target, cv=cv, scoring=\"f1_macro\", n_jobs=-1)\n",
        "print(\"Logistic Regression 평균 F1 Macro 점수:\", logreg_scores.mean())"
      ],
      "metadata": {
        "colab": {
          "base_uri": "https://localhost:8080/"
        },
        "id": "H0_k4_dunMdm",
        "outputId": "3ebe412a-d019-47be-82c7-6b6617a92926"
      },
      "execution_count": null,
      "outputs": [
        {
          "output_type": "stream",
          "name": "stdout",
          "text": [
            "Logistic Regression 평균 F1 Macro 점수: 0.7148865777118446\n"
          ]
        }
      ]
    },
    {
      "cell_type": "markdown",
      "source": [
        "### SGDClassifier(튜닝필수)"
      ],
      "metadata": {
        "id": "i9gat8-bMXrO"
      }
    },
    {
      "cell_type": "code",
      "source": [
        "# model = SGDClassifier(random_state=42, max_iter=1000, tol=1e-3)   # 0.6624478279967579 25초"
      ],
      "metadata": {
        "id": "knznap4GMZDS"
      },
      "execution_count": null,
      "outputs": []
    },
    {
      "cell_type": "code",
      "source": [
        "# 4분\n",
        "# 최적의 하이퍼파라미터: {'penalty': 'l2', 'learning_rate': 'invscaling', 'eta0': 0.001, 'alpha': 0.01}\n",
        "# 최적의 F1 Macro Score: 0.7097009322225061\n",
        "\n",
        "param_dist = {\n",
        "    'alpha': [0.0001, 0.001, 0.01, 0.1, 1.0],\n",
        "    'learning_rate': ['constant', 'optimal', 'invscaling', 'adaptive'],\n",
        "    'eta0': [0.001, 0.01, 0.1],  # 초기 학습률\n",
        "    'penalty': ['l2', 'l1', 'elasticnet']\n",
        "}\n",
        "\n",
        "model = SGDClassifier(random_state=42, max_iter=1000, tol=1e-3)\n",
        "random_search = RandomizedSearchCV(\n",
        "    estimator=model,\n",
        "    param_distributions=param_dist,\n",
        "    n_iter=20,\n",
        "    scoring='f1_macro',\n",
        "    cv=5,\n",
        "    random_state=42\n",
        ")\n",
        "random_search.fit(train_ft, target)\n",
        "print(\"최적의 하이퍼파라미터:\", random_search.best_params_)\n",
        "print(\"최적의 F1 Macro Score:\", random_search.best_score_)"
      ],
      "metadata": {
        "id": "4o-jx-vgj3FT"
      },
      "execution_count": null,
      "outputs": []
    },
    {
      "cell_type": "markdown",
      "source": [
        "### Linear Discriminant Analysis (LDA)"
      ],
      "metadata": {
        "id": "cIpshtNpMuEF"
      }
    },
    {
      "cell_type": "code",
      "source": [
        "# from sklearn.discriminant_analysis import LinearDiscriminantAnalysis\n",
        "# from sklearn.feature_selection import SelectPercentile\n",
        "# from sklearn.model_selection import cross_val_score, StratifiedKFold\n",
        "# from tqdm.notebook import tqdm\n",
        "# import numpy as np\n",
        "# import matplotlib.pyplot as plt\n",
        "\n",
        "# # 평가 지표 및 교차 검증 설정\n",
        "# cv = StratifiedKFold(n_splits=5, shuffle=True, random_state=42)\n",
        "# model = LinearDiscriminantAnalysis()\n",
        "\n",
        "# # 결과 저장 리스트 초기화\n",
        "# scores = []\n",
        "\n",
        "# # SelectPercentile을 사용하여 최적의 percentile 찾기\n",
        "# for percentile in tqdm(range(1, 101)):\n",
        "#     # SelectPercentile 설정 및 피처 선택\n",
        "#     sp = SelectPercentile(percentile=percentile)\n",
        "#     x = sp.fit_transform(train_ft, target)\n",
        "\n",
        "#     # 교차 검증을 통해 F1 Macro 점수 계산\n",
        "#     score = cross_val_score(model, x, target, cv=cv, scoring=\"f1_macro\", n_jobs=-1).mean()\n",
        "\n",
        "#     # 결과 저장\n",
        "#     scores.append([percentile, score])\n",
        "\n",
        "# # numpy 배열로 변환\n",
        "# scores = np.array(scores)\n",
        "\n",
        "# # 최적의 percentile 찾기\n",
        "# idx = np.argmax(scores[:, 1])\n",
        "# best_percentile, best_score = scores[idx]\n",
        "# print(f\"최적의 Percentile: {best_percentile}, 최고 F1 Macro 점수: {best_score:.4f}\")\n",
        "\n",
        "# # 성능 변화 그래프 시각화\n",
        "# plt.figure(figsize=(10, 6))\n",
        "# plt.plot(scores[:, 0], scores[:, 1], marker='o')\n",
        "# plt.axvline(x=best_percentile, color='r', linestyle='--', label=f'Best Percentile: {best_percentile}')\n",
        "# plt.xlabel('Percentile')\n",
        "# plt.ylabel('F1 Macro Score')\n",
        "# plt.title('SelectPercentile vs F1 Macro Score (LDA)')\n",
        "# plt.legend()\n",
        "# plt.grid(True)\n",
        "# plt.show()\n"
      ],
      "metadata": {
        "id": "dg1McNn6MwAv",
        "colab": {
          "base_uri": "https://localhost:8080/",
          "height": 615,
          "referenced_widgets": [
            "97cedf39c8b04061b05af472bd3d2b31",
            "8533de2721664240bc43c2b70d103560",
            "392fa10d7ba9458c896ac21ee498cb39",
            "2117961538af4e74ab85ff8eb808a7ff",
            "a94f00d627274b12aff3187322e3bcb8",
            "dce870fa85954012bf11ffb3db752bf0",
            "d6313ac7f6ca486788ba9e0cdd951084",
            "49f66699c5cd4a08aff7e648d70dfeb7",
            "2940386792454bf48ea1c580ee9495c9",
            "8a2d12ddaa794829bb932c666fbe7c60",
            "a2db185f6cce4db99b1c22880864b6e1"
          ]
        },
        "outputId": "a3fea698-b18f-4deb-fc4d-70fda16e1301"
      },
      "execution_count": 123,
      "outputs": [
        {
          "output_type": "display_data",
          "data": {
            "text/plain": [
              "  0%|          | 0/100 [00:00<?, ?it/s]"
            ],
            "application/vnd.jupyter.widget-view+json": {
              "version_major": 2,
              "version_minor": 0,
              "model_id": "97cedf39c8b04061b05af472bd3d2b31"
            }
          },
          "metadata": {}
        },
        {
          "output_type": "stream",
          "name": "stdout",
          "text": [
            "최적의 Percentile: 51.0, 최고 F1 Macro 점수: 0.7117\n"
          ]
        },
        {
          "output_type": "display_data",
          "data": {
            "text/plain": [
              "<Figure size 1000x600 with 1 Axes>"
            ],
            "image/png": "[encoded data removed]"
          },
          "metadata": {}
        }
      ]
    },
    {
      "cell_type": "code",
      "source": [
        "# === 최적의 Percentile 값(51%) 적용 ===\n",
        "sp = SelectPercentile(percentile=51)\n",
        "train_ft_selected = sp.fit_transform(train_ft, target)\n",
        "\n",
        "# === LDA 기본 모델 설정 ===\n",
        "model = LinearDiscriminantAnalysis()\n",
        "\n",
        "# === 교차 검증 설정 ===\n",
        "cv = StratifiedKFold(n_splits=5, shuffle=True, random_state=42)\n",
        "\n",
        "# === 교차 검증을 통한 F1 Macro 점수 평가 ===\n",
        "scores = cross_val_score(model, train_ft_selected, target, cv=cv, scoring=\"f1_macro\", n_jobs=-1)\n",
        "print(\"LDA 기본 모델 평균 F1 Macro 점수:\", scores.mean())"
      ],
      "metadata": {
        "colab": {
          "base_uri": "https://localhost:8080/"
        },
        "id": "GyYLd9yCwPVZ",
        "outputId": "6f85758c-d3f8-4ec5-fb1c-69b6bd890b14"
      },
      "execution_count": 148,
      "outputs": [
        {
          "output_type": "stream",
          "name": "stdout",
          "text": [
            "LDA 기본 모델 평균 F1 Macro 점수: 0.7116886836641182\n"
          ]
        }
      ]
    },
    {
      "cell_type": "markdown",
      "source": [
        "### random tree"
      ],
      "metadata": {
        "id": "mv6T-Is1_hV0"
      }
    },
    {
      "cell_type": "code",
      "source": [
        "# 평가 지표 및 교차 검증 설정\n",
        "cv = StratifiedKFold(n_splits=5, shuffle=True, random_state=42)\n",
        "\n",
        "# 랜덤 포레스트 하이퍼파라미터 검색 공간 설정\n",
        "param_dist = {\n",
        "    'n_estimators': [50, 100, 200, 300, 400, 500],\n",
        "    'max_depth': [None, 10, 20, 30, 40],\n",
        "    'min_samples_split': [2, 5, 10],\n",
        "    'min_samples_leaf': [1, 2, 4],\n",
        "    'max_features': ['auto', 'sqrt', 'log2'],\n",
        "    'class_weight': ['balanced', None],\n",
        "    'random_state': [42]\n",
        "}\n",
        "\n",
        "# 모델 정의\n",
        "model = RandomForestClassifier()\n",
        "\n",
        "# RandomizedSearchCV 설정\n",
        "random_search = RandomizedSearchCV(\n",
        "    estimator=model,\n",
        "    param_distributions=param_dist,\n",
        "    n_iter=20,\n",
        "    scoring='f1_macro',\n",
        "    cv=cv,\n",
        "    random_state=42,\n",
        "    verbose=2\n",
        ")\n",
        "\n",
        "# Random Search 수행\n",
        "random_search.fit(train_ft, target)\n",
        "\n",
        "# 최적의 하이퍼파라미터 출력\n",
        "print(\"최적의 F1 Macro 점수:\", random_search.best_score_)\n",
        "print(\"최적의 하이퍼파라미터:\", random_search.best_params_)\n",
        "\n",
        "#최적의 F1 Macro 점수: 0.7115078079564034\n",
        "# 최적의 하이퍼파라미터: {'random_state': 42, 'n_estimators': 200, 'min_samples_split': 2, 'min_samples_leaf': 4, 'max_features': 'sqrt', 'max_depth': 20, 'class_weight': 'balanced'}"
      ],
      "metadata": {
        "id": "Czb1o83X_j0I"
      },
      "execution_count": null,
      "outputs": []
    },
    {
      "cell_type": "code",
      "source": [
        "model = RandomForestClassifier(\n",
        "    random_state=42,\n",
        "    n_estimators=200,\n",
        "    min_samples_split=2,\n",
        "    min_samples_leaf=4,\n",
        "    max_features='sqrt',\n",
        "    max_depth=20,\n",
        "    class_weight='balanced'\n",
        ")\n",
        "\n",
        "# 교차 검증을 통한 F1 Macro 점수 평가\n",
        "scores = cross_val_score(model, train_ft, target, cv=cv, scoring=\"f1_macro\")\n",
        "print(f\"교차 검증 F1 Macro 평균 점수: {scores.mean():.4f}\")"
      ],
      "metadata": {
        "colab": {
          "base_uri": "https://localhost:8080/"
        },
        "id": "_gg5C5GDC1UT",
        "outputId": "04d33b41-bae3-49f1-e237-51384ac66bc3"
      },
      "execution_count": 57,
      "outputs": [
        {
          "output_type": "stream",
          "name": "stdout",
          "text": [
            "교차 검증 F1 Macro 평균 점수: 0.7115\n"
          ]
        }
      ]
    },
    {
      "cell_type": "markdown",
      "source": [
        "###  GradientBoostingClassifier"
      ],
      "metadata": {
        "id": "jObRzjR5Eumm"
      }
    },
    {
      "cell_type": "code",
      "source": [
        "model = GradientBoostingClassifier(random_state=42)  # 0.7056738084650951\n",
        "\n",
        "scores = cross_val_score(model, train_ft, target, scoring=\"f1_macro\")\n",
        "scores.mean()"
      ],
      "metadata": {
        "id": "6L3YSKp3L8Cn"
      },
      "execution_count": null,
      "outputs": []
    },
    {
      "cell_type": "markdown",
      "source": [
        "###  AdaBoostClassifier (시간날때 튜닝)"
      ],
      "metadata": {
        "id": "U_Xq1tOSMoeP"
      }
    },
    {
      "cell_type": "code",
      "source": [
        "# model = AdaBoostClassifier(random_state=42)  # 0.696761219639448\n",
        "\n",
        "# scores = cross_val_score(model, train_ft, target, scoring=\"f1_macro\")\n",
        "# scores.mean()"
      ],
      "metadata": {
        "id": "bNb6v52nN8Xs"
      },
      "execution_count": null,
      "outputs": []
    },
    {
      "cell_type": "code",
      "source": [
        "# # 평가 지표 및 교차 검증 설정\n",
        "# cv = StratifiedKFold(n_splits=3, shuffle=True, random_state=42)\n",
        "\n",
        "# # 하이퍼파라미터 검색 공간 설정\n",
        "# param_dist = {\n",
        "#     'n_estimators': [50, 100, 200, 300],\n",
        "#     'learning_rate': [0.01, 0.05, 0.1, 0.2],\n",
        "#     'estimator': [\n",
        "#         DecisionTreeClassifier(max_depth=1),\n",
        "#         DecisionTreeClassifier(max_depth=2),\n",
        "#         DecisionTreeClassifier(max_depth=3)\n",
        "#     ],\n",
        "#     'algorithm': ['SAMME', 'SAMME.R']\n",
        "# }\n",
        "\n",
        "# # AdaBoost 모델 정의 (base_estimator 대신 estimator 사용)\n",
        "# model = AdaBoostClassifier(random_state=42)\n",
        "\n",
        "# # RandomizedSearchCV 설정\n",
        "# random_search = RandomizedSearchCV(\n",
        "#     estimator=model,\n",
        "#     param_distributions=param_dist,\n",
        "#     n_iter=20,\n",
        "#     scoring='f1_macro',\n",
        "#     cv=cv,\n",
        "#     random_state=42,\n",
        "#     verbose=2\n",
        "# )\n",
        "\n",
        "# # Random Search 수행\n",
        "# random_search.fit(train_ft, target)\n",
        "\n",
        "# # 최적의 하이퍼파라미터 출력\n",
        "# print(\"최적의 F1 Macro 점수:\", random_search.best_score_)\n",
        "# print(\"최적의 하이퍼파라미터:\", random_search.best_params_)"
      ],
      "metadata": {
        "id": "a6UHb3guMpeT"
      },
      "execution_count": null,
      "outputs": []
    },
    {
      "cell_type": "markdown",
      "source": [
        "### MLPClassifier"
      ],
      "metadata": {
        "id": "AlB35pYJOHEu"
      }
    },
    {
      "cell_type": "code",
      "source": [
        "model = MLPClassifier(random_state=SEED)\n",
        "\n",
        "scores = cross_val_score(model, train_ft, target, scoring=\"f1_macro\")\n",
        "scores.mean()"
      ],
      "metadata": {
        "id": "MGQQKtueOJzZ"
      },
      "execution_count": null,
      "outputs": []
    },
    {
      "cell_type": "markdown",
      "source": [
        "### catboost"
      ],
      "metadata": {
        "id": "C6o6uGtaINI2"
      }
    },
    {
      "cell_type": "code",
      "source": [
        "%pip install catboost\n",
        "from catboost import CatBoostClassifier"
      ],
      "metadata": {
        "id": "zQP0S85iJWtH"
      },
      "execution_count": null,
      "outputs": []
    },
    {
      "cell_type": "code",
      "source": [
        "# 제거할 피처 목록\n",
        "remove_features = [\n",
        "    'A112000_브랜드코드수', 'A144000_브랜드코드수', 'A202000_브랜드코드수', 'A373000_브랜드코드수',\n",
        "    '교복행사_구매비율', '단품_행사_캐릭터_구매', '훼미닌부틱_구매'\n",
        "]\n",
        "\n",
        "# train_ft와 test_ft에서 해당 피처 제거\n",
        "train_ft_filtered = train_ft.drop(columns=remove_features, errors='ignore')\n",
        "test_ft_filtered = test_ft.drop(columns=remove_features, errors='ignore')\n",
        "\n",
        "model = CatBoostClassifier(class_weights=[1, 1.5], random_state=42, verbose=0)\n",
        "\n",
        "# 교차 검증 설정\n",
        "cv = StratifiedKFold(n_splits=5, shuffle=True, random_state=42)\n",
        "\n",
        "# 교차 검증을 통한 F1 Macro 점수 평가\n",
        "scores = cross_val_score(model, train_ft_filtered, target, cv=cv, scoring='f1_macro', n_jobs=-1)\n",
        "print(f\"교차 검증 F1 Macro 평균 점수: {scores.mean():.4f}\")"
      ],
      "metadata": {
        "id": "lePml5dlI7jt"
      },
      "execution_count": null,
      "outputs": []
    },
    {
      "cell_type": "markdown",
      "source": [
        "### lightgbm"
      ],
      "metadata": {
        "id": "Sr4JE1R3O8fr"
      }
    },
    {
      "cell_type": "code",
      "source": [
        "\n",
        "# 최적의 하이퍼파라미터\n",
        "best_params = {\n",
        "    'learning_rate':   0.09000000000000001,\n",
        "    'num_leaves': 30,\n",
        "    'feature_fraction':0.5,\n",
        "    'bagging_fraction': 0.9,\n",
        "    'min_data_in_leaf':50,\n",
        "    'reg_alpha':  0.8888888888888888,\n",
        "    'reg_lambda':  0.4444444444444444,\n",
        "    'class_weight': 'balanced',\n",
        "    'random_state': 42\n",
        "}\n",
        "\n",
        "\n",
        "# LightGBM 모델 초기화\n",
        "model = LGBMClassifier(**best_params)\n",
        "\n",
        "# Stratified K-Fold 설정\n",
        "cv = StratifiedKFold(n_splits=10, shuffle=True, random_state=42)\n",
        "\n",
        "\n",
        "# 교차 검증을 통한 F1 Macro 스코어 평가\n",
        "scores = cross_val_score(model, train_ft, target, cv=cv, scoring='f1_macro', n_jobs=-1)\n",
        "print(f\"교차 검증 F1 Macro 스코어: {scores}\")\n",
        "print(f\"평균 F1 Macro 스코어: {np.mean(scores):.4f}\")"
      ],
      "metadata": {
        "id": "CKc-m31CPAYz"
      },
      "execution_count": null,
      "outputs": []
    },
    {
      "cell_type": "markdown",
      "source": [
        "### xgboost"
      ],
      "metadata": {
        "id": "wlU4fVgNPLot"
      }
    },
    {
      "cell_type": "code",
      "source": [
        "# 클래스 비율을 기반으로 scale_pos_weight 설정 (XGBoost에서 클래스 불균형 조정)\n",
        "scale_pos_weight = len(target[target == 0]) / len(target[target == 1])\n",
        "\n",
        "# 최적의 하이퍼파라미터 (XGBoost에 맞게 조정)\n",
        "best_params = {\n",
        "    'learning_rate': 0.09000000000000001,\n",
        "    'max_depth': 5,\n",
        "    'n_estimators': 200,\n",
        "    'subsample': 0.9,\n",
        "    'colsample_bytree': 0.675,\n",
        "    'reg_alpha': 1.5555555555555554,\n",
        "    'reg_lambda': 1.1111111111111112,\n",
        "    'scale_pos_weight': scale_pos_weight,\n",
        "    'random_state': 42,\n",
        "    'use_label_encoder': False,\n",
        "    'eval_metric': 'logloss'\n",
        "}\n",
        "\n",
        "# XGBoost 모델 초기화\n",
        "model = XGBClassifier(**best_params)\n",
        "\n",
        "# Stratified K-Fold 설정\n",
        "cv = StratifiedKFold(n_splits=10, shuffle=True, random_state=42)\n",
        "\n",
        "# F1 Macro 스코어 설정\n",
        "f1_macro = make_scorer(f1_score, average='macro')\n",
        "\n",
        "# 교차 검증을 통한 F1 Macro 스코어 평가\n",
        "scores = cross_val_score(model, train_ft, target, cv=cv, scoring=f1_macro, n_jobs=-1)\n",
        "print(f\"교차 검증 F1 Macro 스코어: {scores}\")\n",
        "print(f\"평균 F1 Macro 스코어: {np.mean(scores):.4f}\")"
      ],
      "metadata": {
        "id": "hSartL7YPNlD"
      },
      "execution_count": null,
      "outputs": []
    },
    {
      "cell_type": "markdown",
      "source": [
        "# 앙상블"
      ],
      "metadata": {
        "id": "WfPmU7xAqYTW"
      }
    },
    {
      "cell_type": "code",
      "source": [
        "from sklearn.preprocessing import OneHotEncoder, StandardScaler\n",
        "from sklearn.model_selection import KFold, cross_val_score\n",
        "from sklearn.ensemble import StackingClassifier\n",
        "from lightgbm import LGBMClassifier\n",
        "from xgboost import XGBClassifier\n",
        "from catboost import CatBoostClassifier\n",
        "from sklearn.linear_model import LogisticRegression\n",
        "from sklearn.metrics import roc_auc_score\n",
        "from sklearn.tree import DecisionTreeClassifier\n",
        "from sklearn.ensemble import BaggingClassifier"
      ],
      "metadata": {
        "id": "e_EMxx8oqhlz",
        "colab": {
          "base_uri": "https://localhost:8080/"
        },
        "outputId": "7a3674a5-3127-4373-ca39-7053f394174c"
      },
      "execution_count": null,
      "outputs": [
        {
          "output_type": "stream",
          "name": "stderr",
          "text": [
            "/usr/local/lib/python3.10/dist-packages/dask/dataframe/__init__.py:42: FutureWarning: \n",
            "Dask dataframe query planning is disabled because dask-expr is not installed.\n",
            "\n",
            "You can install it with `pip install dask[dataframe]` or `conda install dask`.\n",
            "This will raise in a future version.\n",
            "\n",
            "  warnings.warn(msg, FutureWarning)\n"
          ]
        }
      ]
    },
    {
      "cell_type": "code",
      "source": [
        "\n",
        "from sklearn.preprocessing import OneHotEncoder, StandardScaler\n",
        "from sklearn.model_selection import KFold, cross_val_score\n",
        "from sklearn.ensemble import BaggingClassifier\n",
        "from sklearn.tree import DecisionTreeClassifier\n",
        "from sklearn.metrics import roc_auc_score"
      ],
      "metadata": {
        "id": "VqOc29e-0KQ7"
      },
      "execution_count": null,
      "outputs": []
    },
    {
      "cell_type": "markdown",
      "source": [
        "### 배깅"
      ],
      "metadata": {
        "id": "xiMzEkLg8xkJ"
      }
    },
    {
      "cell_type": "code",
      "source": [
        "from sklearn.ensemble import VotingClassifier, BaggingClassifier\n",
        "from sklearn.model_selection import StratifiedKFold, cross_val_score\n",
        "from sklearn.metrics import f1_score, make_scorer\n",
        "from sklearn.linear_model import LogisticRegression\n",
        "from lightgbm import LGBMClassifier\n",
        "from xgboost import XGBClassifier\n",
        "from catboost import CatBoostClassifier\n",
        "from sklearn.ensemble import HistGradientBoostingClassifier\n",
        "\n",
        "# 평가 지표로 F1 Macro 스코어 설정\n",
        "f1_macro = make_scorer(f1_score, average='macro')\n",
        "\n",
        "# Stratified K-Fold 설정\n",
        "cv = StratifiedKFold(n_splits=5, shuffle=True, random_state=42)\n",
        "\n",
        "# === 1. 개별 모델 정의 및 Bagging 적용 ===\n",
        "# Logistic Regression 모델을 BaggingClassifier로 감싸기\n",
        "lr_model = BaggingClassifier(\n",
        "    estimator=LogisticRegression(penalty='l1', solver='liblinear', C=1.36, random_state=42, max_iter=500),\n",
        "    n_estimators=10,\n",
        "    random_state=42,\n",
        "    n_jobs=-1\n",
        ")\n",
        "\n",
        "# CatBoostClassifier\n",
        "cat_model = BaggingClassifier(\n",
        "    estimator=CatBoostClassifier(class_weights=[1, 1.5], random_state=42, verbose=0),\n",
        "    n_estimators=10, random_state=42, n_jobs=-1\n",
        ")\n",
        "\n",
        "# LightGBM\n",
        "lgb_model = BaggingClassifier(\n",
        "    estimator=LGBMClassifier(class_weight='balanced', random_state=42),\n",
        "    n_estimators=10, random_state=42, n_jobs=-1\n",
        ")\n",
        "\n",
        "# XGBoost 모델의 class_weight 계산\n",
        "scale_pos_weight = train_ft[target == 0].shape[0] / train_ft[target == 1].shape[0]\n",
        "xgb_model = BaggingClassifier(\n",
        "    estimator=XGBClassifier(\n",
        "        learning_rate=0.09, max_depth=5, n_estimators=200,\n",
        "        subsample=0.9, colsample_bytree=0.675,\n",
        "        reg_alpha=1.5555, reg_lambda=1.1111,\n",
        "        scale_pos_weight=scale_pos_weight,\n",
        "        random_state=42, use_label_encoder=False, eval_metric='logloss'\n",
        "    ),\n",
        "    n_estimators=10, random_state=42, n_jobs=-1\n",
        ")\n",
        "\n",
        "# HistGradientBoostingClassifier\n",
        "hist_model = BaggingClassifier(\n",
        "    estimator=HistGradientBoostingClassifier(random_state=42),\n",
        "    n_estimators=10, random_state=42, n_jobs=-1\n",
        ")\n",
        "\n",
        "# === 2. Bagging을 적용한 모델들을 VotingClassifier에 통합 ===\n",
        "estimators = [\n",
        "    ('lr', lr_model),\n",
        "    ('cat', cat_model),\n",
        "    ('lgb', lgb_model),\n",
        "    ('xgb', xgb_model),\n",
        "    ('hist', hist_model)\n",
        "]\n",
        "\n",
        "# 소프트 보팅 앙상블 모델 설정\n",
        "soft_voting_model = VotingClassifier(\n",
        "    estimators=estimators,\n",
        "    voting='soft',\n",
        "    n_jobs=-1\n",
        ")\n",
        "\n",
        "# === 3. 교차 검증을 통한 평가 ===\n",
        "scores = cross_val_score(soft_voting_model, train_ft, target, cv=cv, scoring=f1_macro, n_jobs=-1)\n",
        "print(f\"Bagging 기반 VotingClassifier F1 Macro 평균 점수: {np.mean(scores):.4f}\")\n"
      ],
      "metadata": {
        "id": "fSWd8HxXxc2h",
        "colab": {
          "base_uri": "https://localhost:8080/"
        },
        "outputId": "60d0154f-148d-4346-836f-76545a46cd7c"
      },
      "execution_count": null,
      "outputs": [
        {
          "output_type": "stream",
          "name": "stdout",
          "text": [
            "Bagging 기반 VotingClassifier F1 Macro 평균 점수: 0.7272\n"
          ]
        }
      ]
    },
    {
      "cell_type": "markdown",
      "source": [
        "##### 모든조합"
      ],
      "metadata": {
        "id": "S4tGRlZF4rtU"
      }
    },
    {
      "cell_type": "code",
      "source": [
        "import numpy as np\n",
        "import pandas as pd\n",
        "from sklearn.ensemble import VotingClassifier, BaggingClassifier\n",
        "from sklearn.model_selection import StratifiedKFold, cross_val_score\n",
        "from sklearn.metrics import f1_score, make_scorer\n",
        "from sklearn.linear_model import LogisticRegression\n",
        "from lightgbm import LGBMClassifier\n",
        "from xgboost import XGBClassifier\n",
        "from catboost import CatBoostClassifier\n",
        "from sklearn.ensemble import HistGradientBoostingClassifier\n",
        "import itertools\n",
        "\n",
        "# 평가 지표로 F1 Macro 스코어 설정\n",
        "f1_macro = make_scorer(f1_score, average='macro')\n",
        "\n",
        "# Stratified K-Fold 설정\n",
        "cv = StratifiedKFold(n_splits=5, shuffle=True, random_state=42)\n",
        "\n",
        "# === 개별 모델 정의 및 Bagging 적용 ===\n",
        "lr_model = BaggingClassifier(\n",
        "    estimator=LogisticRegression(penalty='l1', solver='liblinear', C=1.36, random_state=42, max_iter=500),\n",
        "    n_estimators=10, random_state=42, n_jobs=-1\n",
        ")\n",
        "\n",
        "cat_model = BaggingClassifier(\n",
        "    estimator=CatBoostClassifier(class_weights=[1, 1.5], random_state=42, verbose=0),\n",
        "    n_estimators=10, random_state=42, n_jobs=-1\n",
        ")\n",
        "\n",
        "lgb_model = BaggingClassifier(\n",
        "    estimator=LGBMClassifier(class_weight='balanced', random_state=42),\n",
        "    n_estimators=10, random_state=42, n_jobs=-1\n",
        ")\n",
        "\n",
        "scale_pos_weight = train_ft[target == 0].shape[0] / train_ft[target == 1].shape[0]\n",
        "xgb_model = BaggingClassifier(\n",
        "    estimator=XGBClassifier(\n",
        "        learning_rate=0.09, max_depth=5, n_estimators=200,\n",
        "        subsample=0.9, colsample_bytree=0.675,\n",
        "        reg_alpha=1.5555, reg_lambda=1.1111,\n",
        "        scale_pos_weight=scale_pos_weight,\n",
        "        random_state=42, use_label_encoder=False, eval_metric='logloss'\n",
        "    ),\n",
        "    n_estimators=10, random_state=42, n_jobs=-1\n",
        ")\n",
        "\n",
        "hist_model = BaggingClassifier(\n",
        "    estimator=HistGradientBoostingClassifier(random_state=42),\n",
        "    n_estimators=10, random_state=42, n_jobs=-1\n",
        ")\n",
        "\n",
        "# 모델 리스트 정의\n",
        "model_list = [\n",
        "    ('lr', lr_model),\n",
        "    ('cat', cat_model),\n",
        "    ('lgb', lgb_model),\n",
        "    ('xgb', xgb_model),\n",
        "    ('hist', hist_model)\n",
        "]\n",
        "\n",
        "# 모든 모델 조합을 탐색하기 위해 itertools 사용\n",
        "best_score = 0\n",
        "best_combination = None\n",
        "\n",
        "# 2개 이상의 모델 조합을 생성하여 테스트\n",
        "for r in range(2, len(model_list) + 1):\n",
        "    for combination in itertools.combinations(model_list, r):\n",
        "        # 리스트 형태로 변환\n",
        "        combination_list = list(combination)\n",
        "\n",
        "        # Voting Classifier 설정 (부스팅 모델만 사용)\n",
        "        soft_voting_model = VotingClassifier(\n",
        "            estimators=combination_list,\n",
        "            voting='soft',\n",
        "            n_jobs=-1\n",
        "        )\n",
        "\n",
        "        # 교차 검증 수행\n",
        "        try:\n",
        "            scores = cross_val_score(soft_voting_model, train_ft, target, cv=cv, scoring=f1_macro, n_jobs=-1)\n",
        "            avg_score = np.mean(scores)\n",
        "\n",
        "            # 최적의 조합 및 점수 업데이트\n",
        "            if avg_score > best_score:\n",
        "                best_score = avg_score\n",
        "                best_combination = combination_list\n",
        "\n",
        "            print(f\"모델 조합: {[name for name, _ in combination_list]}, F1 Macro 평균 점수: {avg_score:.4f}\")\n",
        "        except Exception as e:\n",
        "            print(f\"오류 발생: {e} (모델 조합: {[name for name, _ in combination_list]})\")\n",
        "\n",
        "# 최적의 모델 조합 출력\n",
        "print(\"\\n=== 최적의 모델 조합 ===\")\n",
        "print(f\"모델 조합: {[name for name, _ in best_combination]}\")\n",
        "print(f\"최고 F1 Macro 평균 점수: {best_score:.4f}\")\n"
      ],
      "metadata": {
        "id": "PbBLrutI4qkw"
      },
      "execution_count": null,
      "outputs": []
    },
    {
      "cell_type": "markdown",
      "source": [
        "##### 저장"
      ],
      "metadata": {
        "id": "MPc05XdPINU0"
      }
    },
    {
      "cell_type": "code",
      "source": [
        "# 모델 학습 및 테스트 데이터 예측\n",
        "soft_voting_model.fit(train_ft, target)\n",
        "# preds = soft_voting_model.predict_proba(test_ft)[:, 1]"
      ],
      "metadata": {
        "id": "ERgfPtqGzxiU"
      },
      "execution_count": null,
      "outputs": []
    },
    {
      "cell_type": "code",
      "source": [
        "# 2. 테스트 데이터 예측 (이진 예측값으로 반환)\n",
        "preds = soft_voting_model.predict(test_ft)  # 이진 예측 사용"
      ],
      "metadata": {
        "id": "FljFgJMbKyt8"
      },
      "execution_count": null,
      "outputs": []
    },
    {
      "cell_type": "code",
      "source": [
        "test_ft = pd.read_csv(f\"{DATA_PATH}test_ft2.csv\")\n",
        "# 3. ID 컬럼과 예측값을 DataFrame으로 변환\n",
        "submission = pd.DataFrame({\n",
        "    \"ID\": test_ft[\"ID\"],  # 테스트 데이터에서 ID 컬럼 가져오기\n",
        "    \"target\": preds       # 예측 확률값\n",
        "})\n",
        "\n",
        "# 4. CSV 파일로 저장 (index를 제외하고 저장)\n",
        "submission.to_csv(\"bagging_.csv\", index=False)"
      ],
      "metadata": {
        "id": "bcG5MZ0zJit1"
      },
      "execution_count": null,
      "outputs": []
    },
    {
      "cell_type": "markdown",
      "source": [
        "### 부스팅"
      ],
      "metadata": {
        "id": "Uh8kdOtT8z8m"
      }
    },
    {
      "cell_type": "markdown",
      "source": [
        "# cv 점수 확인하기"
      ],
      "metadata": {
        "id": "G8o1LCF0eOSI"
      }
    },
    {
      "cell_type": "code",
      "source": [
        "# from sklearn.model_selection import KFold, cross_val_score\n",
        "# from lightgbm import LGBMClassifier\n",
        "\n",
        "# cv = KFold(5, random_state=SEED, shuffle=True)\n",
        "# model = LGBMClassifier(random_state=SEED)\n",
        "# scores = cross_val_score(model, train_ft, target, cv=cv, n_jobs=-1, scoring=\"roc_auc\")\n",
        "# scores.mean()"
      ],
      "metadata": {
        "id": "c4XSwhTsbhU3"
      },
      "execution_count": null,
      "outputs": []
    },
    {
      "cell_type": "markdown",
      "source": [
        "# 모델 학습및 테스트 데이터 예측"
      ],
      "metadata": {
        "id": "4H3Voz_4eQPy"
      }
    },
    {
      "cell_type": "code",
      "source": [
        "# model.fit(train_ft, target)"
      ],
      "metadata": {
        "id": "NiNGvH0gcGHl"
      },
      "execution_count": null,
      "outputs": []
    },
    {
      "cell_type": "code",
      "source": [
        "# pred = model.predict_proba(test_ft)[:,1]\n",
        "# pred.shape"
      ],
      "metadata": {
        "id": "u_a9ErAfcGEK"
      },
      "execution_count": null,
      "outputs": []
    },
    {
      "cell_type": "markdown",
      "source": [
        "# 예측 파일 저장후 컴피티션 페이지에 제출"
      ],
      "metadata": {
        "id": "cJ3mmw7FeS6H"
      }
    },
    {
      "cell_type": "code",
      "source": [
        "# pd.DataFrame(pred, columns=[\"target\"]).to_csv(\"신혜빈.csv\")"
      ],
      "metadata": {
        "id": "fvpjKs2abhR5"
      },
      "execution_count": null,
      "outputs": []
    },
    {
      "cell_type": "code",
      "source": [
        "# import numpy as np\n",
        "# import pandas as pd\n",
        "# from sklearn.ensemble import VotingClassifier, BaggingClassifier, ExtraTreesClassifier\n",
        "# from sklearn.model_selection import StratifiedKFold, cross_val_score\n",
        "# from sklearn.metrics import f1_score, make_scorer\n",
        "# from sklearn.linear_model import LogisticRegression\n",
        "# from sklearn.svm import SVC\n",
        "# from sklearn.naive_bayes import GaussianNB\n",
        "# from lightgbm import LGBMClassifier\n",
        "# from xgboost import XGBClassifier\n",
        "# from catboost import CatBoostClassifier\n",
        "# from sklearn.ensemble import HistGradientBoostingClassifier\n",
        "\n",
        "# # 평가 지표로 F1 Macro 스코어 설정\n",
        "# f1_macro = make_scorer(f1_score, average='macro')\n",
        "\n",
        "# # Stratified K-Fold 설정\n",
        "# cv = StratifiedKFold(n_splits=5, shuffle=True, random_state=42)\n",
        "\n",
        "# # === 1. 개별 모델 정의 및 Bagging 적용 ===\n",
        "# # Logistic Regression 모델을 BaggingClassifier로 감싸기\n",
        "# lr_model = BaggingClassifier(\n",
        "#     estimator=LogisticRegression(penalty='l1', solver='liblinear', C=1.36, random_state=42, max_iter=500),\n",
        "#     n_estimators=10,\n",
        "#     random_state=42,\n",
        "#     n_jobs=-1\n",
        "# )\n",
        "\n",
        "# # CatBoostClassifier\n",
        "# cat_model = BaggingClassifier(\n",
        "#     estimator=CatBoostClassifier(class_weights=[1, 1.5], random_state=42, verbose=0),\n",
        "#     n_estimators=10, random_state=42, n_jobs=-1\n",
        "# )\n",
        "\n",
        "# # LightGBM\n",
        "# lgb_model = BaggingClassifier(\n",
        "#     estimator=LGBMClassifier(class_weight='balanced', random_state=42),\n",
        "#     n_estimators=10, random_state=42, n_jobs=-1\n",
        "# )\n",
        "\n",
        "# # XGBoost 모델의 class_weight 계산\n",
        "# scale_pos_weight = train_ft[target == 0].shape[0] / train_ft[target == 1].shape[0]\n",
        "# xgb_model = BaggingClassifier(\n",
        "#     estimator=XGBClassifier(\n",
        "#         learning_rate=0.09, max_depth=5, n_estimators=200,\n",
        "#         subsample=0.9, colsample_bytree=0.675,\n",
        "#         reg_alpha=1.5555, reg_lambda=1.1111,\n",
        "#         scale_pos_weight=scale_pos_weight,\n",
        "#         random_state=42, use_label_encoder=False, eval_metric='logloss'\n",
        "#     ),\n",
        "#     n_estimators=10, random_state=42, n_jobs=-1\n",
        "# )\n",
        "\n",
        "# # HistGradientBoostingClassifier\n",
        "# hist_model = BaggingClassifier(\n",
        "#     estimator=HistGradientBoostingClassifier(random_state=42),\n",
        "#     n_estimators=10, random_state=42, n_jobs=-1\n",
        "# )\n",
        "\n",
        "\n",
        "# # Naive Bayes\n",
        "# nb_model = BaggingClassifier(\n",
        "#     estimator=GaussianNB(),\n",
        "#     n_estimators=10, random_state=42, n_jobs=-1\n",
        "# )\n",
        "\n",
        "# # Extra Trees Classifier\n",
        "# extra_trees_model = BaggingClassifier(\n",
        "#     estimator=ExtraTreesClassifier(n_estimators=100, random_state=42),\n",
        "#     n_estimators=10, random_state=42, n_jobs=-1\n",
        "# )\n",
        "\n",
        "# # === 2. Bagging을 적용한 모델들을 VotingClassifier에 통합 ===\n",
        "# estimators = [\n",
        "#     ('lr', lr_model),\n",
        "#     ('cat', cat_model),\n",
        "#     ('lgb', lgb_model),\n",
        "#     ('xgb', xgb_model),\n",
        "#     ('hist', hist_model),\n",
        "#     ('nb', nb_model),\n",
        "#     ('extra_trees', extra_trees_model)\n",
        "# ]\n",
        "\n",
        "# # 소프트 보팅 앙상블 모델 설정\n",
        "# soft_voting_model = VotingClassifier(\n",
        "#     estimators=estimators,\n",
        "#     voting='soft',\n",
        "#     n_jobs=-1\n",
        "# )\n",
        "\n",
        "# # === 3. 교차 검증을 통한 평가 ===\n",
        "# scores = cross_val_score(soft_voting_model, train_ft, target, cv=cv, scoring=f1_macro, n_jobs=-1)\n",
        "# print(f\"Bagging 기반 VotingClassifier F1 Macro 평균 점수: {np.mean(scores):.4f}\")\n"
      ],
      "metadata": {
        "id": "L_Jy1fWI4LMN"
      },
      "execution_count": null,
      "outputs": []
    }
  ]
}