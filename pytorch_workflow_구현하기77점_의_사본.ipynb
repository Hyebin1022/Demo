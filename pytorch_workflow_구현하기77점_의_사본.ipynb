{
  "cells": [
    {
      "cell_type": "code",
      "source": [
        "import torch\n",
        "import cv2\n",
        "import random\n",
        "import numpy as np\n",
        "import os\n",
        "import torch.nn as nn  # 'nn'이라는 별칭으로 torch.nn 모듈을 가져옴\n",
        "import torch.nn.functional as F  # 필요한 경우 함수형 API 사용\n",
        "from torch.utils.data import Dataset, DataLoader\n",
        "import matplotlib.pyplot as plt\n",
        "from torchvision import transforms\n",
        "from PIL import Image  # OpenCV 대신 PIL로 이미지를 읽고 처리\n",
        "import pandas as pd\n",
        "from tqdm.auto import tqdm"
      ],
      "metadata": {
        "id": "qV0es_84EyUV"
      },
      "execution_count": null,
      "outputs": []
    },
    {
      "cell_type": "markdown",
      "source": [
        "# 평가지표\n",
        "- 정확도\n",
        "- 1~3등 스벅쿠폰"
      ],
      "metadata": {
        "id": "-41jY2d--n9m"
      }
    },
    {
      "cell_type": "markdown",
      "source": [
        "# 데이터셋 다운로드 및 압축 풀기"
      ],
      "metadata": {
        "id": "ZhzdEyv4FB-e"
      }
    },
    {
      "cell_type": "code",
      "source": [
        "!gdown 1Cax_RFJqRkUYlOMyjHc5NGZ_kfd2j2r1\n",
        "!unzip -oqq pizza_steak_sushi.zip"
      ],
      "metadata": {
        "id": "Z_o9qKGBt0AD",
        "colab": {
          "base_uri": "https://localhost:8080/"
        },
        "outputId": "e8f12cb5-16b7-4a7a-c647-63d5c4b66320"
      },
      "execution_count": null,
      "outputs": [
        {
          "output_type": "stream",
          "name": "stdout",
          "text": [
            "Downloading...\n",
            "From (original): https://drive.google.com/uc?id=1Cax_RFJqRkUYlOMyjHc5NGZ_kfd2j2r1\n",
            "From (redirected): https://drive.google.com/uc?id=1Cax_RFJqRkUYlOMyjHc5NGZ_kfd2j2r1&confirm=t&uuid=ce3d3762-569b-483b-8441-5794f4147465\n",
            "To: /content/pizza_steak_sushi.zip\n",
            "100% 158M/158M [00:01<00:00, 132MB/s]\n"
          ]
        }
      ]
    },
    {
      "cell_type": "code",
      "source": [
        "def reset_seeds(seed):\n",
        "    random.seed(seed)\n",
        "    os.environ['PYTHONHASHSEED'] = str(seed)\n",
        "    np.random.seed(seed)\n",
        "    torch.manual_seed(seed)\n",
        "    torch.cuda.manual_seed(seed)\n",
        "    torch.backends.cudnn.deterministic = True"
      ],
      "metadata": {
        "id": "ptGuzaN5uDT7"
      },
      "execution_count": null,
      "outputs": []
    },
    {
      "cell_type": "code",
      "source": [
        "DATA_PATH = \"data/\"\n",
        "SEED = 42\n",
        "\n",
        "device = 'cuda' if torch.cuda.is_available() else 'cpu'\n",
        "device"
      ],
      "metadata": {
        "id": "UAuqPVTGuEow",
        "colab": {
          "base_uri": "https://localhost:8080/",
          "height": 35
        },
        "outputId": "c4b787d6-8ad2-497a-8fbb-f976b7c35856"
      },
      "execution_count": null,
      "outputs": [
        {
          "output_type": "execute_result",
          "data": {
            "text/plain": [
              "'cuda'"
            ],
            "application/vnd.google.colaboratory.intrinsic+json": {
              "type": "string"
            }
          },
          "metadata": {},
          "execution_count": 4
        }
      ]
    },
    {
      "cell_type": "markdown",
      "metadata": {
        "id": "rKQnsDlagA5y"
      },
      "source": [
        "# 음식 분류 데이터셋\n",
        "- 0 : 피자\n",
        "- 1 : 스테이크\n",
        "- 2 : 스시\n"
      ]
    },
    {
      "cell_type": "code",
      "execution_count": null,
      "metadata": {
        "id": "jctKq2rnrIxD",
        "colab": {
          "base_uri": "https://localhost:8080/"
        },
        "outputId": "dd1bc846-3ac1-433f-a380-96abdd969b2a"
      },
      "outputs": [
        {
          "output_type": "execute_result",
          "data": {
            "text/plain": [
              "((1649, 2), (1350, 2))"
            ]
          },
          "metadata": {},
          "execution_count": 5
        }
      ],
      "source": [
        "train = pd.read_csv(\"train.csv\")\n",
        "test = pd.read_csv(\"test.csv\")\n",
        "train.shape , test.shape"
      ]
    },
    {
      "cell_type": "code",
      "source": [
        "train.head()\n",
        "\n",
        "# 데이터 폴더 앞에 있는 거\n",
        "# 그럼 data 를 filename 앞에 놓는다."
      ],
      "metadata": {
        "colab": {
          "base_uri": "https://localhost:8080/",
          "height": 206
        },
        "id": "LIVi059jAMMz",
        "outputId": "d1bab5c7-a2b0-41df-8962-4b5fc662d214"
      },
      "execution_count": null,
      "outputs": [
        {
          "output_type": "execute_result",
          "data": {
            "text/plain": [
              "     file_name  target\n",
              "0  2104569.jpg       0\n",
              "1  2038418.jpg       1\n",
              "2  1919810.jpg       2\n",
              "3  2557340.jpg       0\n",
              "4  3621562.jpg       1"
            ],
            "text/html": [
              "\n",
              "  <div id=\"df-b15e4d5a-696f-4b0c-b157-cf16a2828438\" class=\"colab-df-container\">\n",
              "    <div>\n",
              "<style scoped>\n",
              "    .dataframe tbody tr th:only-of-type {\n",
              "        vertical-align: middle;\n",
              "    }\n",
              "\n",
              "    .dataframe tbody tr th {\n",
              "        vertical-align: top;\n",
              "    }\n",
              "\n",
              "    .dataframe thead th {\n",
              "        text-align: right;\n",
              "    }\n",
              "</style>\n",
              "<table border=\"1\" class=\"dataframe\">\n",
              "  <thead>\n",
              "    <tr style=\"text-align: right;\">\n",
              "      <th></th>\n",
              "      <th>file_name</th>\n",
              "      <th>target</th>\n",
              "    </tr>\n",
              "  </thead>\n",
              "  <tbody>\n",
              "    <tr>\n",
              "      <th>0</th>\n",
              "      <td>2104569.jpg</td>\n",
              "      <td>0</td>\n",
              "    </tr>\n",
              "    <tr>\n",
              "      <th>1</th>\n",
              "      <td>2038418.jpg</td>\n",
              "      <td>1</td>\n",
              "    </tr>\n",
              "    <tr>\n",
              "      <th>2</th>\n",
              "      <td>1919810.jpg</td>\n",
              "      <td>2</td>\n",
              "    </tr>\n",
              "    <tr>\n",
              "      <th>3</th>\n",
              "      <td>2557340.jpg</td>\n",
              "      <td>0</td>\n",
              "    </tr>\n",
              "    <tr>\n",
              "      <th>4</th>\n",
              "      <td>3621562.jpg</td>\n",
              "      <td>1</td>\n",
              "    </tr>\n",
              "  </tbody>\n",
              "</table>\n",
              "</div>\n",
              "    <div class=\"colab-df-buttons\">\n",
              "\n",
              "  <div class=\"colab-df-container\">\n",
              "    <button class=\"colab-df-convert\" onclick=\"convertToInteractive('df-b15e4d5a-696f-4b0c-b157-cf16a2828438')\"\n",
              "            title=\"Convert this dataframe to an interactive table.\"\n",
              "            style=\"display:none;\">\n",
              "\n",
              "  <svg xmlns=\"http://www.w3.org/2000/svg\" height=\"24px\" viewBox=\"0 -960 960 960\">\n",
              "    <path d=\"M120-120v-720h720v720H120Zm60-500h600v-160H180v160Zm220 220h160v-160H400v160Zm0 220h160v-160H400v160ZM180-400h160v-160H180v160Zm440 0h160v-160H620v160ZM180-180h160v-160H180v160Zm440 0h160v-160H620v160Z\"/>\n",
              "  </svg>\n",
              "    </button>\n",
              "\n",
              "  <style>\n",
              "    .colab-df-container {\n",
              "      display:flex;\n",
              "      gap: 12px;\n",
              "    }\n",
              "\n",
              "    .colab-df-convert {\n",
              "      background-color: #E8F0FE;\n",
              "      border: none;\n",
              "      border-radius: 50%;\n",
              "      cursor: pointer;\n",
              "      display: none;\n",
              "      fill: #1967D2;\n",
              "      height: 32px;\n",
              "      padding: 0 0 0 0;\n",
              "      width: 32px;\n",
              "    }\n",
              "\n",
              "    .colab-df-convert:hover {\n",
              "      background-color: #E2EBFA;\n",
              "      box-shadow: 0px 1px 2px rgba(60, 64, 67, 0.3), 0px 1px 3px 1px rgba(60, 64, 67, 0.15);\n",
              "      fill: #174EA6;\n",
              "    }\n",
              "\n",
              "    .colab-df-buttons div {\n",
              "      margin-bottom: 4px;\n",
              "    }\n",
              "\n",
              "    [theme=dark] .colab-df-convert {\n",
              "      background-color: #3B4455;\n",
              "      fill: #D2E3FC;\n",
              "    }\n",
              "\n",
              "    [theme=dark] .colab-df-convert:hover {\n",
              "      background-color: #434B5C;\n",
              "      box-shadow: 0px 1px 3px 1px rgba(0, 0, 0, 0.15);\n",
              "      filter: drop-shadow(0px 1px 2px rgba(0, 0, 0, 0.3));\n",
              "      fill: #FFFFFF;\n",
              "    }\n",
              "  </style>\n",
              "\n",
              "    <script>\n",
              "      const buttonEl =\n",
              "        document.querySelector('#df-b15e4d5a-696f-4b0c-b157-cf16a2828438 button.colab-df-convert');\n",
              "      buttonEl.style.display =\n",
              "        google.colab.kernel.accessAllowed ? 'block' : 'none';\n",
              "\n",
              "      async function convertToInteractive(key) {\n",
              "        const element = document.querySelector('#df-b15e4d5a-696f-4b0c-b157-cf16a2828438');\n",
              "        const dataTable =\n",
              "          await google.colab.kernel.invokeFunction('convertToInteractive',\n",
              "                                                    [key], {});\n",
              "        if (!dataTable) return;\n",
              "\n",
              "        const docLinkHtml = 'Like what you see? Visit the ' +\n",
              "          '<a target=\"_blank\" href=https://colab.research.google.com/notebooks/data_table.ipynb>data table notebook</a>'\n",
              "          + ' to learn more about interactive tables.';\n",
              "        element.innerHTML = '';\n",
              "        dataTable['output_type'] = 'display_data';\n",
              "        await google.colab.output.renderOutput(dataTable, element);\n",
              "        const docLink = document.createElement('div');\n",
              "        docLink.innerHTML = docLinkHtml;\n",
              "        element.appendChild(docLink);\n",
              "      }\n",
              "    </script>\n",
              "  </div>\n",
              "\n",
              "\n",
              "<div id=\"df-b23581c5-3e9d-4969-959b-d23e71cfcafa\">\n",
              "  <button class=\"colab-df-quickchart\" onclick=\"quickchart('df-b23581c5-3e9d-4969-959b-d23e71cfcafa')\"\n",
              "            title=\"Suggest charts\"\n",
              "            style=\"display:none;\">\n",
              "\n",
              "<svg xmlns=\"http://www.w3.org/2000/svg\" height=\"24px\"viewBox=\"0 0 24 24\"\n",
              "     width=\"24px\">\n",
              "    <g>\n",
              "        <path d=\"M19 3H5c-1.1 0-2 .9-2 2v14c0 1.1.9 2 2 2h14c1.1 0 2-.9 2-2V5c0-1.1-.9-2-2-2zM9 17H7v-7h2v7zm4 0h-2V7h2v10zm4 0h-2v-4h2v4z\"/>\n",
              "    </g>\n",
              "</svg>\n",
              "  </button>\n",
              "\n",
              "<style>\n",
              "  .colab-df-quickchart {\n",
              "      --bg-color: #E8F0FE;\n",
              "      --fill-color: #1967D2;\n",
              "      --hover-bg-color: #E2EBFA;\n",
              "      --hover-fill-color: #174EA6;\n",
              "      --disabled-fill-color: #AAA;\n",
              "      --disabled-bg-color: #DDD;\n",
              "  }\n",
              "\n",
              "  [theme=dark] .colab-df-quickchart {\n",
              "      --bg-color: #3B4455;\n",
              "      --fill-color: #D2E3FC;\n",
              "      --hover-bg-color: #434B5C;\n",
              "      --hover-fill-color: #FFFFFF;\n",
              "      --disabled-bg-color: #3B4455;\n",
              "      --disabled-fill-color: #666;\n",
              "  }\n",
              "\n",
              "  .colab-df-quickchart {\n",
              "    background-color: var(--bg-color);\n",
              "    border: none;\n",
              "    border-radius: 50%;\n",
              "    cursor: pointer;\n",
              "    display: none;\n",
              "    fill: var(--fill-color);\n",
              "    height: 32px;\n",
              "    padding: 0;\n",
              "    width: 32px;\n",
              "  }\n",
              "\n",
              "  .colab-df-quickchart:hover {\n",
              "    background-color: var(--hover-bg-color);\n",
              "    box-shadow: 0 1px 2px rgba(60, 64, 67, 0.3), 0 1px 3px 1px rgba(60, 64, 67, 0.15);\n",
              "    fill: var(--button-hover-fill-color);\n",
              "  }\n",
              "\n",
              "  .colab-df-quickchart-complete:disabled,\n",
              "  .colab-df-quickchart-complete:disabled:hover {\n",
              "    background-color: var(--disabled-bg-color);\n",
              "    fill: var(--disabled-fill-color);\n",
              "    box-shadow: none;\n",
              "  }\n",
              "\n",
              "  .colab-df-spinner {\n",
              "    border: 2px solid var(--fill-color);\n",
              "    border-color: transparent;\n",
              "    border-bottom-color: var(--fill-color);\n",
              "    animation:\n",
              "      spin 1s steps(1) infinite;\n",
              "  }\n",
              "\n",
              "  @keyframes spin {\n",
              "    0% {\n",
              "      border-color: transparent;\n",
              "      border-bottom-color: var(--fill-color);\n",
              "      border-left-color: var(--fill-color);\n",
              "    }\n",
              "    20% {\n",
              "      border-color: transparent;\n",
              "      border-left-color: var(--fill-color);\n",
              "      border-top-color: var(--fill-color);\n",
              "    }\n",
              "    30% {\n",
              "      border-color: transparent;\n",
              "      border-left-color: var(--fill-color);\n",
              "      border-top-color: var(--fill-color);\n",
              "      border-right-color: var(--fill-color);\n",
              "    }\n",
              "    40% {\n",
              "      border-color: transparent;\n",
              "      border-right-color: var(--fill-color);\n",
              "      border-top-color: var(--fill-color);\n",
              "    }\n",
              "    60% {\n",
              "      border-color: transparent;\n",
              "      border-right-color: var(--fill-color);\n",
              "    }\n",
              "    80% {\n",
              "      border-color: transparent;\n",
              "      border-right-color: var(--fill-color);\n",
              "      border-bottom-color: var(--fill-color);\n",
              "    }\n",
              "    90% {\n",
              "      border-color: transparent;\n",
              "      border-bottom-color: var(--fill-color);\n",
              "    }\n",
              "  }\n",
              "</style>\n",
              "\n",
              "  <script>\n",
              "    async function quickchart(key) {\n",
              "      const quickchartButtonEl =\n",
              "        document.querySelector('#' + key + ' button');\n",
              "      quickchartButtonEl.disabled = true;  // To prevent multiple clicks.\n",
              "      quickchartButtonEl.classList.add('colab-df-spinner');\n",
              "      try {\n",
              "        const charts = await google.colab.kernel.invokeFunction(\n",
              "            'suggestCharts', [key], {});\n",
              "      } catch (error) {\n",
              "        console.error('Error during call to suggestCharts:', error);\n",
              "      }\n",
              "      quickchartButtonEl.classList.remove('colab-df-spinner');\n",
              "      quickchartButtonEl.classList.add('colab-df-quickchart-complete');\n",
              "    }\n",
              "    (() => {\n",
              "      let quickchartButtonEl =\n",
              "        document.querySelector('#df-b23581c5-3e9d-4969-959b-d23e71cfcafa button');\n",
              "      quickchartButtonEl.style.display =\n",
              "        google.colab.kernel.accessAllowed ? 'block' : 'none';\n",
              "    })();\n",
              "  </script>\n",
              "</div>\n",
              "\n",
              "    </div>\n",
              "  </div>\n"
            ],
            "application/vnd.google.colaboratory.intrinsic+json": {
              "type": "dataframe",
              "summary": "{\n  \"name\": \"# \\uadf8\\ub7fc data \\ub97c filename \\uc55e\\uc5d0 \\ub193\\ub294\\ub2e4\",\n  \"rows\": 5,\n  \"fields\": [\n    {\n      \"column\": \"file_name\",\n      \"properties\": {\n        \"dtype\": \"string\",\n        \"num_unique_values\": 5,\n        \"samples\": [\n          \"2038418.jpg\",\n          \"3621562.jpg\",\n          \"1919810.jpg\"\n        ],\n        \"semantic_type\": \"\",\n        \"description\": \"\"\n      }\n    },\n    {\n      \"column\": \"target\",\n      \"properties\": {\n        \"dtype\": \"number\",\n        \"std\": 0,\n        \"min\": 0,\n        \"max\": 2,\n        \"num_unique_values\": 3,\n        \"samples\": [\n          0,\n          1,\n          2\n        ],\n        \"semantic_type\": \"\",\n        \"description\": \"\"\n      }\n    }\n  ]\n}"
            }
          },
          "metadata": {},
          "execution_count": 6
        }
      ]
    },
    {
      "cell_type": "code",
      "source": [
        "train_path = (DATA_PATH + train['file_name']).to_numpy()\n",
        "test_path = (DATA_PATH+test['file_name']).to_numpy()\n",
        "target = (train['target']).to_numpy()"
      ],
      "metadata": {
        "id": "O1X93ZWkKP8b"
      },
      "execution_count": null,
      "outputs": []
    },
    {
      "cell_type": "code",
      "source": [
        "len(train_path)"
      ],
      "metadata": {
        "colab": {
          "base_uri": "https://localhost:8080/"
        },
        "id": "zrD58g48bxk9",
        "outputId": "a65e3da9-94b6-4e56-b0fc-cc6612429f8b"
      },
      "execution_count": null,
      "outputs": [
        {
          "output_type": "execute_result",
          "data": {
            "text/plain": [
              "1649"
            ]
          },
          "metadata": {},
          "execution_count": 8
        }
      ]
    },
    {
      "cell_type": "markdown",
      "metadata": {
        "id": "nPpndZeqB0e4"
      },
      "source": [
        "# 1. 데이터셋 클래스 만들기\n"
      ]
    },
    {
      "cell_type": "code",
      "source": [
        "import torchvision.transforms as transforms\n",
        "from PIL import Image\n",
        "\n",
        "class FoodDataset(Dataset):\n",
        "    def __init__(self, image_paths, labels=None, resize=(224, 224), augment=False):\n",
        "        self.image_paths = image_paths\n",
        "        self.labels = labels\n",
        "        self.resize = resize\n",
        "        self.augment = augment\n",
        "\n",
        "        # Transform 정의\n",
        "        self.transform = transforms.Compose([\n",
        "            transforms.Resize(self.resize),\n",
        "            transforms.RandomHorizontalFlip(p=0.5) if self.augment else transforms.Lambda(lambda x: x),\n",
        "            transforms.RandomRotation(15) if self.augment else transforms.Lambda(lambda x: x),\n",
        "            transforms.ToTensor(),\n",
        "            transforms.Normalize(mean=[0.485, 0.456, 0.406], std=[0.229, 0.224, 0.225]),\n",
        "        ])\n",
        "\n",
        "    def __len__(self):\n",
        "        return len(self.image_paths)\n",
        "\n",
        "    def __getitem__(self, idx):\n",
        "        img_path = self.image_paths[idx]\n",
        "        try:\n",
        "            img = Image.open(img_path).convert(\"RGB\")\n",
        "        except Exception as e:\n",
        "            print(f\"Error loading image {img_path}: {e}\")\n",
        "            return None  # 또는 대체 데이터 반환\n",
        "\n",
        "        img = self.transform(img)\n",
        "\n",
        "        if self.labels is not None:\n",
        "            label = self.labels[idx]\n",
        "            return {\"x\": img, \"y\": torch.tensor(label, dtype=torch.long)}\n",
        "        return {\"x\": img}\n"
      ],
      "metadata": {
        "id": "JcxrqfAgkn9i"
      },
      "execution_count": null,
      "outputs": []
    },
    {
      "cell_type": "code",
      "source": [
        "import torch\n",
        "import torch.nn as nn\n",
        "\n",
        "class ImprovedFoodClassifier(nn.Module):\n",
        "    def __init__(self, num_classes=3):\n",
        "        super(ImprovedFoodClassifier, self).__init__()\n",
        "\n",
        "        # Convolutional layers with BatchNorm and Dropout\n",
        "        self.conv_layers = nn.Sequential(\n",
        "            nn.Conv2d(3, 32, kernel_size=3, stride=1, padding=1),  # Conv1\n",
        "            nn.BatchNorm2d(32),  # BatchNorm1\n",
        "            nn.LeakyReLU(),\n",
        "            nn.MaxPool2d(kernel_size=2, stride=2),  # Pool1\n",
        "            nn.Conv2d(32, 64, kernel_size=3, stride=1, padding=1),  # Conv2\n",
        "            nn.BatchNorm2d(64),  # BatchNorm2\n",
        "            nn.LeakyReLU(),\n",
        "            nn.MaxPool2d(kernel_size=2, stride=2),  # Pool2\n",
        "            nn.Conv2d(64, 128, kernel_size=3, stride=1, padding=1),  # Conv3\n",
        "            nn.BatchNorm2d(128),  # BatchNorm3\n",
        "            nn.LeakyReLU(),\n",
        "            nn.MaxPool2d(kernel_size=2, stride=2),  # Pool3\n",
        "            nn.Conv2d(128, 256, kernel_size=3, stride=1, padding=1),  # Conv4\n",
        "            nn.BatchNorm2d(256),  # BatchNorm4\n",
        "            nn.LeakyReLU(),\n",
        "            nn.MaxPool2d(kernel_size=2, stride=2),  # Pool4\n",
        "        )\n",
        "\n",
        "        # Global Average Pooling (GAP) for dynamic input size handling\n",
        "        self.global_avg_pool = nn.AdaptiveAvgPool2d((1, 1))\n",
        "\n",
        "        # Fully Connected layers\n",
        "        self.fc_layers = nn.Sequential(\n",
        "            nn.Flatten(),\n",
        "            nn.Linear(256, 128),  # Fully Connected 1\n",
        "            nn.LeakyReLU(),\n",
        "            nn.Dropout(0.5),  # Dropout for regularization\n",
        "            nn.Linear(128, num_classes),  # Fully Connected 2 (Output)\n",
        "        )\n",
        "\n",
        "    def forward(self, x):\n",
        "        x = self.conv_layers(x)  # Pass through convolutional layers\n",
        "        x = self.global_avg_pool(x)  # Apply Global Average Pooling\n",
        "        x = self.fc_layers(x)  # Pass through fully connected layers\n",
        "        return x\n"
      ],
      "metadata": {
        "id": "T6nb-2tck0uL"
      },
      "execution_count": null,
      "outputs": []
    },
    {
      "cell_type": "markdown",
      "source": [
        "# 2. 학습 loop 함수 만들기"
      ],
      "metadata": {
        "id": "yVPndBqJzWrq"
      }
    },
    {
      "cell_type": "code",
      "source": [
        "def train_loop(dl, model, loss_fn, optimizer, device):\n",
        "    epoch_loss = 0\n",
        "    model.train()  # 모델을 학습 모드로 설정\n",
        "    for batch in dl:\n",
        "        # 입력 데이터와 레이블을 디바이스로 이동\n",
        "        x = batch[\"x\"].to(device)\n",
        "        y = batch[\"y\"].to(device)\n",
        "\n",
        "        # 모델 예측\n",
        "        pred = model(x)\n",
        "\n",
        "        # 손실 계산\n",
        "        loss = loss_fn(pred, y)\n",
        "\n",
        "        # 역전파 및 최적화\n",
        "        optimizer.zero_grad()\n",
        "        loss.backward()\n",
        "        optimizer.step()\n",
        "\n",
        "        # 손실 누적\n",
        "        epoch_loss += loss.item()\n",
        "\n",
        "    # 평균 손실 반환\n",
        "    epoch_loss /= len(dl)\n",
        "    return epoch_loss"
      ],
      "metadata": {
        "id": "lBGHoFrIlEMR"
      },
      "execution_count": null,
      "outputs": []
    },
    {
      "cell_type": "markdown",
      "source": [
        "# 3. 테스트 loop 함수 만들기\n",
        "- 데이터 예측 기능 및 검증데이터 손실값 반환하는 기능"
      ],
      "metadata": {
        "id": "a5QXfI4CzbR2"
      }
    },
    {
      "cell_type": "code",
      "source": [
        "@torch.no_grad()\n",
        "def test_loop(dl, model, loss_fn, device):\n",
        "    epoch_loss = 0\n",
        "    model.eval()  # 모델을 평가 모드로 설정\n",
        "    pred_list = []\n",
        "\n",
        "    for batch in dl:\n",
        "        # 입력 데이터를 디바이스로 이동\n",
        "        x = batch[\"x\"].to(device)\n",
        "        y = batch[\"y\"].to(device) if \"y\" in batch else None\n",
        "\n",
        "        # 모델 예측\n",
        "        pred = model(x)\n",
        "\n",
        "        # 손실 계산 (레이블이 제공된 경우)\n",
        "        if y is not None:\n",
        "            loss = loss_fn(pred, y)\n",
        "            epoch_loss += loss.item()\n",
        "\n",
        "        # 확률 값으로 변환 (Softmax)\n",
        "        pred = torch.softmax(pred, dim=1)\n",
        "        pred_list.append(pred.cpu().numpy())\n",
        "\n",
        "    # 예측 결과와 평균 손실 반환\n",
        "    pred = np.concatenate(pred_list)\n",
        "    epoch_loss /= len(dl)\n",
        "    return epoch_loss, pred"
      ],
      "metadata": {
        "id": "sHCHL3F4lONY"
      },
      "execution_count": null,
      "outputs": []
    },
    {
      "cell_type": "markdown",
      "source": [
        "# 4. 학습하기\n"
      ],
      "metadata": {
        "id": "d17zL790zwkg"
      }
    },
    {
      "cell_type": "code",
      "source": [
        "from sklearn.model_selection import KFold\n",
        "from sklearn.metrics import accuracy_score\n",
        "import torch\n",
        "import numpy as np\n",
        "\n",
        "# 하이퍼파라미터\n",
        "n_splits = 5\n",
        "batch_size = 32\n",
        "epochs = 100\n",
        "loss_fn = torch.nn.CrossEntropyLoss()  # 다중 클래스 손실 함수\n",
        "cv = KFold(n_splits=n_splits, shuffle=True, random_state=SEED)\n",
        "\n",
        "reset_seeds(SEED)  # 시드 고정\n",
        "score_list = []\n",
        "\n",
        "for i, (tri, vai) in enumerate(cv.split(train_path)):\n",
        "    # 모델 초기화\n",
        "    model = ImprovedFoodClassifier(num_classes=3).to(device)  # 다중 클래스 모델\n",
        "    optimizer = torch.optim.Adam(model.parameters(), lr=0.001)\n",
        "\n",
        "    # 데이터셋 및 데이터로더 생성\n",
        "    train_dt = FoodDataset(train_path[tri], target[tri])\n",
        "    train_dl = torch.utils.data.DataLoader(train_dt, shuffle=True, batch_size=batch_size)\n",
        "\n",
        "    valid_dt = FoodDataset(train_path[vai], target[vai])\n",
        "    valid_dl = torch.utils.data.DataLoader(valid_dt, shuffle=False, batch_size=batch_size)\n",
        "\n",
        "    best_score = 0\n",
        "    patience = 0\n",
        "\n",
        "    for epoch in range(epochs):\n",
        "        # 학습 루프\n",
        "        train_loss = train_loop(train_dl, model, loss_fn, optimizer, device)\n",
        "\n",
        "        # 검증 루프\n",
        "        valid_loss, pred = test_loop(valid_dl, model, loss_fn, device)\n",
        "\n",
        "        # 다중 클래스 예측 (argmax로 클래스 선택)\n",
        "        pred_classes = pred.argmax(axis=1)\n",
        "\n",
        "        # 정확도 계산\n",
        "        score = accuracy_score(target[vai], pred_classes)\n",
        "\n",
        "        print(f\"Epoch {epoch + 1}, Train Loss: {train_loss:.4f}, Valid Loss: {valid_loss:.4f}, Accuracy: {score:.4f}\")\n",
        "\n",
        "        # Early Stopping 체크\n",
        "        patience += 1\n",
        "        if score > best_score:\n",
        "            patience = 0\n",
        "            best_score = score\n",
        "            torch.save(model.state_dict(), f\"model_fold_{i}.pt\")  # 최적 모델 저장\n",
        "\n",
        "        if patience == 5:  # Early Stopping\n",
        "            break\n",
        "\n",
        "    print(f\"Fold-{i}: Best Accuracy: {best_score:.4f}\")\n",
        "    score_list.append(best_score)\n",
        "\n",
        "print(f\"Cross-Validation Average Accuracy: {np.mean(score_list):.4f}\")\n"
      ],
      "metadata": {
        "colab": {
          "base_uri": "https://localhost:8080/"
        },
        "collapsed": true,
        "id": "7CBXQSlzleCP",
        "outputId": "6283236b-58cc-4cf2-e956-fbef4eea2459"
      },
      "execution_count": null,
      "outputs": [
        {
          "output_type": "stream",
          "name": "stdout",
          "text": [
            "Epoch 1, Train Loss: 0.9456, Valid Loss: 1.2987, Accuracy: 0.4030\n",
            "Epoch 2, Train Loss: 0.8273, Valid Loss: 1.7076, Accuracy: 0.3788\n",
            "Epoch 3, Train Loss: 0.7791, Valid Loss: 1.0169, Accuracy: 0.5424\n",
            "Epoch 4, Train Loss: 0.7209, Valid Loss: 0.8062, Accuracy: 0.6242\n",
            "Epoch 5, Train Loss: 0.6571, Valid Loss: 0.9737, Accuracy: 0.6515\n",
            "Epoch 6, Train Loss: 0.6653, Valid Loss: 0.9197, Accuracy: 0.5788\n",
            "Epoch 7, Train Loss: 0.6160, Valid Loss: 0.6890, Accuracy: 0.7182\n",
            "Epoch 8, Train Loss: 0.6006, Valid Loss: 0.9654, Accuracy: 0.6848\n",
            "Epoch 9, Train Loss: 0.5715, Valid Loss: 0.6154, Accuracy: 0.7455\n",
            "Epoch 10, Train Loss: 0.5595, Valid Loss: 0.6711, Accuracy: 0.7182\n",
            "Epoch 11, Train Loss: 0.5111, Valid Loss: 0.6985, Accuracy: 0.7121\n",
            "Epoch 12, Train Loss: 0.5457, Valid Loss: 0.6675, Accuracy: 0.7030\n",
            "Epoch 13, Train Loss: 0.5258, Valid Loss: 1.3477, Accuracy: 0.5091\n",
            "Epoch 14, Train Loss: 0.4820, Valid Loss: 0.8606, Accuracy: 0.7000\n",
            "Fold-0: Best Accuracy: 0.7455\n",
            "Epoch 1, Train Loss: 0.9615, Valid Loss: 0.8324, Accuracy: 0.6121\n",
            "Epoch 2, Train Loss: 0.8766, Valid Loss: 0.9484, Accuracy: 0.5758\n",
            "Epoch 3, Train Loss: 0.7935, Valid Loss: 0.6840, Accuracy: 0.7061\n",
            "Epoch 4, Train Loss: 0.7268, Valid Loss: 0.7358, Accuracy: 0.6576\n",
            "Epoch 5, Train Loss: 0.7023, Valid Loss: 0.5984, Accuracy: 0.7485\n",
            "Epoch 6, Train Loss: 0.6568, Valid Loss: 0.6258, Accuracy: 0.7212\n",
            "Epoch 7, Train Loss: 0.6444, Valid Loss: 0.7534, Accuracy: 0.6364\n",
            "Epoch 8, Train Loss: 0.6055, Valid Loss: 0.5110, Accuracy: 0.7697\n",
            "Epoch 9, Train Loss: 0.5936, Valid Loss: 0.5613, Accuracy: 0.7242\n",
            "Epoch 10, Train Loss: 0.5564, Valid Loss: 0.5252, Accuracy: 0.7970\n",
            "Epoch 11, Train Loss: 0.5560, Valid Loss: 1.2744, Accuracy: 0.5970\n",
            "Epoch 12, Train Loss: 0.5237, Valid Loss: 0.6194, Accuracy: 0.7424\n",
            "Epoch 13, Train Loss: 0.5378, Valid Loss: 0.7223, Accuracy: 0.7030\n",
            "Epoch 14, Train Loss: 0.4696, Valid Loss: 1.5057, Accuracy: 0.5455\n",
            "Epoch 15, Train Loss: 0.4954, Valid Loss: 0.5297, Accuracy: 0.7788\n",
            "Fold-1: Best Accuracy: 0.7970\n",
            "Epoch 1, Train Loss: 0.9685, Valid Loss: 1.0012, Accuracy: 0.5455\n",
            "Epoch 2, Train Loss: 0.8695, Valid Loss: 0.9258, Accuracy: 0.5273\n",
            "Epoch 3, Train Loss: 0.8260, Valid Loss: 1.0170, Accuracy: 0.5364\n",
            "Epoch 4, Train Loss: 0.7516, Valid Loss: 1.1209, Accuracy: 0.5394\n",
            "Epoch 5, Train Loss: 0.7329, Valid Loss: 0.9899, Accuracy: 0.5576\n",
            "Epoch 6, Train Loss: 0.6606, Valid Loss: 0.8171, Accuracy: 0.6303\n",
            "Epoch 7, Train Loss: 0.6465, Valid Loss: 0.7020, Accuracy: 0.6970\n",
            "Epoch 8, Train Loss: 0.6096, Valid Loss: 0.6236, Accuracy: 0.7636\n",
            "Epoch 9, Train Loss: 0.5978, Valid Loss: 0.6441, Accuracy: 0.7818\n",
            "Epoch 10, Train Loss: 0.5460, Valid Loss: 0.6590, Accuracy: 0.7424\n",
            "Epoch 11, Train Loss: 0.5590, Valid Loss: 0.7676, Accuracy: 0.7061\n",
            "Epoch 12, Train Loss: 0.5289, Valid Loss: 0.8386, Accuracy: 0.6636\n",
            "Epoch 13, Train Loss: 0.4953, Valid Loss: 0.8477, Accuracy: 0.6667\n",
            "Epoch 14, Train Loss: 0.4726, Valid Loss: 0.5516, Accuracy: 0.8000\n",
            "Epoch 15, Train Loss: 0.5239, Valid Loss: 0.6960, Accuracy: 0.7394\n",
            "Epoch 16, Train Loss: 0.4833, Valid Loss: 0.5586, Accuracy: 0.7970\n",
            "Epoch 17, Train Loss: 0.5033, Valid Loss: 0.5841, Accuracy: 0.8000\n",
            "Epoch 18, Train Loss: 0.4717, Valid Loss: 0.6075, Accuracy: 0.7697\n",
            "Epoch 19, Train Loss: 0.4702, Valid Loss: 0.9141, Accuracy: 0.6576\n",
            "Fold-2: Best Accuracy: 0.8000\n",
            "Epoch 1, Train Loss: 0.9590, Valid Loss: 0.9037, Accuracy: 0.5818\n",
            "Epoch 2, Train Loss: 0.8830, Valid Loss: 1.1039, Accuracy: 0.4939\n",
            "Epoch 3, Train Loss: 0.8323, Valid Loss: 0.9009, Accuracy: 0.5576\n",
            "Epoch 4, Train Loss: 0.7708, Valid Loss: 1.8461, Accuracy: 0.5000\n",
            "Epoch 5, Train Loss: 0.8282, Valid Loss: 1.0380, Accuracy: 0.5515\n",
            "Epoch 6, Train Loss: 0.7224, Valid Loss: 0.6939, Accuracy: 0.7061\n",
            "Epoch 7, Train Loss: 0.7081, Valid Loss: 1.0649, Accuracy: 0.5727\n",
            "Epoch 8, Train Loss: 0.6808, Valid Loss: 0.6020, Accuracy: 0.7788\n",
            "Epoch 9, Train Loss: 0.6155, Valid Loss: 0.9319, Accuracy: 0.6061\n",
            "Epoch 10, Train Loss: 0.6178, Valid Loss: 0.5931, Accuracy: 0.7848\n",
            "Epoch 11, Train Loss: 0.5800, Valid Loss: 1.0167, Accuracy: 0.6182\n",
            "Epoch 12, Train Loss: 0.6005, Valid Loss: 0.6108, Accuracy: 0.7576\n",
            "Epoch 13, Train Loss: 0.5507, Valid Loss: 1.8282, Accuracy: 0.4061\n",
            "Epoch 14, Train Loss: 0.5716, Valid Loss: 0.7544, Accuracy: 0.6697\n",
            "Epoch 15, Train Loss: 0.5290, Valid Loss: 0.6460, Accuracy: 0.7424\n",
            "Fold-3: Best Accuracy: 0.7848\n",
            "Epoch 1, Train Loss: 0.9464, Valid Loss: 1.0386, Accuracy: 0.5015\n",
            "Epoch 2, Train Loss: 0.8506, Valid Loss: 0.7610, Accuracy: 0.6748\n",
            "Epoch 3, Train Loss: 0.7941, Valid Loss: 1.0740, Accuracy: 0.5714\n",
            "Epoch 4, Train Loss: 0.7381, Valid Loss: 0.6587, Accuracy: 0.7082\n",
            "Epoch 5, Train Loss: 0.7053, Valid Loss: 1.1525, Accuracy: 0.5623\n",
            "Epoch 6, Train Loss: 0.6847, Valid Loss: 0.7073, Accuracy: 0.6687\n",
            "Epoch 7, Train Loss: 0.6160, Valid Loss: 0.5391, Accuracy: 0.7933\n",
            "Epoch 8, Train Loss: 0.6328, Valid Loss: 0.8018, Accuracy: 0.7143\n",
            "Epoch 9, Train Loss: 0.6112, Valid Loss: 1.0480, Accuracy: 0.6201\n",
            "Epoch 10, Train Loss: 0.5761, Valid Loss: 0.5208, Accuracy: 0.8055\n",
            "Epoch 11, Train Loss: 0.5652, Valid Loss: 0.5993, Accuracy: 0.7416\n",
            "Epoch 12, Train Loss: 0.5490, Valid Loss: 0.5538, Accuracy: 0.7751\n",
            "Epoch 13, Train Loss: 0.5221, Valid Loss: 0.7010, Accuracy: 0.7325\n",
            "Epoch 14, Train Loss: 0.5166, Valid Loss: 0.9113, Accuracy: 0.6444\n",
            "Epoch 15, Train Loss: 0.5462, Valid Loss: 0.6407, Accuracy: 0.7295\n",
            "Fold-4: Best Accuracy: 0.8055\n",
            "Cross-Validation Average Accuracy: 0.7865\n"
          ]
        }
      ]
    },
    {
      "cell_type": "markdown",
      "source": [
        "# 5. 테스트 데이터 예측"
      ],
      "metadata": {
        "id": "4Tubiiwgz32Q"
      }
    },
    {
      "cell_type": "code",
      "source": [
        "# 테스트 데이터셋 생성\n",
        "test_dt = FoodDataset(test_path)  # 레이블 없이 생성\n",
        "test_dl = DataLoader(test_dt, batch_size=32, shuffle=False)"
      ],
      "metadata": {
        "id": "7alV-2hZt606"
      },
      "execution_count": null,
      "outputs": []
    },
    {
      "cell_type": "code",
      "source": [
        "# 가장 높은 점수를 기록한 Fold-1 모델 로드\n",
        "model = ImprovedFoodClassifier(num_classes=3).to(device)\n",
        "model.load_state_dict(torch.load(\"model_fold_4.pt\"))\n",
        "model.eval()  # 평가 모드로 설정\n",
        "\n",
        "# 테스트 데이터 예측\n",
        "predictions = []\n",
        "with torch.no_grad():\n",
        "    for batch in test_dl:\n",
        "        x = batch[\"x\"].to(device)\n",
        "        outputs = model(x)\n",
        "        preds = torch.argmax(torch.softmax(outputs, dim=1), dim=1)  # 클래스 인덱스 예측\n",
        "        predictions.extend(preds.cpu().numpy())  # numpy 배열로 변환하여 저장\n",
        "\n",
        "# 예측 결과를 DataFrame으로 변환\n",
        "submission = pd.DataFrame({\n",
        "    \"file_name\": test[\"file_name\"],  # 테스트 데이터 파일 이름\n",
        "    \"target\": predictions            # 예측된 클래스\n",
        "})\n",
        "\n",
        "# CSV 파일 저장\n",
        "submission.to_csv(\"test2.csv\", index=False)\n",
        "print(\"예측 결과가 submission.csv로 저장되었습니다!\")"
      ],
      "metadata": {
        "colab": {
          "base_uri": "https://localhost:8080/"
        },
        "id": "cbJVsnU4ttvL",
        "outputId": "e5f6e527-015e-4ec7-f101-ad35904a9d95"
      },
      "execution_count": null,
      "outputs": [
        {
          "output_type": "stream",
          "name": "stderr",
          "text": [
            "<ipython-input-17-3e80427f12dc>:3: FutureWarning: You are using `torch.load` with `weights_only=False` (the current default value), which uses the default pickle module implicitly. It is possible to construct malicious pickle data which will execute arbitrary code during unpickling (See https://github.com/pytorch/pytorch/blob/main/SECURITY.md#untrusted-models for more details). In a future release, the default value for `weights_only` will be flipped to `True`. This limits the functions that could be executed during unpickling. Arbitrary objects will no longer be allowed to be loaded via this mode unless they are explicitly allowlisted by the user via `torch.serialization.add_safe_globals`. We recommend you start setting `weights_only=True` for any use case where you don't have full control of the loaded file. Please open an issue on GitHub for any issues related to this experimental feature.\n",
            "  model.load_state_dict(torch.load(\"model_fold_4.pt\"))\n"
          ]
        },
        {
          "output_type": "stream",
          "name": "stdout",
          "text": [
            "예측 결과가 submission.csv로 저장되었습니다!\n"
          ]
        }
      ]
    },
    {
      "cell_type": "markdown",
      "source": [
        "# 6. 칸스 사이트의 컴피티션 페이지에 제출하여 점수 확인해보세요."
      ],
      "metadata": {
        "id": "vPMdyBaDz8GE"
      }
    },
    {
      "cell_type": "code",
      "execution_count": null,
      "metadata": {
        "id": "VreVSDL0bKd4"
      },
      "outputs": [],
      "source": [
        "# pd.DataFrame(pred,columns = ['target']).to_csv('홍길동.csv', inde = Fasle)"
      ]
    }
  ],
  "metadata": {
    "colab": {
      "provenance": []
    },
    "kernelspec": {
      "display_name": "Python 3",
      "name": "python3"
    },
    "language_info": {
      "name": "python"
    }
  },
  "nbformat": 4,
  "nbformat_minor": 0
}