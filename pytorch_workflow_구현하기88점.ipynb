{
  "cells": [
    {
      "cell_type": "code",
      "source": [
        "import torch\n",
        "import cv2\n",
        "import random\n",
        "import numpy as np\n",
        "import os\n",
        "import torch.nn as nn  # 'nn'이라는 별칭으로 torch.nn 모듈을 가져옴\n",
        "import torch.nn.functional as F  # 필요한 경우 함수형 API 사용\n",
        "from torch.utils.data import Dataset, DataLoader\n",
        "import matplotlib.pyplot as plt\n",
        "from torchvision import transforms\n",
        "from PIL import Image  # OpenCV 대신 PIL로 이미지를 읽고 처리\n",
        "import pandas as pd\n",
        "from tqdm.auto import tqdm"
      ],
      "metadata": {
        "id": "qV0es_84EyUV"
      },
      "execution_count": 14,
      "outputs": []
    },
    {
      "cell_type": "markdown",
      "source": [
        "# 평가지표\n",
        "- 정확도\n",
        "- 1~3등 스벅쿠폰"
      ],
      "metadata": {
        "id": "-41jY2d--n9m"
      }
    },
    {
      "cell_type": "markdown",
      "source": [
        "# 데이터셋 다운로드 및 압축 풀기"
      ],
      "metadata": {
        "id": "ZhzdEyv4FB-e"
      }
    },
    {
      "cell_type": "code",
      "source": [
        "!gdown 1Cax_RFJqRkUYlOMyjHc5NGZ_kfd2j2r1\n",
        "!unzip -oqq pizza_steak_sushi.zip"
      ],
      "metadata": {
        "id": "Z_o9qKGBt0AD",
        "colab": {
          "base_uri": "https://localhost:8080/"
        },
        "outputId": "d7de4e3e-3a48-4d5c-ede3-7b819fdad803"
      },
      "execution_count": 15,
      "outputs": [
        {
          "output_type": "stream",
          "name": "stdout",
          "text": [
            "Downloading...\n",
            "From (original): https://drive.google.com/uc?id=1Cax_RFJqRkUYlOMyjHc5NGZ_kfd2j2r1\n",
            "From (redirected): https://drive.google.com/uc?id=1Cax_RFJqRkUYlOMyjHc5NGZ_kfd2j2r1&confirm=t&uuid=dd7747a2-27ca-4056-8594-2c8d7963e06b\n",
            "To: /content/pizza_steak_sushi.zip\n",
            "100% 158M/158M [00:00<00:00, 206MB/s]\n"
          ]
        }
      ]
    },
    {
      "cell_type": "code",
      "source": [
        "def reset_seeds(seed):\n",
        "    random.seed(seed)\n",
        "    os.environ['PYTHONHASHSEED'] = str(seed)\n",
        "    np.random.seed(seed)\n",
        "    torch.manual_seed(seed)\n",
        "    torch.cuda.manual_seed(seed)\n",
        "    torch.backends.cudnn.deterministic = True"
      ],
      "metadata": {
        "id": "ptGuzaN5uDT7"
      },
      "execution_count": 16,
      "outputs": []
    },
    {
      "cell_type": "code",
      "source": [
        "DATA_PATH = \"data/\"\n",
        "SEED = 42\n",
        "\n",
        "device = 'cuda' if torch.cuda.is_available() else 'cpu'\n",
        "device"
      ],
      "metadata": {
        "id": "UAuqPVTGuEow",
        "colab": {
          "base_uri": "https://localhost:8080/",
          "height": 35
        },
        "outputId": "fe20b1f7-bb81-4ff3-f2dd-3657b13cea49"
      },
      "execution_count": 17,
      "outputs": [
        {
          "output_type": "execute_result",
          "data": {
            "text/plain": [
              "'cuda'"
            ],
            "application/vnd.google.colaboratory.intrinsic+json": {
              "type": "string"
            }
          },
          "metadata": {},
          "execution_count": 17
        }
      ]
    },
    {
      "cell_type": "markdown",
      "metadata": {
        "id": "rKQnsDlagA5y"
      },
      "source": [
        "# 음식 분류 데이터셋\n",
        "- 0 : 피자\n",
        "- 1 : 스테이크\n",
        "- 2 : 스시\n"
      ]
    },
    {
      "cell_type": "code",
      "execution_count": 18,
      "metadata": {
        "id": "jctKq2rnrIxD",
        "colab": {
          "base_uri": "https://localhost:8080/"
        },
        "outputId": "9192898f-e6ba-437f-c75e-e00f7b734200"
      },
      "outputs": [
        {
          "output_type": "execute_result",
          "data": {
            "text/plain": [
              "((1649, 2), (1350, 2))"
            ]
          },
          "metadata": {},
          "execution_count": 18
        }
      ],
      "source": [
        "train = pd.read_csv(\"train.csv\")\n",
        "test = pd.read_csv(\"test.csv\")\n",
        "train.shape , test.shape"
      ]
    },
    {
      "cell_type": "code",
      "source": [
        "train.head()\n",
        "\n",
        "# 데이터 폴더 앞에 있는 거\n",
        "# 그럼 data 를 filename 앞에 놓는다."
      ],
      "metadata": {
        "colab": {
          "base_uri": "https://localhost:8080/",
          "height": 206
        },
        "id": "LIVi059jAMMz",
        "outputId": "39462a22-4dd6-450a-ae9b-101e4c0cd128"
      },
      "execution_count": 19,
      "outputs": [
        {
          "output_type": "execute_result",
          "data": {
            "text/plain": [
              "     file_name  target\n",
              "0  2104569.jpg       0\n",
              "1  2038418.jpg       1\n",
              "2  1919810.jpg       2\n",
              "3  2557340.jpg       0\n",
              "4  3621562.jpg       1"
            ],
            "text/html": [
              "\n",
              "  <div id=\"df-2f3dd70c-e96d-4ce6-b1ab-9aa4625728ef\" class=\"colab-df-container\">\n",
              "    <div>\n",
              "<style scoped>\n",
              "    .dataframe tbody tr th:only-of-type {\n",
              "        vertical-align: middle;\n",
              "    }\n",
              "\n",
              "    .dataframe tbody tr th {\n",
              "        vertical-align: top;\n",
              "    }\n",
              "\n",
              "    .dataframe thead th {\n",
              "        text-align: right;\n",
              "    }\n",
              "</style>\n",
              "<table border=\"1\" class=\"dataframe\">\n",
              "  <thead>\n",
              "    <tr style=\"text-align: right;\">\n",
              "      <th></th>\n",
              "      <th>file_name</th>\n",
              "      <th>target</th>\n",
              "    </tr>\n",
              "  </thead>\n",
              "  <tbody>\n",
              "    <tr>\n",
              "      <th>0</th>\n",
              "      <td>2104569.jpg</td>\n",
              "      <td>0</td>\n",
              "    </tr>\n",
              "    <tr>\n",
              "      <th>1</th>\n",
              "      <td>2038418.jpg</td>\n",
              "      <td>1</td>\n",
              "    </tr>\n",
              "    <tr>\n",
              "      <th>2</th>\n",
              "      <td>1919810.jpg</td>\n",
              "      <td>2</td>\n",
              "    </tr>\n",
              "    <tr>\n",
              "      <th>3</th>\n",
              "      <td>2557340.jpg</td>\n",
              "      <td>0</td>\n",
              "    </tr>\n",
              "    <tr>\n",
              "      <th>4</th>\n",
              "      <td>3621562.jpg</td>\n",
              "      <td>1</td>\n",
              "    </tr>\n",
              "  </tbody>\n",
              "</table>\n",
              "</div>\n",
              "    <div class=\"colab-df-buttons\">\n",
              "\n",
              "  <div class=\"colab-df-container\">\n",
              "    <button class=\"colab-df-convert\" onclick=\"convertToInteractive('df-2f3dd70c-e96d-4ce6-b1ab-9aa4625728ef')\"\n",
              "            title=\"Convert this dataframe to an interactive table.\"\n",
              "            style=\"display:none;\">\n",
              "\n",
              "  <svg xmlns=\"http://www.w3.org/2000/svg\" height=\"24px\" viewBox=\"0 -960 960 960\">\n",
              "    <path d=\"M120-120v-720h720v720H120Zm60-500h600v-160H180v160Zm220 220h160v-160H400v160Zm0 220h160v-160H400v160ZM180-400h160v-160H180v160Zm440 0h160v-160H620v160ZM180-180h160v-160H180v160Zm440 0h160v-160H620v160Z\"/>\n",
              "  </svg>\n",
              "    </button>\n",
              "\n",
              "  <style>\n",
              "    .colab-df-container {\n",
              "      display:flex;\n",
              "      gap: 12px;\n",
              "    }\n",
              "\n",
              "    .colab-df-convert {\n",
              "      background-color: #E8F0FE;\n",
              "      border: none;\n",
              "      border-radius: 50%;\n",
              "      cursor: pointer;\n",
              "      display: none;\n",
              "      fill: #1967D2;\n",
              "      height: 32px;\n",
              "      padding: 0 0 0 0;\n",
              "      width: 32px;\n",
              "    }\n",
              "\n",
              "    .colab-df-convert:hover {\n",
              "      background-color: #E2EBFA;\n",
              "      box-shadow: 0px 1px 2px rgba(60, 64, 67, 0.3), 0px 1px 3px 1px rgba(60, 64, 67, 0.15);\n",
              "      fill: #174EA6;\n",
              "    }\n",
              "\n",
              "    .colab-df-buttons div {\n",
              "      margin-bottom: 4px;\n",
              "    }\n",
              "\n",
              "    [theme=dark] .colab-df-convert {\n",
              "      background-color: #3B4455;\n",
              "      fill: #D2E3FC;\n",
              "    }\n",
              "\n",
              "    [theme=dark] .colab-df-convert:hover {\n",
              "      background-color: #434B5C;\n",
              "      box-shadow: 0px 1px 3px 1px rgba(0, 0, 0, 0.15);\n",
              "      filter: drop-shadow(0px 1px 2px rgba(0, 0, 0, 0.3));\n",
              "      fill: #FFFFFF;\n",
              "    }\n",
              "  </style>\n",
              "\n",
              "    <script>\n",
              "      const buttonEl =\n",
              "        document.querySelector('#df-2f3dd70c-e96d-4ce6-b1ab-9aa4625728ef button.colab-df-convert');\n",
              "      buttonEl.style.display =\n",
              "        google.colab.kernel.accessAllowed ? 'block' : 'none';\n",
              "\n",
              "      async function convertToInteractive(key) {\n",
              "        const element = document.querySelector('#df-2f3dd70c-e96d-4ce6-b1ab-9aa4625728ef');\n",
              "        const dataTable =\n",
              "          await google.colab.kernel.invokeFunction('convertToInteractive',\n",
              "                                                    [key], {});\n",
              "        if (!dataTable) return;\n",
              "\n",
              "        const docLinkHtml = 'Like what you see? Visit the ' +\n",
              "          '<a target=\"_blank\" href=https://colab.research.google.com/notebooks/data_table.ipynb>data table notebook</a>'\n",
              "          + ' to learn more about interactive tables.';\n",
              "        element.innerHTML = '';\n",
              "        dataTable['output_type'] = 'display_data';\n",
              "        await google.colab.output.renderOutput(dataTable, element);\n",
              "        const docLink = document.createElement('div');\n",
              "        docLink.innerHTML = docLinkHtml;\n",
              "        element.appendChild(docLink);\n",
              "      }\n",
              "    </script>\n",
              "  </div>\n",
              "\n",
              "\n",
              "<div id=\"df-685b7e6e-ef2e-4ec5-9acc-d704f1c25ff2\">\n",
              "  <button class=\"colab-df-quickchart\" onclick=\"quickchart('df-685b7e6e-ef2e-4ec5-9acc-d704f1c25ff2')\"\n",
              "            title=\"Suggest charts\"\n",
              "            style=\"display:none;\">\n",
              "\n",
              "<svg xmlns=\"http://www.w3.org/2000/svg\" height=\"24px\"viewBox=\"0 0 24 24\"\n",
              "     width=\"24px\">\n",
              "    <g>\n",
              "        <path d=\"M19 3H5c-1.1 0-2 .9-2 2v14c0 1.1.9 2 2 2h14c1.1 0 2-.9 2-2V5c0-1.1-.9-2-2-2zM9 17H7v-7h2v7zm4 0h-2V7h2v10zm4 0h-2v-4h2v4z\"/>\n",
              "    </g>\n",
              "</svg>\n",
              "  </button>\n",
              "\n",
              "<style>\n",
              "  .colab-df-quickchart {\n",
              "      --bg-color: #E8F0FE;\n",
              "      --fill-color: #1967D2;\n",
              "      --hover-bg-color: #E2EBFA;\n",
              "      --hover-fill-color: #174EA6;\n",
              "      --disabled-fill-color: #AAA;\n",
              "      --disabled-bg-color: #DDD;\n",
              "  }\n",
              "\n",
              "  [theme=dark] .colab-df-quickchart {\n",
              "      --bg-color: #3B4455;\n",
              "      --fill-color: #D2E3FC;\n",
              "      --hover-bg-color: #434B5C;\n",
              "      --hover-fill-color: #FFFFFF;\n",
              "      --disabled-bg-color: #3B4455;\n",
              "      --disabled-fill-color: #666;\n",
              "  }\n",
              "\n",
              "  .colab-df-quickchart {\n",
              "    background-color: var(--bg-color);\n",
              "    border: none;\n",
              "    border-radius: 50%;\n",
              "    cursor: pointer;\n",
              "    display: none;\n",
              "    fill: var(--fill-color);\n",
              "    height: 32px;\n",
              "    padding: 0;\n",
              "    width: 32px;\n",
              "  }\n",
              "\n",
              "  .colab-df-quickchart:hover {\n",
              "    background-color: var(--hover-bg-color);\n",
              "    box-shadow: 0 1px 2px rgba(60, 64, 67, 0.3), 0 1px 3px 1px rgba(60, 64, 67, 0.15);\n",
              "    fill: var(--button-hover-fill-color);\n",
              "  }\n",
              "\n",
              "  .colab-df-quickchart-complete:disabled,\n",
              "  .colab-df-quickchart-complete:disabled:hover {\n",
              "    background-color: var(--disabled-bg-color);\n",
              "    fill: var(--disabled-fill-color);\n",
              "    box-shadow: none;\n",
              "  }\n",
              "\n",
              "  .colab-df-spinner {\n",
              "    border: 2px solid var(--fill-color);\n",
              "    border-color: transparent;\n",
              "    border-bottom-color: var(--fill-color);\n",
              "    animation:\n",
              "      spin 1s steps(1) infinite;\n",
              "  }\n",
              "\n",
              "  @keyframes spin {\n",
              "    0% {\n",
              "      border-color: transparent;\n",
              "      border-bottom-color: var(--fill-color);\n",
              "      border-left-color: var(--fill-color);\n",
              "    }\n",
              "    20% {\n",
              "      border-color: transparent;\n",
              "      border-left-color: var(--fill-color);\n",
              "      border-top-color: var(--fill-color);\n",
              "    }\n",
              "    30% {\n",
              "      border-color: transparent;\n",
              "      border-left-color: var(--fill-color);\n",
              "      border-top-color: var(--fill-color);\n",
              "      border-right-color: var(--fill-color);\n",
              "    }\n",
              "    40% {\n",
              "      border-color: transparent;\n",
              "      border-right-color: var(--fill-color);\n",
              "      border-top-color: var(--fill-color);\n",
              "    }\n",
              "    60% {\n",
              "      border-color: transparent;\n",
              "      border-right-color: var(--fill-color);\n",
              "    }\n",
              "    80% {\n",
              "      border-color: transparent;\n",
              "      border-right-color: var(--fill-color);\n",
              "      border-bottom-color: var(--fill-color);\n",
              "    }\n",
              "    90% {\n",
              "      border-color: transparent;\n",
              "      border-bottom-color: var(--fill-color);\n",
              "    }\n",
              "  }\n",
              "</style>\n",
              "\n",
              "  <script>\n",
              "    async function quickchart(key) {\n",
              "      const quickchartButtonEl =\n",
              "        document.querySelector('#' + key + ' button');\n",
              "      quickchartButtonEl.disabled = true;  // To prevent multiple clicks.\n",
              "      quickchartButtonEl.classList.add('colab-df-spinner');\n",
              "      try {\n",
              "        const charts = await google.colab.kernel.invokeFunction(\n",
              "            'suggestCharts', [key], {});\n",
              "      } catch (error) {\n",
              "        console.error('Error during call to suggestCharts:', error);\n",
              "      }\n",
              "      quickchartButtonEl.classList.remove('colab-df-spinner');\n",
              "      quickchartButtonEl.classList.add('colab-df-quickchart-complete');\n",
              "    }\n",
              "    (() => {\n",
              "      let quickchartButtonEl =\n",
              "        document.querySelector('#df-685b7e6e-ef2e-4ec5-9acc-d704f1c25ff2 button');\n",
              "      quickchartButtonEl.style.display =\n",
              "        google.colab.kernel.accessAllowed ? 'block' : 'none';\n",
              "    })();\n",
              "  </script>\n",
              "</div>\n",
              "\n",
              "    </div>\n",
              "  </div>\n"
            ],
            "application/vnd.google.colaboratory.intrinsic+json": {
              "type": "dataframe",
              "summary": "{\n  \"name\": \"# \\uadf8\\ub7fc data \\ub97c filename \\uc55e\\uc5d0 \\ub193\\ub294\\ub2e4\",\n  \"rows\": 5,\n  \"fields\": [\n    {\n      \"column\": \"file_name\",\n      \"properties\": {\n        \"dtype\": \"string\",\n        \"num_unique_values\": 5,\n        \"samples\": [\n          \"2038418.jpg\",\n          \"3621562.jpg\",\n          \"1919810.jpg\"\n        ],\n        \"semantic_type\": \"\",\n        \"description\": \"\"\n      }\n    },\n    {\n      \"column\": \"target\",\n      \"properties\": {\n        \"dtype\": \"number\",\n        \"std\": 0,\n        \"min\": 0,\n        \"max\": 2,\n        \"num_unique_values\": 3,\n        \"samples\": [\n          0,\n          1,\n          2\n        ],\n        \"semantic_type\": \"\",\n        \"description\": \"\"\n      }\n    }\n  ]\n}"
            }
          },
          "metadata": {},
          "execution_count": 19
        }
      ]
    },
    {
      "cell_type": "code",
      "source": [
        "train_path = (DATA_PATH + train['file_name']).to_numpy()\n",
        "test_path = (DATA_PATH+test['file_name']).to_numpy()\n",
        "target = (train['target']).to_numpy()"
      ],
      "metadata": {
        "id": "O1X93ZWkKP8b"
      },
      "execution_count": 20,
      "outputs": []
    },
    {
      "cell_type": "code",
      "source": [
        "len(train_path)"
      ],
      "metadata": {
        "colab": {
          "base_uri": "https://localhost:8080/"
        },
        "id": "zrD58g48bxk9",
        "outputId": "0268b3d2-e927-4408-d243-f0c7f0bb6de3"
      },
      "execution_count": 21,
      "outputs": [
        {
          "output_type": "execute_result",
          "data": {
            "text/plain": [
              "1649"
            ]
          },
          "metadata": {},
          "execution_count": 21
        }
      ]
    },
    {
      "cell_type": "markdown",
      "metadata": {
        "id": "nPpndZeqB0e4"
      },
      "source": [
        "# 1. 데이터셋 클래스 만들기\n"
      ]
    },
    {
      "cell_type": "code",
      "source": [
        "from torchvision import transforms\n",
        "\n",
        "class FoodDataset(Dataset):\n",
        "    def __init__(self, image_paths, labels=None, resize=(224, 224), augment=False):\n",
        "        self.image_paths = image_paths\n",
        "        self.labels = labels\n",
        "        self.resize = resize\n",
        "        self.augment = augment\n",
        "\n",
        "        # Transform 정의\n",
        "        if self.augment:\n",
        "            self.transform = transforms.Compose([\n",
        "                transforms.Resize(self.resize),\n",
        "                transforms.RandomHorizontalFlip(p=0.5),  # 좌우 반전\n",
        "                transforms.RandomVerticalFlip(p=0.2),  # 상하 반전\n",
        "                transforms.ColorJitter(brightness=0.2, contrast=0.2, saturation=0.2, hue=0.1),  # 색상 변화\n",
        "                transforms.RandomRotation(degrees=15),  # 회전\n",
        "                transforms.RandomAffine(degrees=20, translate=(0.1, 0.1), scale=(0.8, 1.2)),  # Affine 변환\n",
        "                transforms.RandomPerspective(distortion_scale=0.2, p=0.5),  # 원근 효과\n",
        "                transforms.GaussianBlur(kernel_size=(5, 5), sigma=(0.1, 2.0)),  # 가우시안 블러\n",
        "                transforms.ToTensor(),\n",
        "                transforms.Normalize(mean=[0.485, 0.456, 0.406], std=[0.229, 0.224, 0.225]),  # 정규화\n",
        "            ])\n",
        "        else:\n",
        "            self.transform = transforms.Compose([\n",
        "                transforms.Resize(self.resize),\n",
        "                transforms.ToTensor(),\n",
        "                transforms.Normalize(mean=[0.485, 0.456, 0.406], std=[0.229, 0.224, 0.225]),\n",
        "            ])\n",
        "\n",
        "    def __len__(self):\n",
        "        return len(self.image_paths)\n",
        "\n",
        "    def __getitem__(self, idx):\n",
        "        img_path = self.image_paths[idx]\n",
        "        try:\n",
        "            img = Image.open(img_path).convert(\"RGB\")\n",
        "        except Exception as e:\n",
        "            print(f\"Error loading image {img_path}: {e}\")\n",
        "            return None  # 또는 대체 데이터 반환\n",
        "\n",
        "        img = self.transform(img)\n",
        "\n",
        "        if self.labels is not None:\n",
        "            label = self.labels[idx]\n",
        "            return {\"x\": img, \"y\": torch.tensor(label, dtype=torch.long)}\n",
        "        return {\"x\": img}  # 수정된 부분\n"
      ],
      "metadata": {
        "id": "JcxrqfAgkn9i"
      },
      "execution_count": 22,
      "outputs": []
    },
    {
      "cell_type": "code",
      "source": [
        "import torch\n",
        "import torch.nn as nn\n",
        "from torchvision.models import resnet18\n",
        "\n",
        "class ImprovedResNetClassifier(nn.Module):\n",
        "    def __init__(self, num_classes=3, pretrained=True):\n",
        "        super(ImprovedResNetClassifier, self).__init__()\n",
        "        # ResNet18 모델 불러오기 (사전 학습된 가중치 활용)\n",
        "        self.resnet = resnet18(pretrained=pretrained)\n",
        "\n",
        "        # 마지막 Fully Connected Layer를 수정하여 클래스 수에 맞게 출력\n",
        "        self.resnet.fc = nn.Sequential(\n",
        "            nn.Linear(self.resnet.fc.in_features, 256),\n",
        "            nn.ReLU(),\n",
        "            nn.Dropout(0.5),  # Dropout 추가로 과적합 방지\n",
        "            nn.Linear(256, num_classes)\n",
        "        )\n",
        "\n",
        "    def forward(self, x):\n",
        "        return self.resnet(x)\n"
      ],
      "metadata": {
        "id": "T6nb-2tck0uL"
      },
      "execution_count": 23,
      "outputs": []
    },
    {
      "cell_type": "code",
      "source": [
        "model = ImprovedResNetClassifier(num_classes=3).to(device)\n",
        "optimizer = torch.optim.Adam(model.parameters(), lr=0.001)\n"
      ],
      "metadata": {
        "colab": {
          "base_uri": "https://localhost:8080/"
        },
        "id": "qbnDWGIV__m0",
        "outputId": "b5443537-fe52-457b-bf83-71d2c9c34051"
      },
      "execution_count": 24,
      "outputs": [
        {
          "output_type": "stream",
          "name": "stderr",
          "text": [
            "/usr/local/lib/python3.10/dist-packages/torchvision/models/_utils.py:208: UserWarning: The parameter 'pretrained' is deprecated since 0.13 and may be removed in the future, please use 'weights' instead.\n",
            "  warnings.warn(\n",
            "/usr/local/lib/python3.10/dist-packages/torchvision/models/_utils.py:223: UserWarning: Arguments other than a weight enum or `None` for 'weights' are deprecated since 0.13 and may be removed in the future. The current behavior is equivalent to passing `weights=ResNet18_Weights.IMAGENET1K_V1`. You can also use `weights=ResNet18_Weights.DEFAULT` to get the most up-to-date weights.\n",
            "  warnings.warn(msg)\n"
          ]
        }
      ]
    },
    {
      "cell_type": "markdown",
      "source": [
        "# 2. 학습 loop 함수 만들기"
      ],
      "metadata": {
        "id": "yVPndBqJzWrq"
      }
    },
    {
      "cell_type": "code",
      "source": [
        "def train_loop(dl, model, loss_fn, optimizer, device):\n",
        "    epoch_loss = 0\n",
        "    model.train()  # 모델을 학습 모드로 설정\n",
        "    for batch in dl:\n",
        "        # 입력 데이터와 레이블을 디바이스로 이동\n",
        "        x = batch[\"x\"].to(device)\n",
        "        y = batch[\"y\"].to(device)\n",
        "\n",
        "        # 모델 예측\n",
        "        pred = model(x)\n",
        "\n",
        "        # 손실 계산\n",
        "        loss = loss_fn(pred, y)\n",
        "\n",
        "        # 역전파 및 최적화\n",
        "        optimizer.zero_grad()\n",
        "        loss.backward()\n",
        "        optimizer.step()\n",
        "\n",
        "        # 손실 누적\n",
        "        epoch_loss += loss.item()\n",
        "\n",
        "    # 평균 손실 반환\n",
        "    epoch_loss /= len(dl)\n",
        "    return epoch_loss"
      ],
      "metadata": {
        "id": "lBGHoFrIlEMR"
      },
      "execution_count": 25,
      "outputs": []
    },
    {
      "cell_type": "markdown",
      "source": [
        "# 3. 테스트 loop 함수 만들기\n",
        "- 데이터 예측 기능 및 검증데이터 손실값 반환하는 기능"
      ],
      "metadata": {
        "id": "a5QXfI4CzbR2"
      }
    },
    {
      "cell_type": "code",
      "source": [
        "@torch.no_grad()\n",
        "def test_loop(dl, model, loss_fn, device):\n",
        "    epoch_loss = 0\n",
        "    model.eval()  # 모델을 평가 모드로 설정\n",
        "    pred_list = []\n",
        "\n",
        "    for batch in dl:\n",
        "        # 입력 데이터를 디바이스로 이동\n",
        "        x = batch[\"x\"].to(device)\n",
        "        y = batch[\"y\"].to(device) if \"y\" in batch else None\n",
        "\n",
        "        # 모델 예측\n",
        "        pred = model(x)\n",
        "\n",
        "        # 손실 계산 (레이블이 제공된 경우)\n",
        "        if y is not None:\n",
        "            loss = loss_fn(pred, y)\n",
        "            epoch_loss += loss.item()\n",
        "\n",
        "        # 확률 값으로 변환 (Softmax)\n",
        "        pred = torch.softmax(pred, dim=1)\n",
        "        pred_list.append(pred.cpu().numpy())\n",
        "\n",
        "    # 예측 결과와 평균 손실 반환\n",
        "    pred = np.concatenate(pred_list)\n",
        "    epoch_loss /= len(dl)\n",
        "    return epoch_loss, pred"
      ],
      "metadata": {
        "id": "sHCHL3F4lONY"
      },
      "execution_count": 26,
      "outputs": []
    },
    {
      "cell_type": "markdown",
      "source": [
        "# 4. 학습하기\n"
      ],
      "metadata": {
        "id": "d17zL790zwkg"
      }
    },
    {
      "cell_type": "code",
      "source": [
        "from sklearn.model_selection import KFold\n",
        "from sklearn.metrics import accuracy_score\n",
        "import torch\n",
        "import numpy as np\n",
        "\n",
        "# 하이퍼파라미터\n",
        "n_splits = 5\n",
        "batch_size = 32\n",
        "epochs = 100\n",
        "loss_fn = torch.nn.CrossEntropyLoss()  # 다중 클래스 손실 함수\n",
        "cv = KFold(n_splits=n_splits, shuffle=True, random_state=SEED)\n",
        "\n",
        "reset_seeds(SEED)  # 시드 고정\n",
        "score_list = []\n",
        "\n",
        "for i, (tri, vai) in enumerate(cv.split(train_path)):\n",
        "    # 모델 초기화\n",
        "    model = ImprovedResNetClassifier(num_classes=3).to(device)  # 다중 클래스 모델\n",
        "    optimizer = torch.optim.Adam(model.parameters(), lr=0.001)\n",
        "\n",
        "    # 데이터셋 및 데이터로더 생성\n",
        "    train_dt = FoodDataset(train_path[tri], target[tri])\n",
        "    train_dl = torch.utils.data.DataLoader(train_dt, shuffle=True, batch_size=batch_size)\n",
        "\n",
        "    valid_dt = FoodDataset(train_path[vai], target[vai])\n",
        "    valid_dl = torch.utils.data.DataLoader(valid_dt, shuffle=False, batch_size=batch_size)\n",
        "\n",
        "    best_score = 0\n",
        "    patience = 0\n",
        "\n",
        "    for epoch in range(epochs):\n",
        "        # 학습 루프\n",
        "        train_loss = train_loop(train_dl, model, loss_fn, optimizer, device)\n",
        "\n",
        "        # 검증 루프\n",
        "        valid_loss, pred = test_loop(valid_dl, model, loss_fn, device)\n",
        "\n",
        "        # 다중 클래스 예측 (argmax로 클래스 선택)\n",
        "        pred_classes = pred.argmax(axis=1)\n",
        "\n",
        "        # 정확도 계산\n",
        "        score = accuracy_score(target[vai], pred_classes)\n",
        "\n",
        "        print(f\"Epoch {epoch + 1}, Train Loss: {train_loss:.4f}, Valid Loss: {valid_loss:.4f}, Accuracy: {score:.4f}\")\n",
        "\n",
        "        # Early Stopping 체크\n",
        "        patience += 1\n",
        "        if score > best_score:\n",
        "            patience = 0\n",
        "            best_score = score\n",
        "            torch.save(model.state_dict(), f\"model_fold_{i}.pt\")  # 최적 모델 저장\n",
        "\n",
        "        if patience == 5:  # Early Stopping\n",
        "            break\n",
        "\n",
        "    print(f\"Fold-{i}: Best Accuracy: {best_score:.4f}\")\n",
        "    score_list.append(best_score)\n",
        "\n",
        "print(f\"Cross-Validation Average Accuracy: {np.mean(score_list):.4f}\")\n"
      ],
      "metadata": {
        "collapsed": true,
        "id": "7CBXQSlzleCP"
      },
      "execution_count": null,
      "outputs": []
    },
    {
      "cell_type": "markdown",
      "source": [
        "Fold-0: Best Accuracy: 0.8879  \n",
        "Fold-1: Best Accuracy: 0.8667   \n",
        "Fold-2: Best Accuracy: 0.8848  \n",
        "Fold-3: Best Accuracy: 0.8788  \n",
        "Fold-4: Best Accuracy: 0.8602  "
      ],
      "metadata": {
        "id": "NwoKolsqCgdI"
      }
    },
    {
      "cell_type": "markdown",
      "source": [
        "# 5. 테스트 데이터 예측"
      ],
      "metadata": {
        "id": "4Tubiiwgz32Q"
      }
    },
    {
      "cell_type": "code",
      "source": [
        "# 테스트 데이터셋 생성\n",
        "test_dt = FoodDataset(test_path)  # 레이블 없이 생성\n",
        "test_dl = DataLoader(test_dt, batch_size=32, shuffle=False)"
      ],
      "metadata": {
        "id": "7alV-2hZt606"
      },
      "execution_count": 28,
      "outputs": []
    },
    {
      "cell_type": "code",
      "source": [
        "# 가장 높은 점수를 기록한 Fold-1 모델 로드\n",
        "model = ImprovedResNetClassifier(num_classes=3).to(device)\n",
        "model.load_state_dict(torch.load(\"model_fold_0.pt\"))\n",
        "model.eval()  # 평가 모드로 설정\n",
        "\n",
        "# 테스트 데이터 예측\n",
        "predictions = []\n",
        "with torch.no_grad():\n",
        "    for batch in test_dl:\n",
        "        x = batch[\"x\"].to(device)\n",
        "        outputs = model(x)\n",
        "        preds = torch.argmax(torch.softmax(outputs, dim=1), dim=1)  # 클래스 인덱스 예측\n",
        "        predictions.extend(preds.cpu().numpy())  # numpy 배열로 변환하여 저장\n",
        "\n",
        "# 예측 결과를 DataFrame으로 변환\n",
        "submission = pd.DataFrame({\n",
        "    \"file_name\": test[\"file_name\"],  # 테스트 데이터 파일 이름\n",
        "    \"target\": predictions            # 예측된 클래스\n",
        "})\n",
        "\n",
        "# CSV 파일 저장\n",
        "submission.to_csv(\"test3.csv\", index=False)\n",
        "print(\"예측 결과가 submission.csv로 저장되었습니다!\")"
      ],
      "metadata": {
        "colab": {
          "base_uri": "https://localhost:8080/"
        },
        "id": "cbJVsnU4ttvL",
        "outputId": "cfaa1c95-bc1d-404a-80bf-b69d852d5b8b"
      },
      "execution_count": 30,
      "outputs": [
        {
          "output_type": "stream",
          "name": "stderr",
          "text": [
            "<ipython-input-30-1b0d5fbeb2b7>:3: FutureWarning: You are using `torch.load` with `weights_only=False` (the current default value), which uses the default pickle module implicitly. It is possible to construct malicious pickle data which will execute arbitrary code during unpickling (See https://github.com/pytorch/pytorch/blob/main/SECURITY.md#untrusted-models for more details). In a future release, the default value for `weights_only` will be flipped to `True`. This limits the functions that could be executed during unpickling. Arbitrary objects will no longer be allowed to be loaded via this mode unless they are explicitly allowlisted by the user via `torch.serialization.add_safe_globals`. We recommend you start setting `weights_only=True` for any use case where you don't have full control of the loaded file. Please open an issue on GitHub for any issues related to this experimental feature.\n",
            "  model.load_state_dict(torch.load(\"model_fold_0.pt\"))\n"
          ]
        },
        {
          "output_type": "stream",
          "name": "stdout",
          "text": [
            "예측 결과가 submission.csv로 저장되었습니다!\n"
          ]
        }
      ]
    },
    {
      "cell_type": "markdown",
      "source": [
        "# 6. 칸스 사이트의 컴피티션 페이지에 제출하여 점수 확인해보세요."
      ],
      "metadata": {
        "id": "vPMdyBaDz8GE"
      }
    },
    {
      "cell_type": "code",
      "execution_count": null,
      "metadata": {
        "id": "VreVSDL0bKd4"
      },
      "outputs": [],
      "source": [
        "# pd.DataFrame(pred,columns = ['target']).to_csv('홍길동.csv', inde = Fasle)"
      ]
    }
  ],
  "metadata": {
    "colab": {
      "provenance": [],
      "gpuType": "T4"
    },
    "kernelspec": {
      "display_name": "Python 3",
      "name": "python3"
    },
    "language_info": {
      "name": "python"
    },
    "accelerator": "GPU"
  },
  "nbformat": 4,
  "nbformat_minor": 0
}